{
 "cells": [
  {
   "cell_type": "markdown",
   "metadata": {},
   "source": [
    "# Zadanie 1 - MLP Clasificator\n",
    "### Vypracoval: Andrej Petričko, Oleksandr Lytvyn\n",
    "Zadanie úlohy:\n",
    "Implementujte a natrénujte MLP vo frameworku Tensorflow a PyTorch (LibTorch) tak,\n",
    "že bude úspešný (>>lepší ako náhoda) na probléme ručne písaných čísel."
   ]
  },
  {
   "cell_type": "markdown",
   "metadata": {},
   "source": [
    "## Importy"
   ]
  },
  {
   "cell_type": "code",
   "execution_count": 1,
   "metadata": {
    "pycharm": {
     "name": "#%%\n"
    }
   },
   "outputs": [],
   "source": [
    "import numpy as np\n",
    "import pandas as pd\n",
    "\n",
    "\n",
    "import wandb\n",
    "import matplotlib.pyplot as plt\n",
    "import seaborn as sn\n",
    "\n",
    "from collections import Counter\n",
    "\n",
    "\n",
    "import torch\n",
    "import torch.nn as nn\n",
    "import torch.nn.functional as F\n",
    "from torch.utils.data import Dataset, DataLoader\n",
    "import torchvision\n",
    "import torchvision.transforms as transforms\n",
    "\n",
    "\n",
    "from sklearn.model_selection import train_test_split\n",
    "from sklearn.metrics import confusion_matrix\n",
    "\n",
    "import tensorflow.compat.v1 as tf\n",
    "\n",
    "\n",
    "\n",
    "\n"
   ]
  },
  {
   "cell_type": "markdown",
   "metadata": {
    "pycharm": {
     "name": "#%% md\n"
    }
   },
   "source": [
    "## Načítanie datasetu\n"
   ]
  },
  {
   "cell_type": "code",
   "execution_count": 2,
   "metadata": {
    "pycharm": {
     "name": "#%%\n"
    }
   },
   "outputs": [
    {
     "name": "stdout",
     "output_type": "stream",
     "text": [
      "(42000, 785)\n"
     ]
    },
    {
     "data": {
      "text/plain": "   label  pixel0  pixel1  pixel2  pixel3  pixel4  pixel5  pixel6  pixel7  \\\n0      1       0       0       0       0       0       0       0       0   \n1      0       0       0       0       0       0       0       0       0   \n2      1       0       0       0       0       0       0       0       0   \n3      4       0       0       0       0       0       0       0       0   \n4      0       0       0       0       0       0       0       0       0   \n\n   pixel8  ...  pixel774  pixel775  pixel776  pixel777  pixel778  pixel779  \\\n0       0  ...         0         0         0         0         0         0   \n1       0  ...         0         0         0         0         0         0   \n2       0  ...         0         0         0         0         0         0   \n3       0  ...         0         0         0         0         0         0   \n4       0  ...         0         0         0         0         0         0   \n\n   pixel780  pixel781  pixel782  pixel783  \n0         0         0         0         0  \n1         0         0         0         0  \n2         0         0         0         0  \n3         0         0         0         0  \n4         0         0         0         0  \n\n[5 rows x 785 columns]",
      "text/html": "<div>\n<style scoped>\n    .dataframe tbody tr th:only-of-type {\n        vertical-align: middle;\n    }\n\n    .dataframe tbody tr th {\n        vertical-align: top;\n    }\n\n    .dataframe thead th {\n        text-align: right;\n    }\n</style>\n<table border=\"1\" class=\"dataframe\">\n  <thead>\n    <tr style=\"text-align: right;\">\n      <th></th>\n      <th>label</th>\n      <th>pixel0</th>\n      <th>pixel1</th>\n      <th>pixel2</th>\n      <th>pixel3</th>\n      <th>pixel4</th>\n      <th>pixel5</th>\n      <th>pixel6</th>\n      <th>pixel7</th>\n      <th>pixel8</th>\n      <th>...</th>\n      <th>pixel774</th>\n      <th>pixel775</th>\n      <th>pixel776</th>\n      <th>pixel777</th>\n      <th>pixel778</th>\n      <th>pixel779</th>\n      <th>pixel780</th>\n      <th>pixel781</th>\n      <th>pixel782</th>\n      <th>pixel783</th>\n    </tr>\n  </thead>\n  <tbody>\n    <tr>\n      <th>0</th>\n      <td>1</td>\n      <td>0</td>\n      <td>0</td>\n      <td>0</td>\n      <td>0</td>\n      <td>0</td>\n      <td>0</td>\n      <td>0</td>\n      <td>0</td>\n      <td>0</td>\n      <td>...</td>\n      <td>0</td>\n      <td>0</td>\n      <td>0</td>\n      <td>0</td>\n      <td>0</td>\n      <td>0</td>\n      <td>0</td>\n      <td>0</td>\n      <td>0</td>\n      <td>0</td>\n    </tr>\n    <tr>\n      <th>1</th>\n      <td>0</td>\n      <td>0</td>\n      <td>0</td>\n      <td>0</td>\n      <td>0</td>\n      <td>0</td>\n      <td>0</td>\n      <td>0</td>\n      <td>0</td>\n      <td>0</td>\n      <td>...</td>\n      <td>0</td>\n      <td>0</td>\n      <td>0</td>\n      <td>0</td>\n      <td>0</td>\n      <td>0</td>\n      <td>0</td>\n      <td>0</td>\n      <td>0</td>\n      <td>0</td>\n    </tr>\n    <tr>\n      <th>2</th>\n      <td>1</td>\n      <td>0</td>\n      <td>0</td>\n      <td>0</td>\n      <td>0</td>\n      <td>0</td>\n      <td>0</td>\n      <td>0</td>\n      <td>0</td>\n      <td>0</td>\n      <td>...</td>\n      <td>0</td>\n      <td>0</td>\n      <td>0</td>\n      <td>0</td>\n      <td>0</td>\n      <td>0</td>\n      <td>0</td>\n      <td>0</td>\n      <td>0</td>\n      <td>0</td>\n    </tr>\n    <tr>\n      <th>3</th>\n      <td>4</td>\n      <td>0</td>\n      <td>0</td>\n      <td>0</td>\n      <td>0</td>\n      <td>0</td>\n      <td>0</td>\n      <td>0</td>\n      <td>0</td>\n      <td>0</td>\n      <td>...</td>\n      <td>0</td>\n      <td>0</td>\n      <td>0</td>\n      <td>0</td>\n      <td>0</td>\n      <td>0</td>\n      <td>0</td>\n      <td>0</td>\n      <td>0</td>\n      <td>0</td>\n    </tr>\n    <tr>\n      <th>4</th>\n      <td>0</td>\n      <td>0</td>\n      <td>0</td>\n      <td>0</td>\n      <td>0</td>\n      <td>0</td>\n      <td>0</td>\n      <td>0</td>\n      <td>0</td>\n      <td>0</td>\n      <td>...</td>\n      <td>0</td>\n      <td>0</td>\n      <td>0</td>\n      <td>0</td>\n      <td>0</td>\n      <td>0</td>\n      <td>0</td>\n      <td>0</td>\n      <td>0</td>\n      <td>0</td>\n    </tr>\n  </tbody>\n</table>\n<p>5 rows × 785 columns</p>\n</div>"
     },
     "execution_count": 2,
     "metadata": {},
     "output_type": "execute_result"
    }
   ],
   "source": [
    "train = pd.read_csv(\"./data/train.csv\")\n",
    "print(train.shape)\n",
    "train.head()"
   ]
  },
  {
   "cell_type": "code",
   "execution_count": 4,
   "metadata": {
    "pycharm": {
     "name": "#%%\n"
    }
   },
   "outputs": [
    {
     "name": "stdout",
     "output_type": "stream",
     "text": [
      "(28000, 784)\n"
     ]
    },
    {
     "data": {
      "text/html": [
       "<div>\n",
       "<style scoped>\n",
       "    .dataframe tbody tr th:only-of-type {\n",
       "        vertical-align: middle;\n",
       "    }\n",
       "\n",
       "    .dataframe tbody tr th {\n",
       "        vertical-align: top;\n",
       "    }\n",
       "\n",
       "    .dataframe thead th {\n",
       "        text-align: right;\n",
       "    }\n",
       "</style>\n",
       "<table border=\"1\" class=\"dataframe\">\n",
       "  <thead>\n",
       "    <tr style=\"text-align: right;\">\n",
       "      <th></th>\n",
       "      <th>pixel0</th>\n",
       "      <th>pixel1</th>\n",
       "      <th>pixel2</th>\n",
       "      <th>pixel3</th>\n",
       "      <th>pixel4</th>\n",
       "      <th>pixel5</th>\n",
       "      <th>pixel6</th>\n",
       "      <th>pixel7</th>\n",
       "      <th>pixel8</th>\n",
       "      <th>pixel9</th>\n",
       "      <th>...</th>\n",
       "      <th>pixel774</th>\n",
       "      <th>pixel775</th>\n",
       "      <th>pixel776</th>\n",
       "      <th>pixel777</th>\n",
       "      <th>pixel778</th>\n",
       "      <th>pixel779</th>\n",
       "      <th>pixel780</th>\n",
       "      <th>pixel781</th>\n",
       "      <th>pixel782</th>\n",
       "      <th>pixel783</th>\n",
       "    </tr>\n",
       "  </thead>\n",
       "  <tbody>\n",
       "    <tr>\n",
       "      <th>0</th>\n",
       "      <td>0</td>\n",
       "      <td>0</td>\n",
       "      <td>0</td>\n",
       "      <td>0</td>\n",
       "      <td>0</td>\n",
       "      <td>0</td>\n",
       "      <td>0</td>\n",
       "      <td>0</td>\n",
       "      <td>0</td>\n",
       "      <td>0</td>\n",
       "      <td>...</td>\n",
       "      <td>0</td>\n",
       "      <td>0</td>\n",
       "      <td>0</td>\n",
       "      <td>0</td>\n",
       "      <td>0</td>\n",
       "      <td>0</td>\n",
       "      <td>0</td>\n",
       "      <td>0</td>\n",
       "      <td>0</td>\n",
       "      <td>0</td>\n",
       "    </tr>\n",
       "    <tr>\n",
       "      <th>1</th>\n",
       "      <td>0</td>\n",
       "      <td>0</td>\n",
       "      <td>0</td>\n",
       "      <td>0</td>\n",
       "      <td>0</td>\n",
       "      <td>0</td>\n",
       "      <td>0</td>\n",
       "      <td>0</td>\n",
       "      <td>0</td>\n",
       "      <td>0</td>\n",
       "      <td>...</td>\n",
       "      <td>0</td>\n",
       "      <td>0</td>\n",
       "      <td>0</td>\n",
       "      <td>0</td>\n",
       "      <td>0</td>\n",
       "      <td>0</td>\n",
       "      <td>0</td>\n",
       "      <td>0</td>\n",
       "      <td>0</td>\n",
       "      <td>0</td>\n",
       "    </tr>\n",
       "    <tr>\n",
       "      <th>2</th>\n",
       "      <td>0</td>\n",
       "      <td>0</td>\n",
       "      <td>0</td>\n",
       "      <td>0</td>\n",
       "      <td>0</td>\n",
       "      <td>0</td>\n",
       "      <td>0</td>\n",
       "      <td>0</td>\n",
       "      <td>0</td>\n",
       "      <td>0</td>\n",
       "      <td>...</td>\n",
       "      <td>0</td>\n",
       "      <td>0</td>\n",
       "      <td>0</td>\n",
       "      <td>0</td>\n",
       "      <td>0</td>\n",
       "      <td>0</td>\n",
       "      <td>0</td>\n",
       "      <td>0</td>\n",
       "      <td>0</td>\n",
       "      <td>0</td>\n",
       "    </tr>\n",
       "    <tr>\n",
       "      <th>3</th>\n",
       "      <td>0</td>\n",
       "      <td>0</td>\n",
       "      <td>0</td>\n",
       "      <td>0</td>\n",
       "      <td>0</td>\n",
       "      <td>0</td>\n",
       "      <td>0</td>\n",
       "      <td>0</td>\n",
       "      <td>0</td>\n",
       "      <td>0</td>\n",
       "      <td>...</td>\n",
       "      <td>0</td>\n",
       "      <td>0</td>\n",
       "      <td>0</td>\n",
       "      <td>0</td>\n",
       "      <td>0</td>\n",
       "      <td>0</td>\n",
       "      <td>0</td>\n",
       "      <td>0</td>\n",
       "      <td>0</td>\n",
       "      <td>0</td>\n",
       "    </tr>\n",
       "    <tr>\n",
       "      <th>4</th>\n",
       "      <td>0</td>\n",
       "      <td>0</td>\n",
       "      <td>0</td>\n",
       "      <td>0</td>\n",
       "      <td>0</td>\n",
       "      <td>0</td>\n",
       "      <td>0</td>\n",
       "      <td>0</td>\n",
       "      <td>0</td>\n",
       "      <td>0</td>\n",
       "      <td>...</td>\n",
       "      <td>0</td>\n",
       "      <td>0</td>\n",
       "      <td>0</td>\n",
       "      <td>0</td>\n",
       "      <td>0</td>\n",
       "      <td>0</td>\n",
       "      <td>0</td>\n",
       "      <td>0</td>\n",
       "      <td>0</td>\n",
       "      <td>0</td>\n",
       "    </tr>\n",
       "  </tbody>\n",
       "</table>\n",
       "<p>5 rows × 784 columns</p>\n",
       "</div>"
      ],
      "text/plain": [
       "   pixel0  pixel1  pixel2  pixel3  pixel4  pixel5  pixel6  pixel7  pixel8  \\\n",
       "0       0       0       0       0       0       0       0       0       0   \n",
       "1       0       0       0       0       0       0       0       0       0   \n",
       "2       0       0       0       0       0       0       0       0       0   \n",
       "3       0       0       0       0       0       0       0       0       0   \n",
       "4       0       0       0       0       0       0       0       0       0   \n",
       "\n",
       "   pixel9  ...  pixel774  pixel775  pixel776  pixel777  pixel778  pixel779  \\\n",
       "0       0  ...         0         0         0         0         0         0   \n",
       "1       0  ...         0         0         0         0         0         0   \n",
       "2       0  ...         0         0         0         0         0         0   \n",
       "3       0  ...         0         0         0         0         0         0   \n",
       "4       0  ...         0         0         0         0         0         0   \n",
       "\n",
       "   pixel780  pixel781  pixel782  pixel783  \n",
       "0         0         0         0         0  \n",
       "1         0         0         0         0  \n",
       "2         0         0         0         0  \n",
       "3         0         0         0         0  \n",
       "4         0         0         0         0  \n",
       "\n",
       "[5 rows x 784 columns]"
      ]
     },
     "execution_count": 4,
     "metadata": {},
     "output_type": "execute_result"
    }
   ],
   "source": [
    "test = pd.read_csv(\"./data/test.csv\")\n",
    "print(test.shape)\n",
    "test.head()"
   ]
  },
  {
   "cell_type": "markdown",
   "metadata": {
    "pycharm": {
     "name": "#%% md\n"
    }
   },
   "source": [
    "## Analýza datasetu"
   ]
  },
  {
   "cell_type": "code",
   "execution_count": 3,
   "metadata": {
    "pycharm": {
     "name": "#%%\n"
    }
   },
   "outputs": [
    {
     "data": {
      "text/plain": "Counter({1: 4684,\n         0: 4132,\n         4: 4072,\n         7: 4401,\n         3: 4351,\n         5: 3795,\n         8: 4063,\n         9: 4188,\n         2: 4177,\n         6: 4137})"
     },
     "execution_count": 3,
     "metadata": {},
     "output_type": "execute_result"
    }
   ],
   "source": [
    "z_train = Counter(train['label'])\n",
    "z_train"
   ]
  },
  {
   "cell_type": "code",
   "execution_count": 4,
   "metadata": {
    "pycharm": {
     "name": "#%%\n"
    }
   },
   "outputs": [
    {
     "name": "stderr",
     "output_type": "stream",
     "text": [
      "c:\\users\\petri\\envs\\nsiete_z1\\lib\\site-packages\\seaborn\\_decorators.py:36: FutureWarning: Pass the following variable as a keyword arg: x. From version 0.12, the only valid positional argument will be `data`, and passing other arguments without an explicit keyword will result in an error or misinterpretation.\n",
      "  warnings.warn(\n"
     ]
    },
    {
     "data": {
      "text/plain": "<AxesSubplot:xlabel='label', ylabel='count'>"
     },
     "execution_count": 4,
     "metadata": {},
     "output_type": "execute_result"
    },
    {
     "data": {
      "text/plain": "<Figure size 432x288 with 1 Axes>",
      "image/png": "[encoded data removed]"
     },
     "metadata": {
      "needs_background": "light"
     },
     "output_type": "display_data"
    }
   ],
   "source": [
    "sn.countplot(train['label'])"
   ]
  },
  {
   "cell_type": "markdown",
   "metadata": {
    "pycharm": {
     "name": "#%% md\n"
    }
   },
   "source": [
    "Z histogramu čísel môžme vidieť, že jednotlivé čísla majú podobne veľké zastúpenie v datasete\n"
   ]
  },
  {
   "cell_type": "code",
   "execution_count": 5,
   "metadata": {
    "pycharm": {
     "name": "#%%\n"
    }
   },
   "outputs": [
    {
     "name": "stdout",
     "output_type": "stream",
     "text": [
      "Max pixel value:  255\n",
      "Min pixel value:  0\n"
     ]
    }
   ],
   "source": [
    "print(\"Max pixel value: \",np.max(train.values[1]))\n",
    "print(\"Min pixel value: \",np.min(train.values[1]))"
   ]
  },
  {
   "cell_type": "markdown",
   "metadata": {
    "pycharm": {
     "name": "#%% md\n"
    }
   },
   "source": [
    "V datasete sú hodnoty pixlov od 0 po 255 to by mohlo viesť k explodujúcim gradientom\n",
    "a teda bude nutné predspracovať dáta aby sa mohol model lepšie trénovať."
   ]
  },
  {
   "cell_type": "markdown",
   "metadata": {},
   "source": [
    "## Predspracovanie dát\n",
    "Rozdelenie dát na pixle a labele."
   ]
  },
  {
   "cell_type": "code",
   "execution_count": 3,
   "metadata": {
    "pycharm": {
     "name": "#%%\n"
    }
   },
   "outputs": [],
   "source": [
    "x_train_np = train.iloc[:,1:].values.astype('float32') # all pixel values\n",
    "y_train_np = train.iloc[:,0].values.astype('int32') # only labels i.e targets digits\n"
   ]
  },
  {
   "cell_type": "markdown",
   "metadata": {
    "pycharm": {
     "name": "#%% md\n"
    }
   },
   "source": [
    "Hodnoty pixelom sú na intervale 0 až 255 a preto bude vhodné ich normalizovať na hodnoty z intervalu 0 až 1."
   ]
  },
  {
   "cell_type": "code",
   "execution_count": 4,
   "metadata": {
    "pycharm": {
     "name": "#%%\n"
    }
   },
   "outputs": [
    {
     "name": "stdout",
     "output_type": "stream",
     "text": [
      "Max pixel normalized value:  1.0\n",
      "Min pixel normalized value:  0.0\n"
     ]
    }
   ],
   "source": [
    "x_train_np = x_train_np/255.0\n",
    "print(\"Max pixel normalized value: \",np.max(x_train_np[0]))\n",
    "print(\"Min pixel normalized value: \",np.min(x_train_np[0]))\n"
   ]
  },
  {
   "cell_type": "markdown",
   "metadata": {},
   "source": [
    "Transformácia výstupných hodnôt na one hot encoding."
   ]
  },
  {
   "cell_type": "code",
   "execution_count": 5,
   "metadata": {
    "pycharm": {
     "name": "#%%\n"
    }
   },
   "outputs": [
    {
     "data": {
      "text/plain": "array([[0., 1., 0., ..., 0., 0., 0.],\n       [1., 0., 0., ..., 0., 0., 0.],\n       [0., 1., 0., ..., 0., 0., 0.],\n       ...,\n       [0., 0., 0., ..., 1., 0., 0.],\n       [0., 0., 0., ..., 0., 0., 0.],\n       [0., 0., 0., ..., 0., 0., 1.]])"
     },
     "execution_count": 5,
     "metadata": {},
     "output_type": "execute_result"
    }
   ],
   "source": [
    "y_train_np_1h = np.eye(10)[y_train_np]\n",
    "y_train_np_1h\n"
   ]
  },
  {
   "cell_type": "markdown",
   "metadata": {
    "pycharm": {
     "name": "#%% md\n"
    }
   },
   "source": [
    "Rozdelenie na trénovaciu a validačnú sadu, pri použití BinaryCrossEntrophy loss funkcie\n",
    "sa používa normálne lablovanie z dôvodu implementácie v PyTorch"
   ]
  },
  {
   "cell_type": "code",
   "execution_count": 6,
   "metadata": {
    "pycharm": {
     "name": "#%%\n"
    }
   },
   "outputs": [
    {
     "name": "stdout",
     "output_type": "stream",
     "text": [
      "train image shape :  (35000, 784)\n",
      "train label shape :  (35000,)\n",
      "valid image shape :  (7000, 784)\n",
      "valid label image :  (7000, 10)\n",
      "Whole dataset size :  (42000, 784)\n"
     ]
    },
    {
     "name": "stderr",
     "output_type": "stream",
     "text": [
      "c:\\users\\petri\\envs\\nsiete_z1\\lib\\site-packages\\seaborn\\_decorators.py:36: FutureWarning: Pass the following variable as a keyword arg: x. From version 0.12, the only valid positional argument will be `data`, and passing other arguments without an explicit keyword will result in an error or misinterpretation.\n",
      "  warnings.warn(\n"
     ]
    },
    {
     "data": {
      "text/plain": "<AxesSubplot:ylabel='count'>"
     },
     "execution_count": 6,
     "metadata": {},
     "output_type": "execute_result"
    },
    {
     "data": {
      "text/plain": "<Figure size 432x288 with 1 Axes>",
      "image/png": "[encoded data removed]"
     },
     "metadata": {
      "needs_background": "light"
     },
     "output_type": "display_data"
    }
   ],
   "source": [
    "X_train, X_valid, y_train, y_valid = \\\n",
    "    train_test_split(x_train_np, y_train_np, test_size=1/6, random_state=43)\n",
    "\n",
    "_, _, y_train_1h, y_valid_1h = \\\n",
    "    train_test_split(x_train_np, y_train_np_1h, test_size=1/6, random_state=43)\n",
    "\n",
    "\n",
    "print('train image shape : ', X_train.shape)\n",
    "print('train label shape : ', y_train.shape)\n",
    "print('valid image shape : ', X_valid.shape)\n",
    "print('valid label image : ', y_valid_1h.shape)\n",
    "print('Whole dataset size : ', x_train_np.shape)\n",
    "\n",
    "sn.countplot(y_train)"
   ]
  },
  {
   "cell_type": "markdown",
   "metadata": {
    "pycharm": {
     "name": "#%% md\n"
    }
   },
   "source": [
    "Rozdelenie na minibatche"
   ]
  },
  {
   "cell_type": "code",
   "execution_count": 7,
   "metadata": {},
   "outputs": [],
   "source": [
    "class MNIST(Dataset):\n",
    "\n",
    "    def __init__(self, X,y,y_1h, mode_1h= False, transform=None):\n",
    "        self.X=X\n",
    "        self.y=torch.LongTensor(y)\n",
    "        self.y_1h=y_1h\n",
    "        self.transform = transform\n",
    "        self.mode_1h=mode_1h\n",
    "\n",
    "    def __len__(self):\n",
    "        return len(self.X)\n",
    "\n",
    "    def __getitem__(self, index):\n",
    "\n",
    "        image = self.X[index].reshape((28, 28, 1))\n",
    "        label = self.y[index]\n",
    "        lable_1h=self.y_1h[index]\n",
    "\n",
    "        if self.transform is not None:\n",
    "            image = self.transform(image)\n",
    "\n",
    "        if self.mode_1h:\n",
    "            return image,lable_1h\n",
    "        else:\n",
    "            return image, label"
   ]
  },
  {
   "cell_type": "code",
   "execution_count": 19,
   "outputs": [],
   "source": [
    "transform=transforms.Compose([\n",
    "    transforms.ToPILImage(),\n",
    "    transforms.RandomRotation(15),\n",
    "    transforms.ToTensor()\n",
    "])"
   ],
   "metadata": {}
  },
  {
   "cell_type": "code",
   "execution_count": 8,
   "outputs": [],
   "source": [
    "train_data = MNIST(X_train,y_train,y_train_1h, transform=transforms.ToTensor())\n",
    "valid_data = MNIST(X_valid,y_valid,y_valid_1h, transform=transforms.ToTensor())\n",
    "\n",
    "\n",
    "train_loader = DataLoader(dataset=train_data,batch_size=256)\n",
    "valid_loader = DataLoader(dataset=valid_data,batch_size=256)"
   ],
   "metadata": {}
  },
  {
   "cell_type": "code",
   "execution_count": 9,
   "outputs": [
    {
     "name": "stdout",
     "output_type": "stream",
     "text": [
      "images shape:  torch.Size([256, 1, 28, 28])\n",
      "labels shape:  torch.Size([256])\n"
     ]
    },
    {
     "data": {
      "text/plain": "(-0.5, 151.5, 151.5, -0.5)"
     },
     "execution_count": 9,
     "metadata": {},
     "output_type": "execute_result"
    },
    {
     "data": {
      "text/plain": "<Figure size 1080x720 with 1 Axes>",
      "image/png": "[encoded data removed]"
     },
     "metadata": {
      "needs_background": "light"
     },
     "output_type": "display_data"
    }
   ],
   "source": [
    "dataiter=iter(train_loader)\n",
    "images, labels = dataiter.next()\n",
    "\n",
    "print('images shape: ', images.size())\n",
    "print('labels shape: ', labels.size())\n",
    "\n",
    "\n",
    "grid = torchvision.utils.make_grid(images[:25], nrow=5)\n",
    "\n",
    "fig, ax = plt.subplots(figsize=(15, 10))\n",
    "\n",
    "ax.imshow(grid.numpy().transpose((1, 2, 0)))\n",
    "ax.axis('off')"
   ],
   "metadata": {}
  },
  {
   "cell_type": "markdown",
   "metadata": {},
   "source": [
    "## PyTorch MLP Clasificator\n"
   ]
  },
  {
   "cell_type": "code",
   "execution_count": 10,
   "metadata": {},
   "outputs": [],
   "source": [
    "class Model(nn.Module):\n",
    "    def __init__(self):\n",
    "        super(Model, self).__init__()\n",
    "        self.layers = nn.Sequential(\n",
    "            nn.Linear(784, 200),\n",
    "            nn.ReLU(),\n",
    "            nn.Linear(200,10)\n",
    "        )\n",
    "\n",
    "    def forward(self, x):\n",
    "        x = x.view(x.size(0), -1)\n",
    "        x = self.layers(x)\n",
    "        return x"
   ]
  },
  {
   "cell_type": "markdown",
   "metadata": {},
   "source": [
    "## PyTorch model"
   ]
  },
  {
   "cell_type": "code",
   "execution_count": 11,
   "metadata": {
    "pycharm": {
     "name": "#%%\n"
    }
   },
   "outputs": [
    {
     "name": "stderr",
     "output_type": "stream",
     "text": [
      "wandb: Currently logged in as: xpetricko (use `wandb login --relogin` to force relogin)\n",
      "wandb: wandb version 0.10.23 is available!  To upgrade, please run:\n",
      "wandb:  $ pip install wandb --upgrade\n",
      "c:\\users\\petri\\envs\\nsiete_z1\\lib\\site-packages\\torch\\nn\\modules\\module.py:795: UserWarning: Using a non-full backward hook when the forward contains multiple autograd Nodes is deprecated and will be removed in future versions. This hook will be missing some grad_input. Please use register_full_backward_hook to get the documented behavior.\n",
      "  warnings.warn(\"Using a non-full backward hook when the forward contains multiple autograd Nodes \"\n"
     ]
    },
    {
     "data": {
      "text/plain": "<IPython.core.display.HTML object>",
      "text/html": "\n                Tracking run with wandb version 0.10.22<br/>\n                Syncing run <strong style=\"color:#cdcd00\">breezy-blaze-40</strong> to <a href=\"https://wandb.ai\" target=\"_blank\">Weights & Biases</a> <a href=\"https://docs.wandb.com/integrations/jupyter.html\" target=\"_blank\">(Documentation)</a>.<br/>\n                Project page: <a href=\"https://wandb.ai/xpetricko/Zadanie1\" target=\"_blank\">https://wandb.ai/xpetricko/Zadanie1</a><br/>\n                Run page: <a href=\"https://wandb.ai/xpetricko/Zadanie1/runs/dcc2rqpj\" target=\"_blank\">https://wandb.ai/xpetricko/Zadanie1/runs/dcc2rqpj</a><br/>\n                Run data is saved locally in <code>D:\\Git\\NSIETE\\Zadanie1\\wandb\\run-20210325_112907-dcc2rqpj</code><br/><br/>\n            "
     },
     "metadata": {},
     "output_type": "display_data"
    },
    {
     "name": "stdout",
     "output_type": "stream",
     "text": [
      "epoch : 1, train loss : 0.6063, valid loss : 0.3050, valid acc : 90.99%\n",
      "epoch : 2, train loss : 0.2645, valid loss : 0.2329, valid acc : 93.51%\n",
      "epoch : 3, train loss : 0.2044, valid loss : 0.1888, valid acc : 94.67%\n",
      "epoch : 4, train loss : 0.1646, valid loss : 0.1626, valid acc : 95.27%\n",
      "epoch : 5, train loss : 0.1360, valid loss : 0.1459, valid acc : 95.57%\n",
      "epoch : 6, train loss : 0.1147, valid loss : 0.1339, valid acc : 95.97%\n",
      "epoch : 7, train loss : 0.0979, valid loss : 0.1253, valid acc : 96.23%\n",
      "epoch : 8, train loss : 0.0843, valid loss : 0.1185, valid acc : 96.41%\n",
      "epoch : 9, train loss : 0.0732, valid loss : 0.1137, valid acc : 96.47%\n",
      "epoch : 10, train loss : 0.0640, valid loss : 0.1099, valid acc : 96.64%\n",
      "epoch : 11, train loss : 0.0561, valid loss : 0.1070, valid acc : 96.79%\n",
      "epoch : 12, train loss : 0.0493, valid loss : 0.1048, valid acc : 96.83%\n",
      "epoch : 13, train loss : 0.0434, valid loss : 0.1028, valid acc : 96.86%\n",
      "epoch : 14, train loss : 0.0383, valid loss : 0.1005, valid acc : 97.03%\n",
      "epoch : 15, train loss : 0.0337, valid loss : 0.0988, valid acc : 97.06%\n",
      "epoch : 16, train loss : 0.0297, valid loss : 0.0977, valid acc : 97.17%\n",
      "epoch : 17, train loss : 0.0262, valid loss : 0.0965, valid acc : 97.11%\n",
      "epoch : 18, train loss : 0.0230, valid loss : 0.0953, valid acc : 97.24%\n",
      "epoch : 19, train loss : 0.0202, valid loss : 0.0944, valid acc : 97.23%\n",
      "epoch : 20, train loss : 0.0177, valid loss : 0.0943, valid acc : 97.17%\n",
      "epoch : 21, train loss : 0.0157, valid loss : 0.0947, valid acc : 97.21%\n",
      "epoch : 22, train loss : 0.0139, valid loss : 0.0958, valid acc : 97.20%\n",
      "epoch : 23, train loss : 0.0124, valid loss : 0.0967, valid acc : 97.24%\n",
      "epoch : 24, train loss : 0.0111, valid loss : 0.0975, valid acc : 97.30%\n",
      "epoch : 25, train loss : 0.0099, valid loss : 0.0980, valid acc : 97.26%\n",
      "epoch : 26, train loss : 0.0088, valid loss : 0.0984, valid acc : 97.29%\n",
      "epoch : 27, train loss : 0.0078, valid loss : 0.0988, valid acc : 97.36%\n",
      "epoch : 28, train loss : 0.0069, valid loss : 0.0989, valid acc : 97.44%\n",
      "epoch : 29, train loss : 0.0062, valid loss : 0.0994, valid acc : 97.40%\n",
      "epoch : 30, train loss : 0.0054, valid loss : 0.1001, valid acc : 97.49%\n",
      "epoch : 31, train loss : 0.0049, valid loss : 0.1009, valid acc : 97.47%\n",
      "epoch : 32, train loss : 0.0043, valid loss : 0.1032, valid acc : 97.47%\n",
      "epoch : 33, train loss : 0.0039, valid loss : 0.1055, valid acc : 97.50%\n",
      "epoch : 34, train loss : 0.0035, valid loss : 0.1074, valid acc : 97.49%\n",
      "epoch : 35, train loss : 0.0031, valid loss : 0.1091, valid acc : 97.46%\n",
      "epoch : 36, train loss : 0.0028, valid loss : 0.1114, valid acc : 97.49%\n",
      "epoch : 37, train loss : 0.0026, valid loss : 0.1130, valid acc : 97.44%\n",
      "epoch : 38, train loss : 0.0023, valid loss : 0.1132, valid acc : 97.44%\n",
      "epoch : 39, train loss : 0.0022, valid loss : 0.1136, valid acc : 97.44%\n",
      "epoch : 40, train loss : 0.0020, valid loss : 0.1148, valid acc : 97.40%\n",
      "epoch : 41, train loss : 0.0019, valid loss : 0.1143, valid acc : 97.41%\n",
      "epoch : 42, train loss : 0.0017, valid loss : 0.1149, valid acc : 97.40%\n",
      "epoch : 43, train loss : 0.0016, valid loss : 0.1146, valid acc : 97.46%\n",
      "epoch : 44, train loss : 0.0015, valid loss : 0.1135, valid acc : 97.46%\n",
      "epoch : 45, train loss : 0.0014, valid loss : 0.1146, valid acc : 97.44%\n",
      "epoch : 46, train loss : 0.0012, valid loss : 0.1162, valid acc : 97.47%\n",
      "epoch : 47, train loss : 0.0012, valid loss : 0.1188, valid acc : 97.51%\n",
      "epoch : 48, train loss : 0.0010, valid loss : 0.1240, valid acc : 97.41%\n",
      "epoch : 49, train loss : 0.0008, valid loss : 0.1221, valid acc : 97.47%\n",
      "epoch : 50, train loss : 0.0007, valid loss : 0.1195, valid acc : 97.54%\n"
     ]
    }
   ],
   "source": [
    "run = wandb.init(project='zadanie1', entity='xpetricko')\n",
    "run.name = \"No Transform\"\n",
    "\n",
    "\n",
    "model_torch = Model()\n",
    "\n",
    "learning_rate = 0.001\n",
    "betas=(0.9, 0.999)\n",
    "\n",
    "optimizer = torch.optim.Adam(model_torch.parameters(), lr=learning_rate, betas=betas)\n",
    "loss_fn = nn.CrossEntropyLoss()\n",
    "#WanDb settings\n",
    "config = wandb.config\n",
    "config.learning_rate = learning_rate\n",
    "config.betas=betas\n",
    "config.transform = False\n",
    "config.batch_size=256\n",
    "wandb.watch(model_torch)\n",
    "\n",
    "\n",
    "mean_train_losses = []\n",
    "mean_valid_losses = []\n",
    "valid_acc_list = []\n",
    "epochs = 50\n",
    "\n",
    "\n",
    "\n",
    "#Aby rôzne modely začínaly s rovnakými inicializovanými váhami\n",
    "torch.manual_seed(10)\n",
    "\n",
    "for epoch in range(epochs):\n",
    "    model_torch.train()\n",
    "\n",
    "    train_losses = []\n",
    "    valid_losses = []\n",
    "    for i, (images,labels) in enumerate(train_loader):\n",
    "\n",
    "        optimizer.zero_grad()\n",
    "\n",
    "        output = model_torch(images) # (data)\n",
    "        loss = loss_fn(output,labels) # (Output, target)\n",
    "        loss.backward()\n",
    "        optimizer.step()\n",
    "\n",
    "        train_losses.append(loss.item())\n",
    "        wandb.log({\"train_loss\": loss.item()})\n",
    "        # Some print if wanted\n",
    "\n",
    "    model_torch.eval()\n",
    "    correct = 0\n",
    "    total = 0\n",
    "    with torch.no_grad():\n",
    "        for i, (images, labels) in enumerate(valid_loader):\n",
    "                outputs = model_torch(images)\n",
    "                loss = loss_fn(outputs, labels)\n",
    "\n",
    "                valid_losses.append(loss.item())\n",
    "                wandb.log({\"valid_loss\": loss.item()})\n",
    "\n",
    "                _, predicted = torch.max(outputs.data, 1)\n",
    "                correct += (predicted == labels).sum().item()\n",
    "                total += labels.size(0)\n",
    "\n",
    "\n",
    "\n",
    "    mean_train_losses.append(np.mean(train_losses))\n",
    "    mean_valid_losses.append(np.mean(valid_losses))\n",
    "\n",
    "    wandb.log({\"mean_test_loss\": np.mean(train_losses),\"mean_valid_loss\": np.mean(train_losses)})\n",
    "\n",
    "\n",
    "\n",
    "    accuracy = 100*correct/total\n",
    "    valid_acc_list.append(accuracy)\n",
    "    wandb.log({\"valid_accuracy\": accuracy})\n",
    "\n",
    "    print('epoch : {}, train loss : {:.4f}, valid loss : {:.4f}, valid acc : {:.2f}%'\\\n",
    "         .format(epoch+1, np.mean(train_losses), np.mean(valid_losses), accuracy))\n",
    "\n",
    "# run.finish()\n"
   ]
  },
  {
   "cell_type": "code",
   "execution_count": 56,
   "metadata": {
    "pycharm": {
     "name": "#%%\n"
    }
   },
   "outputs": [
    {
     "data": {
      "image/png": "[encoded data removed]",
      "text/plain": [
       "<Figure size 432x288 with 1 Axes>"
      ]
     },
     "metadata": {
      "needs_background": "light"
     },
     "output_type": "display_data"
    },
    {
     "data": {
      "text/plain": [
       "<matplotlib.legend.Legend at 0x7fbd54be2670>"
      ]
     },
     "execution_count": 56,
     "metadata": {},
     "output_type": "execute_result"
    },
    {
     "data": {
      "image/png": "[encoded data removed]",
      "text/plain": [
       "<Figure size 576x864 with 2 Axes>"
      ]
     },
     "metadata": {
      "needs_background": "light"
     },
     "output_type": "display_data"
    }
   ],
   "source": [
    "plt.plot(mean_train_losses,label='train')\n",
    "plt.plot(mean_valid_losses,label='valid')\n",
    "plt.legend(loc=\"upper left\")\n",
    "plt.show()\n",
    "\n",
    "fig, (plot1, plot2) = plt.subplots(nrows=2, ncols=1,figsize=(8,12))\n",
    "plot1.plot(mean_train_losses, label='train')\n",
    "plot1.plot(mean_valid_losses, label='valid')\n",
    "plot1.legend(loc='best')\n",
    "\n",
    "plot2.plot(valid_acc_list, label='valid acc')\n",
    "plot2.legend()\n"
   ]
  },
  {
   "cell_type": "code",
   "execution_count": 23,
   "metadata": {
    "pycharm": {
     "name": "#%%\n"
    }
   },
   "outputs": [
    {
     "data": {
      "text/plain": "<Figure size 432x288 with 2 Axes>",
      "image/png": "[encoded data removed]"
     },
     "metadata": {
      "needs_background": "light"
     },
     "output_type": "display_data"
    }
   ],
   "source": [
    "cm_t = None\n",
    "with torch.no_grad():\n",
    "    output = model_torch(torch.Tensor(X_valid))\n",
    "    _, predicted = torch.max(output.data, 1)\n",
    "\n",
    "\n",
    "    cm_t = confusion_matrix(y_valid,predicted)\n",
    "\n",
    "    sn.heatmap(cm_t,annot=True)\n"
   ]
  },
  {
   "cell_type": "markdown",
   "metadata": {
    "pycharm": {
     "name": "#%% md\n"
    }
   },
   "source": [
    "## Tensorflow MLP Clasificator"
   ]
  },
  {
   "cell_type": "code",
   "execution_count": 43,
   "metadata": {},
   "outputs": [],
   "source": [
    "def mlp(x):\n",
    "    # hidden layer1\n",
    "    w1 = tf.Variable(tf.random_uniform([784, 256]))\n",
    "    b1 = tf.Variable(tf.zeros([256]))\n",
    "    h1 = tf.nn.relu(tf.matmul(x, w1) + b1)\n",
    "    # hidden layer2\n",
    "    w2 = tf.Variable(tf.random_uniform([256, 128]))\n",
    "    b2 = tf.Variable(tf.zeros([128]))\n",
    "    h2 = tf.nn.relu(tf.matmul(h1, w2) + b2)\n",
    "    # output layer\n",
    "    w3 = tf.Variable(tf.random_uniform([128,10]))\n",
    "    b3 = tf.Variable(tf.zeros([10]))\n",
    "    logits = tf.matmul(h2, w3) + b3\n",
    "    \n",
    "    return logits\n"
   ]
  },
  {
   "cell_type": "code",
   "execution_count": 44,
   "metadata": {},
   "outputs": [],
   "source": [
    "tf.disable_eager_execution()\n",
    "x = tf.placeholder(tf.float32, [None, 784])\n",
    "y = tf.placeholder(tf.float32, [None, 10])\n"
   ]
  },
  {
   "cell_type": "code",
   "execution_count": 47,
   "outputs": [],
   "source": [
    "learning_rate = 0.0001\n",
    "batch_size = 256"
   ],
   "metadata": {
    "collapsed": false,
    "pycharm": {
     "name": "#%%\n"
    }
   }
  },
  {
   "cell_type": "code",
   "execution_count": 49,
   "metadata": {
    "pycharm": {
     "name": "#%%\n"
    }
   },
   "outputs": [
    {
     "name": "stderr",
     "output_type": "stream",
     "text": [
      "wandb: wandb version 0.10.23 is available!  To upgrade, please run:\n",
      "wandb:  $ pip install wandb --upgrade\n"
     ]
    },
    {
     "data": {
      "text/plain": "<IPython.core.display.HTML object>",
      "text/html": "\n                Tracking run with wandb version 0.10.22<br/>\n                Syncing run <strong style=\"color:#cdcd00\">revived-disco-12</strong> to <a href=\"https://wandb.ai\" target=\"_blank\">Weights & Biases</a> <a href=\"https://docs.wandb.com/integrations/jupyter.html\" target=\"_blank\">(Documentation)</a>.<br/>\n                Project page: <a href=\"https://wandb.ai/xpetricko/zadanie1-tensor\" target=\"_blank\">https://wandb.ai/xpetricko/zadanie1-tensor</a><br/>\n                Run page: <a href=\"https://wandb.ai/xpetricko/zadanie1-tensor/runs/329dnu1d\" target=\"_blank\">https://wandb.ai/xpetricko/zadanie1-tensor/runs/329dnu1d</a><br/>\n                Run data is saved locally in <code>D:\\Git\\NSIETE\\Zadanie1\\wandb\\run-20210323_124659-329dnu1d</code><br/><br/>\n            "
     },
     "metadata": {},
     "output_type": "display_data"
    },
    {
     "name": "stdout",
     "output_type": "stream",
     "text": [
      "epoch: 0, validation accuracy: 0.1348571479320526, loss: 25807.61328125\n",
      "epoch: 1, validation accuracy: 0.1305714249610901, loss: 17923.62109375\n",
      "epoch: 2, validation accuracy: 0.1744285672903061, loss: 12955.6123046875\n",
      "epoch: 3, validation accuracy: 0.3052857220172882, loss: 9977.5205078125\n",
      "epoch: 4, validation accuracy: 0.3792857229709625, loss: 8006.03955078125\n",
      "epoch: 5, validation accuracy: 0.44442856311798096, loss: 6674.3095703125\n",
      "epoch: 6, validation accuracy: 0.5144285559654236, loss: 5722.64208984375\n",
      "epoch: 7, validation accuracy: 0.5582857131958008, loss: 5008.64453125\n",
      "epoch: 8, validation accuracy: 0.6002857089042664, loss: 4453.1689453125\n",
      "epoch: 9, validation accuracy: 0.642714262008667, loss: 4008.67822265625\n",
      "epoch: 10, validation accuracy: 0.6581428647041321, loss: 3644.9287109375\n",
      "epoch: 11, validation accuracy: 0.6814285516738892, loss: 3341.75439453125\n",
      "epoch: 12, validation accuracy: 0.6885714530944824, loss: 3085.17919921875\n",
      "epoch: 13, validation accuracy: 0.7185714244842529, loss: 2865.238037109375\n",
      "epoch: 14, validation accuracy: 0.7324285507202148, loss: 2674.5908203125\n",
      "epoch: 15, validation accuracy: 0.7228571176528931, loss: 2507.759765625\n",
      "epoch: 16, validation accuracy: 0.7401428818702698, loss: 2360.540283203125\n",
      "epoch: 17, validation accuracy: 0.7504285573959351, loss: 2229.66552734375\n",
      "epoch: 18, validation accuracy: 0.7628571391105652, loss: 2112.55419921875\n",
      "epoch: 19, validation accuracy: 0.7732856869697571, loss: 2007.1456298828125\n",
      "epoch: 20, validation accuracy: 0.7714285850524902, loss: 1911.775390625\n",
      "epoch: 21, validation accuracy: 0.7505714297294617, loss: 1825.0718994140625\n",
      "epoch: 22, validation accuracy: 0.7841428518295288, loss: 1745.904052734375\n",
      "epoch: 23, validation accuracy: 0.7832857370376587, loss: 1673.327392578125\n",
      "epoch: 24, validation accuracy: 0.8090000152587891, loss: 1606.5538330078125\n",
      "epoch: 25, validation accuracy: 0.7954285740852356, loss: 1544.9149169921875\n",
      "epoch: 26, validation accuracy: 0.7887142896652222, loss: 1487.8463134765625\n",
      "epoch: 27, validation accuracy: 0.8008571267127991, loss: 1434.8414306640625\n",
      "epoch: 28, validation accuracy: 0.8037142753601074, loss: 1385.490478515625\n",
      "epoch: 29, validation accuracy: 0.7937142848968506, loss: 1339.4327392578125\n",
      "epoch: 30, validation accuracy: 0.796999990940094, loss: 1296.3331298828125\n",
      "epoch: 31, validation accuracy: 0.8261428475379944, loss: 1255.9366455078125\n",
      "epoch: 32, validation accuracy: 0.8121428489685059, loss: 1217.9814453125\n",
      "epoch: 33, validation accuracy: 0.8058571219444275, loss: 1182.261474609375\n",
      "epoch: 34, validation accuracy: 0.8195714354515076, loss: 1148.5869140625\n",
      "epoch: 35, validation accuracy: 0.8174285888671875, loss: 1116.7772216796875\n",
      "epoch: 36, validation accuracy: 0.8141428828239441, loss: 1086.6806640625\n",
      "epoch: 37, validation accuracy: 0.831428587436676, loss: 1058.1668701171875\n",
      "epoch: 38, validation accuracy: 0.8254285454750061, loss: 1031.1190185546875\n",
      "epoch: 39, validation accuracy: 0.828000009059906, loss: 1005.4224243164062\n",
      "epoch: 40, validation accuracy: 0.8401428461074829, loss: 980.9744262695312\n",
      "epoch: 41, validation accuracy: 0.8330000042915344, loss: 957.6891479492188\n",
      "epoch: 42, validation accuracy: 0.8500000238418579, loss: 935.4879150390625\n",
      "epoch: 43, validation accuracy: 0.8437142968177795, loss: 914.2943115234375\n",
      "epoch: 44, validation accuracy: 0.8528571724891663, loss: 894.04736328125\n",
      "epoch: 45, validation accuracy: 0.8464285731315613, loss: 874.6725463867188\n",
      "epoch: 46, validation accuracy: 0.8467142581939697, loss: 856.1217651367188\n",
      "epoch: 47, validation accuracy: 0.8701428771018982, loss: 838.34423828125\n",
      "epoch: 48, validation accuracy: 0.8397142887115479, loss: 821.2905883789062\n",
      "epoch: 49, validation accuracy: 0.8432857394218445, loss: 804.931640625\n",
      "epoch: 50, validation accuracy: 0.8545714020729065, loss: 789.2047729492188\n",
      "epoch: 51, validation accuracy: 0.8502857089042664, loss: 774.0822143554688\n",
      "epoch: 52, validation accuracy: 0.8567143082618713, loss: 759.5306396484375\n",
      "epoch: 53, validation accuracy: 0.8464285731315613, loss: 745.5222778320312\n",
      "epoch: 54, validation accuracy: 0.8482857346534729, loss: 732.0181274414062\n",
      "epoch: 55, validation accuracy: 0.8442857265472412, loss: 718.9984130859375\n",
      "epoch: 56, validation accuracy: 0.8892857432365417, loss: 706.4375610351562\n",
      "epoch: 57, validation accuracy: 0.8581428527832031, loss: 694.304931640625\n",
      "epoch: 58, validation accuracy: 0.8610000014305115, loss: 682.5840454101562\n",
      "epoch: 59, validation accuracy: 0.875, loss: 671.2506103515625\n",
      "epoch: 60, validation accuracy: 0.8705714344978333, loss: 660.2908935546875\n",
      "epoch: 61, validation accuracy: 0.857285737991333, loss: 649.6843872070312\n",
      "epoch: 62, validation accuracy: 0.8420000076293945, loss: 639.4135131835938\n",
      "epoch: 63, validation accuracy: 0.8519999980926514, loss: 629.467529296875\n",
      "epoch: 64, validation accuracy: 0.833142876625061, loss: 619.8295288085938\n",
      "epoch: 65, validation accuracy: 0.8534285426139832, loss: 610.4776000976562\n",
      "epoch: 66, validation accuracy: 0.853857159614563, loss: 601.406982421875\n",
      "epoch: 67, validation accuracy: 0.8428571224212646, loss: 592.6044311523438\n",
      "epoch: 68, validation accuracy: 0.8054285645484924, loss: 584.0562133789062\n",
      "epoch: 69, validation accuracy: 0.8462857007980347, loss: 575.7555541992188\n",
      "epoch: 70, validation accuracy: 0.8722857236862183, loss: 567.6856079101562\n",
      "epoch: 71, validation accuracy: 0.8408571481704712, loss: 559.8402099609375\n",
      "epoch: 72, validation accuracy: 0.871999979019165, loss: 552.2063598632812\n",
      "epoch: 73, validation accuracy: 0.871999979019165, loss: 544.7816772460938\n",
      "epoch: 74, validation accuracy: 0.8745714426040649, loss: 537.5579223632812\n",
      "epoch: 75, validation accuracy: 0.86814284324646, loss: 530.51953125\n",
      "epoch: 76, validation accuracy: 0.8791428804397583, loss: 523.6646118164062\n",
      "epoch: 77, validation accuracy: 0.8881428837776184, loss: 516.9874267578125\n",
      "epoch: 78, validation accuracy: 0.8644285798072815, loss: 510.4781188964844\n",
      "epoch: 79, validation accuracy: 0.8987143039703369, loss: 504.131103515625\n"
     ]
    },
    {
     "data": {
      "text/plain": "<Figure size 432x288 with 1 Axes>",
      "image/png": "[encoded data removed]"
     },
     "metadata": {
      "needs_background": "light"
     },
     "output_type": "display_data"
    },
    {
     "data": {
      "text/plain": "<Figure size 432x288 with 1 Axes>",
      "image/png": "[encoded data removed]"
     },
     "metadata": {
      "needs_background": "light"
     },
     "output_type": "display_data"
    },
    {
     "data": {
      "text/plain": "<IPython.core.display.HTML object>",
      "text/html": "<br/>Waiting for W&B process to finish, PID 17716<br/>Program ended successfully."
     },
     "metadata": {},
     "output_type": "display_data"
    },
    {
     "data": {
      "text/plain": "VBox(children=(Label(value=' 0.00MB of 0.00MB uploaded (0.00MB deduped)\\r'), FloatProgress(value=1.0, max=1.0)…",
      "application/vnd.jupyter.widget-view+json": {
       "version_major": 2,
       "version_minor": 0,
       "model_id": "d09ea46586794d32bc07add2d18f70a9"
      }
     },
     "metadata": {},
     "output_type": "display_data"
    },
    {
     "data": {
      "text/plain": "<IPython.core.display.HTML object>",
      "text/html": "Find user logs for this run at: <code>D:\\Git\\NSIETE\\Zadanie1\\wandb\\run-20210323_124659-329dnu1d\\logs\\debug.log</code>"
     },
     "metadata": {},
     "output_type": "display_data"
    },
    {
     "data": {
      "text/plain": "<IPython.core.display.HTML object>",
      "text/html": "Find internal logs for this run at: <code>D:\\Git\\NSIETE\\Zadanie1\\wandb\\run-20210323_124659-329dnu1d\\logs\\debug-internal.log</code>"
     },
     "metadata": {},
     "output_type": "display_data"
    },
    {
     "data": {
      "text/plain": "<IPython.core.display.HTML object>",
      "text/html": "<h3>Run summary:</h3><br/><style>\n    table.wandb td:nth-child(1) { padding: 0 10px; text-align: right }\n    </style><table class=\"wandb\">\n<tr><td>train_loss</td><td>504.1311</td></tr><tr><td>valid_accuracy</td><td>0.89871</td></tr><tr><td>_runtime</td><td>151</td></tr><tr><td>_timestamp</td><td>1616500170</td></tr><tr><td>_step</td><td>79</td></tr></table>"
     },
     "metadata": {},
     "output_type": "display_data"
    },
    {
     "data": {
      "text/plain": "<IPython.core.display.HTML object>",
      "text/html": "<h3>Run history:</h3><br/><style>\n    table.wandb td:nth-child(1) { padding: 0 10px; text-align: right }\n    </style><table class=\"wandb\">\n<tr><td>train_loss</td><td>█▄▃▂▂▂▂▂▂▁▁▁▁▁▁▁▁▁▁▁▁▁▁▁▁▁▁▁▁▁▁▁▁▁▁▁▁▁▁▁</td></tr><tr><td>valid_accuracy</td><td>▁▁▃▄▅▆▆▆▇▇▇▇▇▇▇▇▇▇▇▇▇███▇██████▇▇█▇█████</td></tr><tr><td>_runtime</td><td>▁▁▁▁▂▂▂▂▂▂▃▃▃▃▃▃▃▄▄▄▄▄▄▄▅▅▅▅▅▆▆▆▆▆▇▇▇▇██</td></tr><tr><td>_timestamp</td><td>▁▁▁▁▂▂▂▂▂▂▃▃▃▃▃▃▃▄▄▄▄▄▄▄▅▅▅▅▅▆▆▆▆▆▇▇▇▇██</td></tr><tr><td>_step</td><td>▁▁▁▂▂▂▂▂▂▃▃▃▃▃▃▄▄▄▄▄▅▅▅▅▅▅▆▆▆▆▆▆▇▇▇▇▇███</td></tr></table><br/>"
     },
     "metadata": {},
     "output_type": "display_data"
    },
    {
     "data": {
      "text/plain": "<IPython.core.display.HTML object>",
      "text/html": "Synced 5 W&B file(s), 0 media file(s), 0 artifact file(s) and 0 other file(s)"
     },
     "metadata": {},
     "output_type": "display_data"
    },
    {
     "data": {
      "text/plain": "<IPython.core.display.HTML object>",
      "text/html": "\n                    <br/>Synced <strong style=\"color:#cdcd00\">revived-disco-12</strong>: <a href=\"https://wandb.ai/xpetricko/zadanie1-tensor/runs/329dnu1d\" target=\"_blank\">https://wandb.ai/xpetricko/zadanie1-tensor/runs/329dnu1d</a><br/>\n                "
     },
     "metadata": {},
     "output_type": "display_data"
    }
   ],
   "source": [
    "logits = mlp(x)\n",
    "loss_op = tf.reduce_mean(tf.nn.softmax_cross_entropy_with_logits_v2(logits=logits,\n",
    "                                                                   labels=y))\n",
    "train_op = tf.train.AdamOptimizer(learning_rate=learning_rate).minimize(loss_op)\n",
    "\n",
    "\n",
    "run = wandb.init(project='zadanie1-tensor', entity='xpetricko')\n",
    "\n",
    "config = wandb.config\n",
    "config.learning_rate = learning_rate\n",
    "config.batch_size = batch_size\n",
    "config.siple_model = False\n",
    "\n",
    "\n",
    "init = tf.global_variables_initializer()\n",
    "\n",
    "# train parameters\n",
    "epochs = 80\n",
    "iteration = len(X_train)//batch_size\n",
    "\n",
    "train_losses = []\n",
    "valid_losses = []\n",
    "mean_train_losses = []\n",
    "mean_valid_losses = []\n",
    "valid_acc_list = []\n",
    "\n",
    "\n",
    "with tf.Session() as sess:\n",
    "    sess.run(init)\n",
    "\n",
    "    for epoch in range(epochs):\n",
    "        avg_loss = 0.\n",
    "        start = 0\n",
    "        end = batch_size\n",
    "        \n",
    "        for i in range(iteration):\n",
    "            _, loss = sess.run([train_op, loss_op],\n",
    "                              feed_dict={x: X_train[start:end],\n",
    "                                         y: y_train_1h[start:end]})\n",
    "            start += batch_size\n",
    "            end += batch_size\n",
    "            train_losses.append(loss)\n",
    "            tloss = np.mean(train_losses)\n",
    "        mean_train_losses.append(tloss)\n",
    "        # Validate model    \n",
    "        preds = tf.nn.softmax(logits)\n",
    "        correct_prediction = tf.equal(tf.argmax(preds, 1), tf.argmax(y,1))\n",
    "        # Calculate accuracy\n",
    "        accuracy = tf.reduce_mean(tf.cast(correct_prediction, \"float\"))\n",
    "        cur_val_acc = accuracy.eval({x: X_valid, y: y_valid_1h})\n",
    "        print(f\"epoch: {str(epoch)}, validation accuracy: {cur_val_acc}, loss: {tloss}\")\n",
    "        valid_acc_list.append(cur_val_acc)\n",
    "        wandb.log({\"train_loss\":tloss,\"valid_accuracy\":cur_val_acc})\n",
    "    wandb.tensorflow.log(tf.summary.merge_all())\n",
    "\n",
    "    plt.plot(mean_train_losses, label='train') \n",
    "    plt.legend()\n",
    "    plt.show()\n",
    "    plt.plot(valid_acc_list, label='Accuracy')\n",
    "    plt.legend()\n",
    "    plt.show()\n",
    "\n",
    "    run.finish()\n"
   ]
  }
 ],
 "metadata": {
  "kernelspec": {
   "name": "python3",
   "language": "python",
   "display_name": "Python 3"
  },
  "language_info": {
   "codemirror_mode": {
    "name": "ipython",
    "version": 3
   },
   "file_extension": ".py",
   "mimetype": "text/x-python",
   "name": "python",
   "nbconvert_exporter": "python",
   "pygments_lexer": "ipython3",
   "version": "3.8.8"
  }
 },
 "nbformat": 4,
 "nbformat_minor": 1
}