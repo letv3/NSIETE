{
 "cells": [
  {
   "cell_type": "markdown",
   "metadata": {},
   "source": [
    "Made from previous sources from: http://web.stanford.edu/class/cs224n/readings/cs224n-python-review-code-updated.pdf\n",
    "\n",
    "And from Ing. Matus Pikuliak, NSIETE 2019/2020\n",
    "\n",
    "Modified: Lukas Hudec\n",
    "\n",
    "# Week 1\n",
    "\n",
    "__Goals for this week__\n",
    "\n",
    "We will talk about the organization of this course, including the weekly tasks and 3 \"mini\"-projects that await you during on during this semester.\n",
    "We will introduce the frameworks you will use and a you will get a geniality quick course (rychlokurz geniality) in Python, required library and standard structures.\n",
    "\n",
    "__What is this file?__\n",
    "\n",
    "This is a Jupyter notebook. A file, that contains python scripts and also stores the binary results.\n",
    "\n",
    "__How can I run it?__\n",
    "\n",
    "Firs you have to run/configure your Jupyter server in your desired python environment.\n",
    "Then just follow this notebook and run it cell by cell. Try to answer - code - the questions, so you'll get better grasp on python array/list/dictionary structures.\n",
    "\n",
    "## Course Information\n",
    "If nothing changes:\n",
    "- __Weekly tasks [7 pts]:__ First 3 weeks (after this one), you will work on the same tasks for better understanding of how neural networks work.\n",
    "- __Projects [5 pts, 13 pts, 20 pts]:__ You will work in pairs on 3 deep learning project with gradually increasing difficulty throughout the entire semester. You will present your progress during the consultations, which are marked so you will be scored continuously and for the final presentations of your solutions.\n",
    "- __Midterm [15 pts]:__ This is gonna be fun\n",
    "- __Exam [40 pts]__ This is gonna be a nightmare\n",
    "(No worries, not for you, for me to create them)\n",
    "\n",
    "### Feedback\n",
    "\n",
    "- Please use\n",
    "- Please fill our\n",
    "- This notebook is a work in progress. If you notice a mistake, notify us, raise an issue or make a pull request on\n",
    "\n",
    "### Python\n",
    "\n",
    "We will use _Python 3.7_ compatible code in these notebooks, however it may work with older versions.\n",
    "We assume that you have seen Python code before. If you have not, the quick course may help and also you should learn the basics as soon as possible (e.g. [W3Schools tutorial](https://www.w3schools.com/python/default.asp))).\n",
    "Your first task is to configure python environment, Tensorflow (CPU or GPU based on you HW), PyTorch, and to practice python concepts in the scripts below.\n",
    "You should understand it fully, otherwise review your knowledge before you proceed. You will need it in the following weeks."
   ]
  },
  {
   "cell_type": "code",
   "execution_count": 1,
   "metadata": {},
   "outputs": [
    {
     "name": "stdout",
     "output_type": "stream",
     "text": [
      "hello, FIIT NN\n"
     ]
    }
   ],
   "source": [
    "# Line comment as you\n",
    "\"\"\"\n",
    "Block comment\n",
    "\"\"\"\n",
    "\n",
    "# input and output\n",
    "name=input()\n",
    "print(\"Hello, \"+name)\n"
   ]
  },
  {
   "cell_type": "code",
   "execution_count": 3,
   "outputs": [
    {
     "name": "stdout",
     "output_type": "stream",
     "text": [
      "7.5 8\n",
      "2.5\n",
      "2\n",
      "DLNN\n",
      "1 + 2 = 3, a = 7.5\n",
      "1 + 2 = {1 + 2}, a = {a}\n"
     ]
    }
   ],
   "source": [
    "# variables don't need explicit type declaration\n",
    "var = 'Neural Networks rule!'\n",
    "var = 2021\n",
    "var = 20.21\n",
    "var = True\n",
    "var = [29,1,2021]\n",
    "var = {'NN':'Rule!', 'year':2021}\n",
    "\n",
    "# Basic types\n",
    "2021            # integer\n",
    "36.5            # float\n",
    "'cool'          # string\n",
    "True, False     # boolean operands\n",
    "None            # null-like operand\n",
    "# python specific\n",
    "[12,34,'hello','world']     # list\n",
    "{123:456,'DL':'NN'}   # dictionary\n",
    "\n",
    "# Type conversion\n",
    "float('36.5')\n",
    "int(36.5)\n",
    "str(3.65)\n",
    "\n",
    "# Basic operations\n",
    "a = 2 + 5 - 2.5\n",
    "a += 3\n",
    "b = 2 ** 3  # exponentiation\n",
    "print(a, b)\n",
    "print(5 / 2)\n",
    "print(5 // 2)  # Notice the difference between these two\n",
    "print('DL' + 'NN')\n",
    "# All compound assignment operators available\n",
    "# including += -= *= **= /= //=\n",
    "# pre/post in/decrementers not available (++ --)\n",
    "\n",
    "\n",
    "# F-strings\n",
    "print(f'1 + 2 = {1 + 2}, a = {a}')\n",
    "print('1 + 2 = {1 + 2}, a = {a}')  # We need the f at the start for {} to work as expression wrappers.\n"
   ],
   "metadata": {
    "collapsed": false,
    "pycharm": {
     "name": "#%%\n"
    }
   }
  },
  {
   "cell_type": "code",
   "execution_count": 4,
   "metadata": {},
   "outputs": [
    {
     "name": "stdout",
     "output_type": "stream",
     "text": [
      "b\n",
      "d\n",
      "a = 10.5\n",
      "s\n",
      "t\n",
      "r\n",
      "i\n",
      "n\n",
      "g\n"
     ]
    }
   ],
   "source": [
    "# Conditions\n",
    "if a > 4 and b < 3:  # and, or and not are the basic logical operators\n",
    "    print('a')   # Indentation by spaces or tabs tells us where the statement belongs. print('a') is in the if.\n",
    "elif b > 5:\n",
    "    print('b')   # Indentation by spaces or tabs tells us where the statement belongs. print('b') is in the elif.\n",
    "else:\n",
    "    print('c')   # Indentation by spaces or tabs tells us where the statement belongs. print('c') is in the else.\n",
    "print('d')       # But print('d') is outside, it will print every time.\n",
    "\n",
    "# Loops\n",
    "while a < 10:\n",
    "    if b > 3:\n",
    "        a += 1  # More indentation for code that is \"deeper\"\n",
    "    else:\n",
    "        a += 2\n",
    "print(f'a = {a}')\n",
    "\n",
    "# 'while' loops are not considered 'pythonic'. 'for' loops are more common\n",
    "for char in 'string':\n",
    "    print(char)\n"
   ]
  },
  {
   "cell_type": "code",
   "execution_count": 13,
   "metadata": {},
   "outputs": [
    {
     "name": "stdout",
     "output_type": "stream",
     "text": [
      "2.4\n",
      "[2.4, 1e-06]\n",
      "[]\n",
      "[1, 2.4, 1e-06, 'some \"text\"', 4]\n",
      "2\n",
      "3.4\n",
      "1.000001\n"
     ]
    },
    {
     "ename": "TypeError",
     "evalue": "can only concatenate str (not \"int\") to str",
     "output_type": "error",
     "traceback": [
      "\u001B[1;31m---------------------------------------------------------------------------\u001B[0m",
      "\u001B[1;31mTypeError\u001B[0m                                 Traceback (most recent call last)",
      "\u001B[1;32m<ipython-input-13-69bc46403a5c>\u001B[0m in \u001B[0;36m<module>\u001B[1;34m\u001B[0m\n\u001B[0;32m     12\u001B[0m \u001B[1;32mfor\u001B[0m \u001B[0mel\u001B[0m \u001B[1;32min\u001B[0m \u001B[0ma\u001B[0m\u001B[1;33m:\u001B[0m\u001B[1;33m\u001B[0m\u001B[1;33m\u001B[0m\u001B[0m\n\u001B[0;32m     13\u001B[0m \u001B[1;31m# but be careful with iterations over list which contain different var types - it is your responsibility\u001B[0m\u001B[1;33m\u001B[0m\u001B[1;33m\u001B[0m\u001B[1;33m\u001B[0m\u001B[0m\n\u001B[1;32m---> 14\u001B[1;33m     \u001B[0mprint\u001B[0m\u001B[1;33m(\u001B[0m\u001B[0mel\u001B[0m \u001B[1;33m+\u001B[0m \u001B[1;36m1\u001B[0m\u001B[1;33m)\u001B[0m\u001B[1;33m\u001B[0m\u001B[1;33m\u001B[0m\u001B[0m\n\u001B[0m\u001B[0;32m     15\u001B[0m \u001B[1;33m\u001B[0m\u001B[0m\n",
      "\u001B[1;31mTypeError\u001B[0m: can only concatenate str (not \"int\") to str"
     ]
    }
   ],
   "source": [
    "# Lists - work like C arrays, but they are not dependent on element type\n",
    "a = [1, 2.4, 10e-7, 0b1001, 'some \"text\"'] # embedded \"\" in '', works vice versa\n",
    "len(a)  # Length\n",
    "print(a[1])  # Second element\n",
    "print(a[1:3])  # Second to third element\n",
    "a.append(4)  # Adding at the end\n",
    "del a[3]  # Removing at the index\n",
    "print([])  # Empty array\n",
    "print(a)\n",
    "\n",
    "# This is why for loops are used more often\n",
    "for el in a:\n",
    "# but be careful with iterations over list which contain different var types - it is your responsibility\n",
    "    print(el + 1)\n"
   ]
  },
  {
   "cell_type": "code",
   "execution_count": 17,
   "outputs": [
    {
     "name": "stdout",
     "output_type": "stream",
     "text": [
      "[3, 4.4, 2.000001, 11]\n"
     ]
    }
   ],
   "source": [
    "a = [1, 2.4, 10e-7, 0b1001]\n",
    "# We can define lists with list comprehension statements\n",
    "b = [el + 2 for el in a]\n",
    "print(b)\n"
   ],
   "metadata": {
    "collapsed": false,
    "pycharm": {
     "name": "#%%\n"
    }
   }
  },
  {
   "cell_type": "code",
   "execution_count": 21,
   "metadata": {},
   "outputs": [
    {
     "name": "stdout",
     "output_type": "stream",
     "text": [
      "dense\n",
      "[1, 2, 3]\n",
      "\n",
      "Keys:\n",
      "layer_1\n",
      "4\n",
      "result\n",
      "layer_2\n",
      "\n",
      "Keys and values:\n",
      "layer_1 : dense\n",
      "4 : four\n",
      "result : [1, 2, 3]\n",
      "layer_2 : ReLU\n",
      "{1: 1, 2: 4, 3: 9, 4: 16}\n"
     ]
    }
   ],
   "source": [
    "# Dictionaries - key-based structures\n",
    "a = {\n",
    "    'layer_1': 'dense',\n",
    "    5: 'five',\n",
    "    4: 'four',\n",
    "    'result': [1, 2, 3]\n",
    "}\n",
    "print(a['layer_1'])\n",
    "a['layer_2'] = 'ReLU'\n",
    "if 'result' in a:  # Does key exist?\n",
    "    print(a['result'])\n",
    "{}  # Empty\n",
    "del a[5]  # Remove record\n",
    "    \n",
    "print()\n",
    "print('Keys:')\n",
    "for key in a:\n",
    "    print(key)\n",
    "    \n",
    "print()\n",
    "print('Keys and values:')\n",
    "for key, value in a.items():\n",
    "    print(key, ':', value)\n",
    "    \n",
    "# Dictionaries can be also defined via comprehension statement\n",
    "a = {i: i**2 for i in [1, 2, 3, 4]}\n",
    "print(a)\n"
   ]
  },
  {
   "cell_type": "code",
   "execution_count": 28,
   "outputs": [
    {
     "name": "stdout",
     "output_type": "stream",
     "text": [
      "range(start, stop, step)\n",
      "10\n",
      "12\n",
      "14\n",
      "16\n",
      "18\n",
      "\n",
      "enumerate\n",
      "0 a\n",
      "1 b\n",
      "2 c\n",
      "\n",
      "zip\n",
      "1 a A\n",
      "2 b B\n",
      "3 c C\n"
     ]
    }
   ],
   "source": [
    "# Most common and useful iterators\n",
    "print('range(start, stop, step)')\n",
    "for i in range(10,20,2):\n",
    "    print(i)\n",
    "\n",
    "print()\n",
    "print('enumerate')\n",
    "lowercase = ['a', 'b', 'c']\n",
    "for i, el in enumerate(lowercase): # iterates over elements attaching the index order\n",
    "    print(i, el)\n",
    "\n",
    "print()\n",
    "print('zip') # Like a zip - side-by-side merges lists together for iteration\n",
    "uppercase = ['A', 'B', 'C']\n",
    "numbers = [1,2,3]\n",
    "for n, a, b in zip(numbers,lowercase, uppercase):\n",
    "    print(n, a, b)\n"
   ],
   "metadata": {
    "collapsed": false,
    "pycharm": {
     "name": "#%%\n"
    }
   }
  },
  {
   "cell_type": "code",
   "execution_count": 26,
   "outputs": [
    {
     "name": "stdout",
     "output_type": "stream",
     "text": [
      "2 3\n",
      "(4, 4)\n",
      "(10, 5)\n",
      "(5, 10)\n",
      "6\n",
      "4\n",
      "Class A, b=4\n",
      "I'm public\n"
     ]
    },
    {
     "ename": "AttributeError",
     "evalue": "'A' object has no attribute 'bar'",
     "output_type": "error",
     "traceback": [
      "\u001B[1;31m---------------------------------------------------------------------------\u001B[0m",
      "\u001B[1;31mAttributeError\u001B[0m                            Traceback (most recent call last)",
      "\u001B[1;32m<ipython-input-26-5eda71431554>\u001B[0m in \u001B[0;36m<module>\u001B[1;34m\u001B[0m\n\u001B[0;32m     42\u001B[0m \u001B[0mprint\u001B[0m\u001B[1;33m(\u001B[0m\u001B[0ma\u001B[0m\u001B[1;33m)\u001B[0m\u001B[1;33m\u001B[0m\u001B[1;33m\u001B[0m\u001B[0m\n\u001B[0;32m     43\u001B[0m \u001B[0ma\u001B[0m\u001B[1;33m.\u001B[0m\u001B[0mfoo\u001B[0m\u001B[1;33m(\u001B[0m\u001B[1;33m)\u001B[0m\u001B[1;33m\u001B[0m\u001B[1;33m\u001B[0m\u001B[0m\n\u001B[1;32m---> 44\u001B[1;33m \u001B[0ma\u001B[0m\u001B[1;33m.\u001B[0m\u001B[0mbar\u001B[0m\u001B[1;33m(\u001B[0m\u001B[1;33m)\u001B[0m\u001B[1;33m\u001B[0m\u001B[1;33m\u001B[0m\u001B[0m\n\u001B[0m\u001B[0;32m     45\u001B[0m \u001B[0ma\u001B[0m\u001B[1;33m.\u001B[0m\u001B[0mnope\u001B[0m\u001B[1;33m(\u001B[0m\u001B[1;33m)\u001B[0m\u001B[1;33m\u001B[0m\u001B[1;33m\u001B[0m\u001B[0m\n\u001B[0;32m     46\u001B[0m \u001B[1;33m\u001B[0m\u001B[0m\n",
      "\u001B[1;31mAttributeError\u001B[0m: 'A' object has no attribute 'bar'"
     ]
    }
   ],
   "source": [
    "# Functions\n",
    "def example_function(a, b=1, c=1):  # b and c have default values\n",
    "    return a*b, a*c  # we return two values at the same time\n",
    "\n",
    "a, b = example_function(1, 2, 3)  # and we can assign both values at the same time as well\n",
    "print(a, b)\n",
    "print(example_function(4))\n",
    "print(example_function(5, 2))\n",
    "print(example_function(5, c=2))  # Notice how do the arguments behave\n",
    "\n",
    "# Classes\n",
    "class A:\n",
    "\n",
    "    def __init__(self, b):  # Constructor\n",
    "        self.b = b  # Object variable\n",
    "\n",
    "    def add_to_b(self, c):  # self is always the first argument and it references the object itself\n",
    "        self.b += c\n",
    "\n",
    "    def sub_from_b(self, c):\n",
    "        self.add_to_b(-c)  # Calling object method\n",
    "\n",
    "    def __str__(self): # every python class contain several default methods that start and end with __\n",
    "        return f'Class A, b={self.b}'\n",
    "\n",
    "    # be careful with naming and using underscores _\n",
    "    # private, protected and public is expressed by underscores\n",
    "    # default is public\n",
    "    def foo(self):\n",
    "        print(\"I'm public\")\n",
    "\n",
    "    def _bar(self):\n",
    "        print(\"I'm protected\")\n",
    "    def __nope(self):\n",
    "\n",
    "        print(\"You shall not print me, I'm private\")\n",
    "\n",
    "a = A(5)\n",
    "a.add_to_b(1)\n",
    "print(a.b)\n",
    "a.sub_from_b(2)\n",
    "print(a.b)\n",
    "print(a)\n",
    "a.foo()\n",
    "a.bar()\n",
    "a.nope()"
   ],
   "metadata": {
    "collapsed": false,
    "pycharm": {
     "name": "#%%\n"
    }
   }
  },
  {
   "cell_type": "markdown",
   "metadata": {},
   "source": [
    "### Linear Algebra\n",
    "\n",
    "Neural network models can be defined using vectors and matrices, i.e. concepts from linear algebra.\n",
    "The _DeepLearningBook_ dedicates first pages for linear algebra, we will be using a bit of it during this semester, therefore you should know how basic linear operations work. Some of the concepts were covered during your _Algebra and Discrete Mathematics_ course. Read the provided links to review necessary topics (note that there are some questions at the end of each page) and solve the exercises in this notebook.\n",
    "\n",
    "#### Vectors\n",
    "- [On vectors](https://www.mathsisfun.com/algebra/vectors.html)\n",
    "- [On dot product](https://www.mathsisfun.com/algebra/vectors-dot-product.html)\n",
    "\n",
    "In these labs we use _DeepLearningBook_ notation: simple italic for scalars $x$, lowercase bold italic for vectors $\\boldsymbol{x}$ and uppercase bold italics for matrices $\\boldsymbol{X}$.\n",
    "Please, keep this notation in mind.\n",
    "\n",
    "### NumPy\n",
    "\n",
    "[Numpy](https://numpy.org/) is a popular Python library for scientific computation. It provides a convenient way of working with vectors and matrices.\n",
    "Ideally try to use NumPy to solve these exercises.\n"
   ]
  },
  {
   "cell_type": "code",
   "execution_count": 2,
   "metadata": {
    "scrolled": true
   },
   "outputs": [],
   "source": [
    "import numpy as np"
   ]
  },
  {
   "cell_type": "markdown",
   "source": [
    "__Exercise 1.1:__ Calculate the following:\n",
    "\n",
    "$\n",
    "\\begin{align}\n",
    "\\boldsymbol{a} = \\begin{bmatrix}0 \\\\ 1 \\\\ 3 \\end{bmatrix} \\ \\\n",
    "\\boldsymbol{b} = \\begin{bmatrix}2 \\\\ 4 \\\\ 1 \\end{bmatrix}\n",
    "\\end{align}\n",
    "$\n",
    "\n",
    "$5\\boldsymbol{a} = ?$\n",
    "\n",
    "$\\boldsymbol{a} + \\boldsymbol{b} = ?$\n",
    "\n",
    "$\\boldsymbol{a} \\cdot \\boldsymbol{b} = ?$\n",
    "\n",
    "$||\\boldsymbol{a}|| = ?$\n",
    "\n",
    "\n",
    "\n",
    "TODO"
   ],
   "metadata": {
    "collapsed": false,
    "pycharm": {
     "name": "#%% md\n"
    }
   }
  },
  {
   "cell_type": "code",
   "execution_count": 3,
   "outputs": [],
   "source": [
    "# Init vectors\n",
    "a = np.array([0, 1, 3])\n",
    "b = np.array([2, 4, 1])\n",
    "\n",
    "# Basic operations, results for E 1.1\n",
    "# print(..."
   ],
   "metadata": {
    "collapsed": false,
    "pycharm": {
     "name": "#%%\n"
    }
   }
  },
  {
   "cell_type": "markdown",
   "source": [
    "__Exercise 1.2:__ Determine quickly whether or not two vectors (e.g. $\\boldsymbol{a}$ and $\\boldsymbol{b}$) are orthogonal (perpendicular)?\n",
    "\n",
    "TODO"
   ],
   "metadata": {
    "collapsed": false
   }
  },
  {
   "cell_type": "code",
   "execution_count": null,
   "outputs": [],
   "source": [
    "# Perpendicularity (similarity) of vectors"
   ],
   "metadata": {
    "collapsed": false,
    "pycharm": {
     "name": "#%%\n"
    }
   }
  },
  {
   "cell_type": "markdown",
   "source": [
    "__Exercise 1.3:__ Compute which vector is longer, $\\boldsymbol{a}$ or $\\boldsymbol{b}$?"
   ],
   "metadata": {
    "collapsed": false,
    "pycharm": {
     "name": "#%% md\n"
    }
   }
  },
  {
   "cell_type": "code",
   "source": [
    "# Length of vectors"
   ],
   "metadata": {
    "collapsed": false,
    "pycharm": {
     "name": "#%%\n"
    }
   },
   "execution_count": null,
   "outputs": []
  },
  {
   "cell_type": "markdown",
   "source": [
    "#### Matrices\n",
    "- [On matrices](https://www.mathsisfun.com/algebra/matrix-introduction.html)\n",
    "- [On matrix multiplication](https://www.mathsisfun.com/algebra/matrix-multiplying.html)\n"
   ],
   "metadata": {
    "collapsed": false,
    "pycharm": {
     "name": "#%% md\n"
    }
   }
  },
  {
   "cell_type": "markdown",
   "source": [
    "__INFO: NumPy array indexing__"
   ],
   "metadata": {
    "collapsed": false
   }
  },
  {
   "cell_type": "code",
   "execution_count": 23,
   "outputs": [
    {
     "name": "stdout",
     "output_type": "stream",
     "text": [
      "[[3. 3. 3. 1. 1. 1. 1. 1. 1. 1.]\n",
      " [3. 3. 3. 1. 1. 1. 1. 1. 1. 1.]\n",
      " [3. 3. 3. 1. 1. 1. 1. 1. 1. 1.]\n",
      " [2. 2. 2. 0. 0. 0. 0. 0. 0. 0.]\n",
      " [2. 2. 2. 0. 0. 0. 0. 0. 0. 4.]\n",
      " [2. 2. 2. 0. 0. 0. 0. 0. 0. 0.]\n",
      " [2. 2. 2. 4. 0. 0. 0. 0. 0. 0.]\n",
      " [2. 2. 2. 0. 0. 4. 0. 0. 0. 0.]\n",
      " [2. 2. 2. 0. 0. 0. 0. 0. 0. 0.]\n",
      " [2. 2. 2. 0. 0. 0. 0. 0. 0. 0.]]\n",
      "(2, 3, 4)\n",
      "[[[ 0  1  2  3]\n",
      "  [ 4  5  6  7]\n",
      "  [ 8  9 10 11]]\n",
      "\n",
      " [[12 13 14 15]\n",
      "  [16 17 18 19]\n",
      "  [20 21 22 23]]]\n",
      "(4, 3, 2)\n",
      "[[[ 0 12]\n",
      "  [ 4 16]\n",
      "  [ 8 20]]\n",
      "\n",
      " [[ 1 13]\n",
      "  [ 5 17]\n",
      "  [ 9 21]]\n",
      "\n",
      " [[ 2 14]\n",
      "  [ 6 18]\n",
      "  [10 22]]\n",
      "\n",
      " [[ 3 15]\n",
      "  [ 7 19]\n",
      "  [11 23]]]\n"
     ]
    }
   ],
   "source": [
    "# Indexing, i.e. selecting elements from an array / vector / matrix\n",
    "\n",
    "W = np.array([\n",
    "    [1, 2, 3],\n",
    "    [4, 5, 6],\n",
    "    [7, 8, 9]\n",
    "])\n",
    "\n",
    "W[1, 1]  # Element from second row of second column\n",
    "W[0]  # First row\n",
    "W[[0, 2]]  # First AND third row\n",
    "W[:, 0]  # First column\n",
    "W[1, [0, 2]]  # First AND third column of second row\n",
    "\n",
    "# Access array slices by index\n",
    "a = np.zeros([10,10])\n",
    "a[:3] = 1\n",
    "a[:, :3] = 2\n",
    "a[:3, :3] = 3\n",
    "rows = [4,6,7]\n",
    "cols = [9,3,5]\n",
    "a[rows, cols] = 4\n",
    "print(a)\n",
    "\n",
    "# transposition\n",
    "a = np.arange(24).reshape(2,3,4)\n",
    "print(a.shape)\n",
    "print(a)\n",
    "a=np.transpose(a, (2,1,0))\n",
    "# swap 0th and 2nd axes\n",
    "print(a.shape)\n",
    "print(a)\n"
   ],
   "metadata": {
    "collapsed": false,
    "pycharm": {
     "name": "#%%\n"
    }
   }
  },
  {
   "cell_type": "markdown",
   "source": [
    "__Exercise 1.4:__ Calculate the following. Vectors are columns by default.\n",
    "\n",
    "$\n",
    "\\boldsymbol{C} = \\begin{bmatrix}0 & 2 & 4\\\\ 1 & 2 & 5 \\end{bmatrix} \\ \\\n",
    "\\boldsymbol{d} = \\begin{bmatrix} 1 & 7 \\end{bmatrix}\\\\ \\ \\\n",
    "\\boldsymbol{E} = \\begin{bmatrix} 1 & 2 \\\\ 3 & 4 \\\\ \\end{bmatrix}\n",
    "$\n",
    "\n",
    "$\\boldsymbol{C}\\boldsymbol{d} = ?$\n",
    "\n",
    "$\\boldsymbol{C}\\boldsymbol{E} = ?$\n",
    "\n",
    "$\\boldsymbol{d}^T \\boldsymbol{C} - \\boldsymbol{d}^T = ?$\n",
    "\n",
    "$\\boldsymbol{C}^T\\boldsymbol{d} = ?$\n",
    "\n",
    "$\\boldsymbol{C}\\boldsymbol{d}^T = ?$\n",
    "\n",
    "$\\boldsymbol{d}\\boldsymbol{E} = ?$"
   ],
   "metadata": {
    "collapsed": false,
    "pycharm": {
     "name": "#%% md\n"
    }
   }
  },
  {
   "cell_type": "code",
   "execution_count": 5,
   "outputs": [
    {
     "name": "stdout",
     "output_type": "stream",
     "text": [
      "(2,)\n",
      "(2, 1)\n"
     ]
    }
   ],
   "source": [
    "# Init matrices\n",
    "# One way:\n",
    "C = np.array([\n",
    "    [0, 2, 4],\n",
    "    [1, 2, 5]\n",
    "])\n",
    "\n",
    "d = np.array([1, 7])\n",
    "\n",
    "# Other way:\n",
    "E = np.arange(4).reshape(2, 2)"
   ],
   "metadata": {
    "collapsed": false,
    "pycharm": {
     "name": "#%%\n"
    }
   }
  },
  {
   "cell_type": "markdown",
   "metadata": {
    "pycharm": {
     "name": "#%% md\n"
    }
   },
   "source": [
    "__Exercise 1.5:__ We can express the result of general matrix-vector product $\\boldsymbol{Ex}_1$ as a vector of dot products.\n",
    "Is it possible to do the same with $\\boldsymbol{x}_2^T\\boldsymbol{E}$?"
   ]
  },
  {
   "cell_type": "code",
   "source": [
    "# There is a difference between a 1-D vector and a column matrix in numpy:\n",
    "x1 = np.array([1, 2])  # This is a vector\n",
    "x2 = np.array([  # This is a matrix\n",
    "    [1],\n",
    "    [2]\n",
    "])\n",
    "\n",
    "# First let's see the dimensions of these two\n",
    "print(x1.shape)\n",
    "print(x2.shape)\n",
    "\n",
    "# Matrix - vector multiplicataion\n",
    "# Then we can multiply them with E using np.matmul or @ matrix multiplication operator\n",
    "print(E @ x1)\n",
    "\n",
    "# TODO x_2^T \\times E\n"
   ],
   "metadata": {
    "collapsed": false,
    "pycharm": {
     "name": "#%%\n"
    }
   },
   "execution_count": 11,
   "outputs": [
    {
     "name": "stdout",
     "output_type": "stream",
     "text": [
      "(2,)\n",
      "(2, 1)\n",
      "[2 8]\n",
      "[[2]\n",
      " [8]]\n"
     ]
    }
   ]
  },
  {
   "cell_type": "markdown",
   "metadata": {},
   "source": [
    "__Exercise 1.6:__ What is the difference between the two results from previous code cell?\n",
    "\n",
    "TODO actually, just think about the answer ;)\n"
   ]
  },
  {
   "cell_type": "markdown",
   "metadata": {},
   "source": [
    "### Derivatives\n",
    "\n",
    "The final topic to cover are derivatives.\n",
    "Almost all training algorithms of neural networks in practice are based on calculating the derivatives with respect to (w.r.t.) parameters of the model.\n",
    "You should know the basics from your _Calculus course_ (Matematická analýza), but just in case, we recommend you to read the following to refresh your memory:\n",
    "\n",
    "- [On derivatives](https://www.mathsisfun.com/calculus/derivatives-introduction.html)\n",
    "\n",
    "You won't need to use derivatives during this course, so you won't need to learn all the [derivative rules](https://www.mathsisfun.com/calculus/derivatives-rules.html). However we need you to have an intuition about what derivatives are and what is their geometric interpretation. In essence, we need you to understand that a derivative tells us what is the slope of the tangent at given point. You should understand what is happening in the gif below:"
   ]
  },
  {
   "cell_type": "code",
   "execution_count": 22,
   "outputs": [
    {
     "data": {
      "text/plain": "<matplotlib.image.AxesImage at 0x214d4f9de88>"
     },
     "execution_count": 22,
     "metadata": {},
     "output_type": "execute_result"
    },
    {
     "data": {
      "text/plain": "<Figure size 432x432 with 1 Axes>",
      "image/png": "[encoded data removed]"
     },
     "metadata": {
      "needs_background": "light"
     },
     "output_type": "display_data"
    }
   ],
   "source": [
    "import matplotlib.pyplot as plt\n",
    "plt.figure(figsize=(6,6))\n",
    "tangents = plt.imread('images/tangents.gif')\n",
    "plt.imshow(tangents)"
   ],
   "metadata": {
    "collapsed": false,
    "pycharm": {
     "name": "#%%\n"
    }
   }
  },
  {
   "cell_type": "markdown",
   "source": [
    "<center><small>License: en:User:Dino, User:Lfahlberg <a href=\"https://creativecommons.org/licenses/by-sa/3.0\">CC BY-SA 3.0</a>, via Wikimedia Commons</small></center>\n",
    "\n",
    "Partial derivatives are a concept you might have not head about before.\n",
    "It is applied when we derive a function with more than one variable.\n",
    "In such case we can actually derive a function in any direction.\n",
    "\n",
    "Read the following link:\n",
    "\n",
    "- [On partial derivatives](https://www.mathsisfun.com/calculus/derivatives-partial.html)\n",
    "\n",
    "Function of one variable (1D) is a curve, and of two variables (2D) is a topographical relief.\n",
    "2D function can be visualized by a 3D graph.\n",
    "In this graph you can pick a point and then ask, what is a slope of the tangent in any direction.\n",
    "Most commonly you would calculate the slope along axes of both variables (let's say $x,y$): $\\frac{df}{dx}$ and $\\frac{df}{dy}$.\n",
    "\n",
    "Vector of derivatives w.r.t. all the parameters is called a _gradient_.\n",
    "Generally for function $f$ with arbitrary number of parameters $x_1. x_2, ..., x_N = \\boldsymbol{x}$, the gradient $\\triangledown f$ is defined as:\n",
    "\n",
    "\\begin{equation}\n",
    "\\triangledown f(\\boldsymbol{x}) = \\frac{df}{d\\boldsymbol{x}} = \\begin{bmatrix}\\frac{df}{dx_1} \\\\ \\frac{df}{dx_2} \\\\ \\vdots \\\\ \\frac{df}{dx_N} \\end{bmatrix}\n",
    "\\end{equation}\n",
    "\n",
    "Gradient is the most important concept from this week's lab. The gradient is a vector quantity that tells us the _direction of steepest ascent_ at each point. This is a very important property, which we will often use in the following weeks. The magnitude of this vector tells us how steep this ascent is, i.e. what is the slope of the tangent in the direction of the gradient.\n",
    "\n",
    "To cpmpare _derivative_ and _gradient_:\n",
    "\n",
    "- _Derivative_ is a quantity that tells us, what is the rate of change in given direction.\n",
    "- _Gradient_ is a quantity that tells us what is the direction of the steepest rate of change, along with the rate of this change.\n",
    "\n",
    "Observe the difference between these two concepts in the Figure below. All the plots show the same function $F(x,y) = \\sin(x) \\cos(y)$. In first two plots we shot the derivatives w.r.t $y$ and $x$ respectively. These are shown as white arrows. Notice that they all point in one direction. On the other hand in the last plot we show the gradients. If we interpret the derivatives from the two previous plots as vectors, these gradients are in fact their sum.\n"
   ],
   "metadata": {
    "collapsed": false,
    "pycharm": {
     "name": "#%% md\n"
    }
   }
  },
  {
   "cell_type": "code",
   "execution_count": 14,
   "outputs": [
    {
     "data": {
      "text/plain": "<Figure size 432x288 with 3 Axes>",
      "image/png": "[encoded data removed]"
     },
     "metadata": {
      "needs_background": "light"
     },
     "output_type": "display_data"
    }
   ],
   "source": [
    "from backstage import plots\n",
    "plots.derivatives_plot()"
   ],
   "metadata": {
    "collapsed": false,
    "pycharm": {
     "name": "#%%\n"
    }
   }
  },
  {
   "cell_type": "markdown",
   "source": [
    "__Exercise 1.8:__ With the following derivative rules:\n",
    "- $(af)' = af'$\n",
    "- $(f + g)' = f' + g'$\n",
    "- $(x^k)' = kx^{k-1}$\n",
    "\n",
    "Calculate the following:\n",
    "\n",
    "$f(x^2 + y^2 + 2x)$\n",
    "\n",
    "$\\frac{df}{dx}=?$\n",
    "\n",
    "$\\frac{df}{dy}=?$\n",
    "\n",
    "$\\triangledown f(x, y) = ?$\n",
    "\n",
    "$g(x_1, x_2, \\dots, x_N) = g(\\boldsymbol{x}) = \\boldsymbol{a} \\cdot \\boldsymbol{x}$\n",
    "\n",
    "$\\triangledown g(\\boldsymbol{x}) = ?$\n"
   ],
   "metadata": {
    "collapsed": false,
    "pycharm": {
     "name": "#%% md\n"
    }
   }
  },
  {
   "cell_type": "code",
   "execution_count": null,
   "outputs": [],
   "source": [
    "# TODO Derivatives ... by hand... on your paper"
   ],
   "metadata": {
    "collapsed": false,
    "pycharm": {
     "name": "#%%\n"
    }
   }
  },
  {
   "cell_type": "markdown",
   "source": [
    "### Correct Answers\n",
    "\n",
    "__E 1.4:__\n",
    "\n",
    "The term $\\boldsymbol{C}\\boldsymbol{d}^T$ is not valid. You can not multiply two matrices with dimensions $3 \\times 2$ and $1 \\times 2$.\n",
    "Also the term $\\boldsymbol{E}\\boldsymbol{d} is also invalid.\n",
    "\n",
    "__E 1.7:__\n",
    "\n",
    "$\\frac{df}{dx}= 2x + 2$\n",
    "\n",
    "$\\frac{df}{dy}= 2y$\n",
    "\n",
    "$\\triangledown f(x, y)  = \\begin{bmatrix}2x + 2 \\\\ 2y \\end{bmatrix} $\n",
    "\n",
    "$\\triangledown g(\\boldsymbol{x})  = \\boldsymbol{a}$"
   ],
   "metadata": {
    "collapsed": false,
    "pycharm": {
     "name": "#%% md\n"
    }
   }
  },
  {
   "cell_type": "code",
   "execution_count": 0,
   "metadata": {},
   "outputs": [],
   "source": []
  }
 ],
 "metadata": {
  "kernelspec": {
   "display_name": "Python 3",
   "language": "python",
   "name": "python3"
  },
  "language_info": {
   "codemirror_mode": {
    "name": "ipython",
    "version": 3
   },
   "file_extension": ".py",
   "mimetype": "text/x-python",
   "name": "python",
   "nbconvert_exporter": "python",
   "pygments_lexer": "ipython3",
   "version": "3.6.8"
  }
 },
 "nbformat": 4,
 "nbformat_minor": 2
}
