{
 "cells": [
  {
   "cell_type": "code",
   "execution_count": 1,
   "metadata": {
    "pycharm": {
     "name": "#%%\n"
    }
   },
   "outputs": [],
   "source": [
    "import numpy as np\n",
    "import os\n",
    "import gc\n",
    "\n",
    "import matplotlib.pyplot as plt\n",
    "import seaborn as sns\n",
    "\n",
    "from sklearn.model_selection import train_test_split\n",
    "\n",
    "import wandb\n",
    "\n",
    "import tarfile\n",
    "import pickle\n",
    "from collections import Counter\n",
    "\n",
    "import torch\n",
    "import torch.nn as nn\n",
    "from torch import optim\n",
    "import torch.nn.functional as F\n",
    "from torch.utils.data import Dataset, DataLoader\n",
    "import torchvision\n",
    "import torchvision.transforms as transforms"
   ]
  },
  {
   "cell_type": "code",
   "execution_count": 2,
   "metadata": {},
   "outputs": [
    {
     "data": {
      "text/plain": [
       "device(type='cuda')"
      ]
     },
     "execution_count": 2,
     "metadata": {},
     "output_type": "execute_result"
    }
   ],
   "source": [
    "device = torch.device('cuda' if torch.cuda.is_available() else 'cpu')\n",
    "device"
   ]
  },
  {
   "cell_type": "code",
   "execution_count": 3,
   "metadata": {
    "pycharm": {
     "name": "#%%\n"
    }
   },
   "outputs": [],
   "source": [
    "# import requests\n",
    "\n",
    "# import urllib\n",
    "\n",
    "# testfile = urllib.URLopener()\n",
    "# testfile.retrieve(\"https://www.cs.toronto.edu/~kriz/cifar-100-python.tar.gz\", \"cifar-100-python.tar.gz\")"
   ]
  },
  {
   "cell_type": "code",
   "execution_count": 4,
   "metadata": {
    "pycharm": {
     "name": "#%%\n"
    }
   },
   "outputs": [],
   "source": [
    "\n",
    "with tarfile.open(\"cifar-100-python.tar.gz\", 'r|gz') as f:\n",
    "        f.extractall(path=\"./\")\n",
    "        f.close()\n",
    "\n",
    "# Extract cifar-100-python.tar.gz to separate data"
   ]
  },
  {
   "cell_type": "code",
   "execution_count": 5,
   "metadata": {
    "pycharm": {
     "name": "#%%\n"
    }
   },
   "outputs": [],
   "source": [
    "data = pickle.load(open(os.path.join(\"cifar-100-python\", \"train\"), 'rb'), encoding='latin1')\n",
    "X_train_np = data['data']\n",
    "y_train_np = np.asarray(data['fine_labels'], np.int8)\n",
    "\n",
    "data = pickle.load(open(os.path.join('cifar-100-python', 'test'), 'rb'), encoding='latin1')\n",
    "X_test_np = data['data']\n",
    "y_test_np = np.asarray(data['fine_labels'], np.int8)"
   ]
  },
  {
   "cell_type": "code",
   "execution_count": 6,
   "metadata": {
    "pycharm": {
     "name": "#%%\n"
    }
   },
   "outputs": [],
   "source": [
    "# reshape\n",
    "X_train_np = X_train_np.reshape(-1, 3, 32, 32)\n",
    "X_test_np = X_test_np.reshape(-1, 3, 32, 32)\n"
   ]
  },
  {
   "cell_type": "code",
   "execution_count": 7,
   "metadata": {
    "pycharm": {
     "name": "#%%\n"
    }
   },
   "outputs": [],
   "source": [
    "# X_train_np.shape\n",
    "# sns.countplot(y_train_np)\n",
    "\n",
    "x_max,y_max = 3,3\n",
    "offset = 0\n",
    "\n",
    "# f, axarr = plt.subplots(y_max,x_max)\n",
    "# for y in range(y_max):\n",
    "#     for x in range(x_max):\n",
    "#         axarr[y,x].imshow(X_train_np[y*y_max+x+offset])\n",
    "# print(y_train[i])\n",
    "# plt.imshow(np.rollaxis(X_train[i], 0, 3))"
   ]
  },
  {
   "cell_type": "code",
   "execution_count": 8,
   "metadata": {
    "pycharm": {
     "name": "#%%\n"
    }
   },
   "outputs": [],
   "source": [
    "mean = X_train_np.mean(axis=(0,1,2), keepdims=True).astype(np.float32)\n",
    "std = X_train_np.std(axis=(0,1,2), keepdims=True).astype(np.float32)\n",
    "\n",
    "X_train_np = (X_train_np - mean) / std\n",
    "X_test_np = (X_test_np - mean) / std\n",
    "\n",
    "#TODO POROVNAT S -MEAN)/MAX"
   ]
  },
  {
   "cell_type": "code",
   "execution_count": 9,
   "metadata": {
    "pycharm": {
     "name": "#%%\n"
    }
   },
   "outputs": [],
   "source": [
    "def train_test_split_v2(X_train,y_train,test_size,random_state=None,sample_limit=None):\n",
    "    total_count = len(X_train)\n",
    "    if sample_limit:\n",
    "        _, X_train, _, y_train = train_test_split(X_train, y_train, test_size=1/(total_count/sample_limit), random_state=random_state)\n",
    "    return train_test_split(X_train, y_train, test_size=test_size, random_state=random_state)"
   ]
  },
  {
   "cell_type": "code",
   "execution_count": 10,
   "metadata": {
    "pycharm": {
     "name": "#%%\n"
    }
   },
   "outputs": [
    {
     "name": "stdout",
     "output_type": "stream",
     "text": [
      "(41666, 3, 32, 32)\n",
      "(8334, 3, 32, 32)\n",
      "50000\n"
     ]
    }
   ],
   "source": [
    "X_train,X_valid,y_train,y_valid= train_test_split_v2(X_train_np, y_train_np,sample_limit=None, test_size=1/6, random_state=42)\n",
    "\n",
    "print(X_train.shape)\n",
    "print(X_valid.shape)\n",
    "print(X_train.shape[0]+X_valid.shape[0])\n"
   ]
  },
  {
   "cell_type": "code",
   "execution_count": 11,
   "metadata": {
    "pycharm": {
     "name": "#%%\n"
    }
   },
   "outputs": [],
   "source": [
    "class CIFAR(Dataset):\n",
    "    def __init__(self, X,y,transform=None):\n",
    "        self.X=X\n",
    "        self.y = torch.LongTensor(y)\n",
    "        self.transform = transform\n",
    "\n",
    "    def __len__(self):\n",
    "        return len(self.X)\n",
    "\n",
    "    def __getitem__(self, index):\n",
    "\n",
    "        image = np.rollaxis(self.X[index],0,3)\n",
    "        label = self.y[index]\n",
    "\n",
    "        if self.transform is not None:\n",
    "            image = self.transform(image)\n",
    "\n",
    "        return image, label\n"
   ]
  },
  {
   "cell_type": "code",
   "execution_count": 12,
   "metadata": {
    "pycharm": {
     "name": "#%%\n"
    }
   },
   "outputs": [],
   "source": [
    "transform = transforms.Compose([\n",
    "    transforms.ToTensor(),\n",
    "    transforms.RandomResizedCrop(32)\n",
    "])\n",
    "\n",
    "train_data = CIFAR(X_train,y_train, transform=transform)\n",
    "valid_data = CIFAR(X_valid,y_valid, transform=transforms.ToTensor())\n",
    "\n",
    "train_loader = DataLoader(dataset=train_data,batch_size=256)\n",
    "valid_loader = DataLoader(dataset=valid_data,batch_size=256)\n",
    "\n",
    "\n",
    "# dataiter=iter(train_loader)\n",
    "# images, labels = dataiter.next()\n",
    "\n",
    "# print('images shape: ', images.size())\n",
    "# print('labels shape: ', labels.size())\n",
    "\n",
    "\n",
    "# x_max,y_max = 3,3\n",
    "# offset = 0\n",
    "\n",
    "# f, axarr = plt.subplots(y_max,x_max)\n",
    "# for y in range(y_max):\n",
    "#     for x in range(x_max):\n",
    "#         axarr[y,x].imshow(images[y*y_max+x].permute(1,2,0))"
   ]
  },
  {
   "cell_type": "code",
   "execution_count": 28,
   "metadata": {},
   "outputs": [],
   "source": [
    "vgg11 = nn.Sequential(\n",
    "            nn.Conv2d(3,64, kernel_size=3, padding=1),\n",
    "            nn.ReLU(True),\n",
    "            nn.MaxPool2d(kernel_size=2, stride=2),\n",
    "            nn.Conv2d(64,128, kernel_size=3, padding=1),\n",
    "            nn.Dropout(),\n",
    "            nn.ReLU(True),\n",
    "            nn.Conv2d(128,128, kernel_size=3, padding=1),\n",
    "            nn.Dropout(),\n",
    "            nn.ReLU(True),\n",
    "            nn.MaxPool2d(kernel_size=2, stride=2),\n",
    "            nn.Conv2d(128,256, kernel_size=3, padding=1),\n",
    "            nn.Dropout(),\n",
    "            nn.ReLU(True),\n",
    "            nn.Conv2d(256,256, kernel_size=3, padding=1),\n",
    "            nn.Dropout(),\n",
    "            nn.ReLU(True),\n",
    "            nn.Conv2d(256,256, kernel_size=3, padding=1),\n",
    "            nn.Dropout(),\n",
    "            nn.ReLU(True),\n",
    "            nn.MaxPool2d(kernel_size=2, stride=2),\n",
    "            nn.Conv2d(256,512, kernel_size=3, padding=1),\n",
    "            nn.Dropout(),\n",
    "            nn.ReLU(True),\n",
    "            nn.Conv2d(512,512, kernel_size=3, padding=1),\n",
    "            nn.Dropout(),\n",
    "            nn.ReLU(True),\n",
    "            nn.Conv2d(512,512, kernel_size=3, padding=1),\n",
    "            nn.Dropout(),\n",
    "            nn.ReLU(True),\n",
    "            nn.MaxPool2d(kernel_size=2, stride=2),\n",
    "            nn.Conv2d(512,512, kernel_size=3, padding=1),\n",
    "            nn.Dropout(),\n",
    "            nn.ReLU(True),\n",
    "            nn.Conv2d(512,512, kernel_size=3, padding=1),\n",
    "            nn.Dropout(),\n",
    "            nn.ReLU(True),\n",
    "            nn.Conv2d(512,512, kernel_size=3, padding=1),\n",
    "            nn.Dropout(),\n",
    "            nn.ReLU(True),\n",
    "            nn.MaxPool2d(kernel_size=2, stride=2),\n",
    "            nn.Conv2d(512,512, kernel_size=3, padding=1),\n",
    "            nn.Dropout(),\n",
    "            nn.ReLU(True),\n",
    "        )\n",
    "\n",
    "\n",
    "vgg11_bn = nn.Sequential(\n",
    "            nn.Conv2d(3,64, kernel_size=3, padding=1),\n",
    "            nn.BatchNorm2d(64),\n",
    "            nn.LeakyReLU(True),\n",
    "            nn.MaxPool2d(kernel_size=2, stride=2),\n",
    "            nn.Conv2d(64,128, kernel_size=3, padding=1),\n",
    "            nn.BatchNorm2d(128),\n",
    "            nn.LeakyReLU(True),\n",
    "#             nn.Conv2d(128,128, kernel_size=3, padding=1),\n",
    "#             nn.BatchNorm2d(128),\n",
    "#             nn.LeakyReLU(True),\n",
    "            nn.MaxPool2d(kernel_size=2, stride=2),\n",
    "            nn.Conv2d(128,256, kernel_size=3, padding=1),\n",
    "            nn.BatchNorm2d(256),\n",
    "            nn.LeakyReLU(True),\n",
    "#             nn.Conv2d(256,256, kernel_size=3, padding=1),\n",
    "#             nn.BatchNorm2d(256),\n",
    "#             nn.LeakyReLU(True),\n",
    "            nn.Conv2d(256,256, kernel_size=3, padding=1),\n",
    "            nn.BatchNorm2d(256),\n",
    "            nn.LeakyReLU(True),\n",
    "            nn.MaxPool2d(kernel_size=2, stride=2),\n",
    "            nn.Conv2d(256,512, kernel_size=3, padding=1),\n",
    "            nn.BatchNorm2d(512),\n",
    "            nn.LeakyReLU(True),\n",
    "#             nn.Conv2d(512,512, kernel_size=3, padding=1),\n",
    "#             nn.BatchNorm2d(512),\n",
    "#             nn.LeakyReLU(True),\n",
    "            nn.Conv2d(512,512, kernel_size=3, padding=1),\n",
    "            nn.BatchNorm2d(512),\n",
    "            nn.LeakyReLU(True),\n",
    "            nn.MaxPool2d(kernel_size=2, stride=2),\n",
    "#             nn.Conv2d(512,512, kernel_size=3, padding=1),\n",
    "#             nn.BatchNorm2d(512),\n",
    "#             nn.LeakyReLU(True),\n",
    "            nn.Conv2d(512,512, kernel_size=3, padding=1),\n",
    "            nn.BatchNorm2d(512),\n",
    "            nn.LeakyReLU(True),\n",
    "            nn.MaxPool2d(kernel_size=2, stride=2),\n",
    "            nn.Conv2d(512,512, kernel_size=3, padding=1),\n",
    "            nn.BatchNorm2d(512),\n",
    "            nn.LeakyReLU(True)\n",
    "        )\n",
    "\n",
    "# vgg13_bn = nn.Sequential(\n",
    "#     nn.Conv2d(3,64, kernel_size=3, padding=1),\n",
    "#     nn.BatchNorm2d(64),\n",
    "#     nn.ReLU(True),\n",
    "#     # ---\n",
    "#     nn.Conv2d(64,64, kernel_size=3, padding=1),\n",
    "#     nn.BatchNorm2d(64),\n",
    "#     nn.ReLU(True),\n",
    "#     # ---\n",
    "#     nn.MaxPool2d(kernel_size=2, stride=2),\n",
    "#     # ---\n",
    "#     nn.Conv2d(64,128, kernel_size=3, padding=1),\n",
    "#     nn.BatchNorm2d(128),\n",
    "#     nn.ReLU(True),\n",
    "#     # ---\n",
    "#     nn.Conv2d(128,128, kernel_size=3, padding=1),\n",
    "#     nn.BatchNorm2d(128),\n",
    "#     nn.ReLU(True),\n",
    "#     # ---\n",
    "#     nn.MaxPool2d(kernel_size=2, stride=2),\n",
    "#     # ---\n",
    "#     nn.Conv2d(128,256, kernel_size=3, padding=1),\n",
    "#     nn.BatchNorm2d(256),\n",
    "#     nn.ReLU(True),\n",
    "#     # ---\n",
    "#     nn.Conv2d(256,256, kernel_size=3, padding=1),\n",
    "#     nn.BatchNorm2d(256),\n",
    "#     nn.ReLU(True),\n",
    "#     # ---\n",
    "#     nn.MaxPool2d(kernel_size=2, stride=2),\n",
    "#     # ---\n",
    "#     nn.Conv2d(256,512, kernel_size=3, padding=1),\n",
    "#     nn.BatchNorm2d(512),\n",
    "#     nn.ReLU(True),\n",
    "#     # ---\n",
    "#     nn.Conv2d(512,512, kernel_size=3, padding=1),\n",
    "#     nn.BatchNorm2d(512),\n",
    "#     nn.ReLU(True),\n",
    "#     # ---\n",
    "#     nn.MaxPool2d(kernel_size=2, stride=2),\n",
    "#     # ---\n",
    "#     nn.Conv2d(512,512, kernel_size=3, padding=1),\n",
    "#     nn.BatchNorm2d(512),\n",
    "#     nn.ReLU(True),\n",
    "#     # ---\n",
    "#     nn.Conv2d(512,512, kernel_size=3, padding=1),\n",
    "#     nn.BatchNorm2d(512),\n",
    "#     nn.ReLU(True),\n",
    "#     # ---\n",
    "#     nn.MaxPool2d(kernel_size=2, stride=2)\n",
    "# )\n",
    "\n",
    "# vgg16_bn = nn.Sequential(\n",
    "#     nn.Conv2d(3,64, kernel_size=3, padding=1),\n",
    "#     nn.BatchNorm2d(64),\n",
    "#     nn.ReLU(True),\n",
    "#     # ---\n",
    "#     nn.Conv2d(64,64, kernel_size=3, padding=1),\n",
    "#     nn.BatchNorm2d(64),\n",
    "#     nn.ReLU(True),\n",
    "#     # ---\n",
    "#     nn.MaxPool2d(kernel_size=2, stride=2),\n",
    "#     # ---\n",
    "#     nn.Conv2d(64,128, kernel_size=3, padding=1),\n",
    "#     nn.BatchNorm2d(128),\n",
    "#     nn.ReLU(True),\n",
    "#     # ---\n",
    "#     nn.Conv2d(128,128, kernel_size=3, padding=1),\n",
    "#     nn.BatchNorm2d(128),\n",
    "#     nn.ReLU(True),\n",
    "#     # ---\n",
    "#     nn.MaxPool2d(kernel_size=2, stride=2),\n",
    "#     # ---\n",
    "#     nn.Conv2d(128,256, kernel_size=3, padding=1),\n",
    "#     nn.BatchNorm2d(256),\n",
    "#     nn.ReLU(True),\n",
    "#     # ---\n",
    "#     nn.Conv2d(256,256, kernel_size=3, padding=1),\n",
    "#     nn.BatchNorm2d(256),\n",
    "#     nn.ReLU(True),\n",
    "#     # ---\n",
    "#     nn.Conv2d(256,256, kernel_size=3, padding=1),\n",
    "#     nn.BatchNorm2d(256),\n",
    "#     nn.ReLU(True),\n",
    "#     # ---\n",
    "#     nn.MaxPool2d(kernel_size=2, stride=2),\n",
    "#     # ---\n",
    "#     nn.Conv2d(256,512, kernel_size=3, padding=1),\n",
    "#     nn.BatchNorm2d(512),\n",
    "#     nn.ReLU(True),\n",
    "#     # ---\n",
    "#     nn.Conv2d(512,512, kernel_size=3, padding=1),\n",
    "#     nn.BatchNorm2d(512),\n",
    "#     nn.ReLU(True),\n",
    "#     # ---\n",
    "#     nn.Conv2d(512,512, kernel_size=3, padding=1),\n",
    "#     nn.BatchNorm2d(512),\n",
    "#     nn.ReLU(True),\n",
    "#     # ---\n",
    "#     nn.MaxPool2d(kernel_size=2, stride=2),\n",
    "#     # ---\n",
    "#     nn.Conv2d(512,512, kernel_size=3, padding=1),\n",
    "#     nn.BatchNorm2d(512),\n",
    "#     nn.ReLU(True),\n",
    "#     # ---\n",
    "#     nn.Conv2d(512,512, kernel_size=3, padding=1),\n",
    "#     nn.BatchNorm2d(512),\n",
    "#     nn.ReLU(True),\n",
    "#     # ---\n",
    "#     nn.Conv2d(512,512, kernel_size=3, padding=1),\n",
    "#     nn.BatchNorm2d(512),\n",
    "#     nn.ReLU(True),\n",
    "#     # ---\n",
    "#     nn.MaxPool2d(kernel_size=2, stride=2)\n",
    "# )\n",
    "\n",
    "# vgg19_bn = nn.Sequential(\n",
    "#     nn.Conv2d(3,64, kernel_size=3, padding=1),\n",
    "#     nn.BatchNorm2d(64),\n",
    "#     nn.ReLU(True),\n",
    "#     # ---\n",
    "#     nn.Conv2d(64,64, kernel_size=3, padding=1),\n",
    "#     nn.BatchNorm2d(64),\n",
    "#     nn.ReLU(True),\n",
    "#     # ---\n",
    "#     nn.MaxPool2d(kernel_size=2, stride=2),\n",
    "#     nn.Conv2d(64,128, kernel_size=3, padding=1),\n",
    "#     nn.BatchNorm2d(128),\n",
    "#     nn.ReLU(True),\n",
    "#     # ---\n",
    "#     nn.Conv2d(128,128, kernel_size=3, padding=1),\n",
    "#     nn.BatchNorm2d(128),\n",
    "#     nn.ReLU(True),\n",
    "#     # ---\n",
    "#     nn.Conv2d(128,128, kernel_size=3, padding=1),\n",
    "#     nn.BatchNorm2d(128),\n",
    "#     nn.ReLU(True),\n",
    "#     # ---\n",
    "#     nn.MaxPool2d(kernel_size=2, stride=2),\n",
    "#     nn.Conv2d(128,256, kernel_size=3, padding=1),\n",
    "#     nn.BatchNorm2d(256),\n",
    "#     nn.ReLU(True),\n",
    "#     # ---\n",
    "#     nn.Conv2d(256,256, kernel_size=3, padding=1),\n",
    "#     nn.BatchNorm2d(256),\n",
    "#     nn.ReLU(True),\n",
    "#     # ---\n",
    "#     nn.Conv2d(256,256, kernel_size=3, padding=1),\n",
    "#     nn.BatchNorm2d(256),\n",
    "#     nn.ReLU(True),\n",
    "#     # ---\n",
    "#     nn.Conv2d(256,256, kernel_size=3, padding=1),\n",
    "#     nn.BatchNorm2d(256),\n",
    "#     nn.ReLU(True),\n",
    "#     # ---\n",
    "#     nn.Conv2d(256,256, kernel_size=3, padding=1),\n",
    "#     nn.BatchNorm2d(256),\n",
    "#     nn.ReLU(True),\n",
    "#     # ---\n",
    "#     nn.MaxPool2d(kernel_size=2, stride=2),\n",
    "#     nn.Conv2d(256,512, kernel_size=3, padding=1),\n",
    "#     nn.BatchNorm2d(512),\n",
    "#     nn.ReLU(True),\n",
    "#     # ---\n",
    "#     nn.Conv2d(512,512, kernel_size=3, padding=1),\n",
    "#     nn.BatchNorm2d(512),\n",
    "#     nn.ReLU(True),\n",
    "#     # ---\n",
    "#     nn.Conv2d(512,512, kernel_size=3, padding=1),\n",
    "#     nn.BatchNorm2d(512),\n",
    "#     nn.ReLU(True),\n",
    "#     # ---\n",
    "#     nn.Conv2d(512,512, kernel_size=3, padding=1),\n",
    "#     nn.BatchNorm2d(512),\n",
    "#     nn.ReLU(True),\n",
    "#     # ---\n",
    "#     nn.Conv2d(512,512, kernel_size=3, padding=1),\n",
    "#     nn.BatchNorm2d(512),\n",
    "#     nn.ReLU(True),\n",
    "#     # ---\n",
    "#     nn.MaxPool2d(kernel_size=2, stride=2),\n",
    "#     nn.Conv2d(512,512, kernel_size=3, padding=1),\n",
    "#     nn.BatchNorm2d(512),\n",
    "#     nn.ReLU(True),\n",
    "#     # ---\n",
    "#     nn.Conv2d(512,512, kernel_size=3, padding=1),\n",
    "#     nn.BatchNorm2d(512),\n",
    "#     nn.ReLU(True),\n",
    "#     # ---\n",
    "#     nn.Conv2d(512,512, kernel_size=3, padding=1),\n",
    "#     nn.BatchNorm2d(512),\n",
    "#     nn.ReLU(True),\n",
    "#     # ---\n",
    "#     nn.Conv2d(512,512, kernel_size=3, padding=1),\n",
    "#     nn.BatchNorm2d(512),\n",
    "#     nn.ReLU(True),\n",
    "#     # ---\n",
    "#     nn.Conv2d(512,512, kernel_size=3, padding=1),\n",
    "#     nn.BatchNorm2d(512),\n",
    "#     nn.ReLU(True),\n",
    "#     # ---\n",
    "#     nn.MaxPool2d(kernel_size=2, stride=2),\n",
    "#     nn.Conv2d(512,512, kernel_size=3, padding=1),\n",
    "#     nn.BatchNorm2d(512),\n",
    "#     nn.ReLU(True)\n",
    "# )"
   ]
  },
  {
   "cell_type": "code",
   "execution_count": 14,
   "metadata": {
    "pycharm": {
     "name": "#%%\n"
    }
   },
   "outputs": [],
   "source": [
    "class SimpleNet(nn.Module):\n",
    "    def __init__(self, in_chanels, num_classes):\n",
    "        super(SimpleNet, self).__init__()\n",
    "        self.features = nn.Sequential(\n",
    "            nn.Conv2d(in_chanels,128, kernel_size=3, padding=1),\n",
    "            nn.MaxPool2d(kernel_size=2, stride=2),\n",
    "            nn.Conv2d(128,256, kernel_size=3, padding=1),\n",
    "            nn.MaxPool2d(kernel_size=2, stride=2),\n",
    "            nn.Conv2d(256,512, kernel_size=3, padding=1),\n",
    "            nn.MaxPool2d(kernel_size=2, stride=2)\n",
    "        )\n",
    "        self.classifier = nn.Sequential(\n",
    "            nn.Dropout(),\n",
    "            nn.Linear(8192,),\n",
    "            nn.ReLU(True),\n",
    "            nn.Dropout(),\n",
    "            nn.Linear(512,256),\n",
    "            nn.ReLU(True),\n",
    "            nn.Dropout(),\n",
    "            nn.Linear(256,num_classes),\n",
    "            nn.Softmax()\n",
    "        )\n",
    "\n",
    "    def forward(self, x):\n",
    "        x = self.features(x)\n",
    "\n",
    "        x = x.view(x.size(0), -1)\n",
    "        x = self.classifier(x)\n",
    "        return x\n",
    "\n",
    "\n",
    "class Net(nn.Module):\n",
    "    def __init__(self, in_chanels, num_classes):\n",
    "        super(Net, self).__init__()\n",
    "        self.features = vgg11_bn\n",
    "        self.classifier = nn.Sequential(\n",
    "            nn.Linear(512,2042),\n",
    "            nn.ReLU(True),\n",
    "            nn.Dropout(),\n",
    "            nn.Linear(2042,2042),\n",
    "            nn.ReLU(True),\n",
    "            nn.Dropout(),\n",
    "            nn.Linear(2042,num_classes)\n",
    "        )\n",
    "\n",
    "    def forward(self, x):\n",
    "        x = self.features(x)\n",
    "        x = x.view(x.size(0), -1)\n",
    "        x = self.classifier(x)\n",
    "        return x"
   ]
  },
  {
   "cell_type": "code",
   "execution_count": 29,
   "metadata": {
    "pycharm": {
     "name": "#%%\n"
    }
   },
   "outputs": [],
   "source": [
    "\n",
    "learning_rate=2e-5\n",
    "betas = (0.9,0.999)\n",
    "batch_size = 256\n",
    "sample_limit = 6000\n",
    "epochs = 50\n",
    "\n",
    "n_epochs_stop = 6\n",
    "epochs_no_improve = 0\n",
    "early_stop = False"
   ]
  },
  {
   "cell_type": "code",
   "execution_count": 26,
   "metadata": {},
   "outputs": [],
   "source": [
    "#model saving\n",
    "\n",
    "def save_model(epoch, model, optimizer, train_loss, valid_loss, accuracy):\n",
    "    PATH = 'current_state.pt'\n",
    "    torch.save({\n",
    "        'epoch': epoch,\n",
    "        'model_state_dict': model.state_dict(),\n",
    "        'optimizer_state_dict': optimizer.state_dict(),\n",
    "        'train_loss': train_loss,\n",
    "        'valid_loss': valid_loss,\n",
    "        'accuracy' : accuracy\n",
    "    }, PATH)"
   ]
  },
  {
   "cell_type": "code",
   "execution_count": 30,
   "metadata": {
    "pycharm": {
     "name": "#%%\n"
    }
   },
   "outputs": [
    {
     "name": "stderr",
     "output_type": "stream",
     "text": [
      "wandb: wandb version 0.10.25 is available!  To upgrade, please run:\n",
      "wandb:  $ pip install wandb --upgrade\n"
     ]
    },
    {
     "data": {
      "text/html": [
       "\n",
       "                Tracking run with wandb version 0.10.22<br/>\n",
       "                Syncing run <strong style=\"color:#cdcd00\">stellar-eon-178</strong> to <a href=\"https://wandb.ai\" target=\"_blank\">Weights & Biases</a> <a href=\"https://docs.wandb.com/integrations/jupyter.html\" target=\"_blank\">(Documentation)</a>.<br/>\n",
       "                Project page: <a href=\"https://wandb.ai/xpetricko/Zadanie2-CIFAR\" target=\"_blank\">https://wandb.ai/xpetricko/Zadanie2-CIFAR</a><br/>\n",
       "                Run page: <a href=\"https://wandb.ai/xpetricko/Zadanie2-CIFAR/runs/3gsjrb1g\" target=\"_blank\">https://wandb.ai/xpetricko/Zadanie2-CIFAR/runs/3gsjrb1g</a><br/>\n",
       "                Run data is saved locally in <code>C:\\Users\\ollyt\\Jupyter-projects\\NSIETE\\Zadanie 2\\wandb\\run-20210410_215025-3gsjrb1g</code><br/><br/>\n",
       "            "
      ],
      "text/plain": [
       "<IPython.core.display.HTML object>"
      ]
     },
     "metadata": {},
     "output_type": "display_data"
    },
    {
     "name": "stdout",
     "output_type": "stream",
     "text": [
      "Epoch: 1, train loss: 4.5834, valid loss: 4.5974, valid acc: 1.70%\n",
      "Epoch: 2, train loss: 4.4944, valid loss: 4.5073, valid acc: 8.00%\n",
      "Epoch: 3, train loss: 4.4140, valid loss: 4.4007, valid acc: 8.00%\n",
      "Epoch: 4, train loss: 4.3360, valid loss: 4.3260, valid acc: 8.10%\n",
      "Epoch: 5, train loss: 4.2536, valid loss: 4.2640, valid acc: 9.50%\n",
      "Epoch: 6, train loss: 4.1677, valid loss: 4.2011, valid acc: 10.70%\n",
      "Epoch: 7, train loss: 4.0927, valid loss: 4.1375, valid acc: 12.00%\n",
      "Epoch: 8, train loss: 3.9995, valid loss: 4.0646, valid acc: 12.90%\n",
      "Epoch: 9, train loss: 3.8978, valid loss: 3.9887, valid acc: 14.10%\n",
      "Epoch: 10, train loss: 3.7946, valid loss: 3.9246, valid acc: 14.70%\n",
      "Epoch: 11, train loss: 3.6878, valid loss: 3.8564, valid acc: 14.90%\n",
      "Epoch: 12, train loss: 3.5636, valid loss: 3.7943, valid acc: 14.90%\n",
      "Epoch: 13, train loss: 3.4416, valid loss: 3.7352, valid acc: 15.90%\n",
      "Epoch: 14, train loss: 3.2896, valid loss: 3.6853, valid acc: 16.50%\n",
      "Epoch: 15, train loss: 3.1301, valid loss: 3.6334, valid acc: 16.80%\n",
      "Epoch: 16, train loss: 2.9422, valid loss: 3.5976, valid acc: 16.80%\n",
      "Epoch: 17, train loss: 2.7578, valid loss: 3.5389, valid acc: 18.30%\n",
      "Epoch: 18, train loss: 2.5395, valid loss: 3.5205, valid acc: 17.40%\n",
      "Epoch: 19, train loss: 2.3202, valid loss: 3.4921, valid acc: 18.10%\n",
      "Epoch: 20, train loss: 2.0885, valid loss: 3.4786, valid acc: 17.50%\n",
      "Epoch: 21, train loss: 1.8750, valid loss: 3.5047, valid acc: 18.00%\n",
      "Epoch: 22, train loss: 1.6931, valid loss: 3.5807, valid acc: 17.70%\n",
      "Epoch: 23, train loss: 1.5267, valid loss: 3.5431, valid acc: 18.30%\n",
      "Epoch: 24, train loss: 1.3331, valid loss: 3.4771, valid acc: 19.20%\n",
      "Epoch: 25, train loss: 1.1632, valid loss: 3.5500, valid acc: 18.30%\n",
      "Epoch: 26, train loss: 1.0200, valid loss: 3.6341, valid acc: 16.80%\n",
      "Epoch: 27, train loss: 0.8557, valid loss: 3.5712, valid acc: 16.90%\n",
      "Epoch: 28, train loss: 0.7171, valid loss: 3.6848, valid acc: 16.30%\n",
      "Epoch: 29, train loss: 0.5975, valid loss: 3.7007, valid acc: 17.00%\n",
      "Epoch: 30, train loss: 0.5090, valid loss: 3.7802, valid acc: 15.50%\n",
      "Early Stopping on epoch 29/50, min valid loss: 3.4770528078079224, last valid loss: 3.780240476131439\n"
     ]
    },
    {
     "data": {
      "text/html": [
       "<br/>Waiting for W&B process to finish, PID 17784<br/>Program ended successfully."
      ],
      "text/plain": [
       "<IPython.core.display.HTML object>"
      ]
     },
     "metadata": {},
     "output_type": "display_data"
    },
    {
     "data": {
      "application/vnd.jupyter.widget-view+json": {
       "model_id": "",
       "version_major": 2,
       "version_minor": 0
      },
      "text/plain": [
       "VBox(children=(Label(value=' 0.00MB of 0.00MB uploaded (0.00MB deduped)\\r'), FloatProgress(value=1.0, max=1.0)…"
      ]
     },
     "metadata": {},
     "output_type": "display_data"
    },
    {
     "data": {
      "text/html": [
       "Find user logs for this run at: <code>C:\\Users\\ollyt\\Jupyter-projects\\NSIETE\\Zadanie 2\\wandb\\run-20210410_215025-3gsjrb1g\\logs\\debug.log</code>"
      ],
      "text/plain": [
       "<IPython.core.display.HTML object>"
      ]
     },
     "metadata": {},
     "output_type": "display_data"
    },
    {
     "data": {
      "text/html": [
       "Find internal logs for this run at: <code>C:\\Users\\ollyt\\Jupyter-projects\\NSIETE\\Zadanie 2\\wandb\\run-20210410_215025-3gsjrb1g\\logs\\debug-internal.log</code>"
      ],
      "text/plain": [
       "<IPython.core.display.HTML object>"
      ]
     },
     "metadata": {},
     "output_type": "display_data"
    },
    {
     "data": {
      "text/html": [
       "<h3>Run summary:</h3><br/><style>\n",
       "    table.wandb td:nth-child(1) { padding: 0 10px; text-align: right }\n",
       "    </style><table class=\"wandb\">\n",
       "<tr><td>Train mean loss</td><td>0.50897</td></tr><tr><td>Valid mean loss</td><td>3.78024</td></tr><tr><td>Accuracy</td><td>15.5</td></tr><tr><td>_runtime</td><td>132</td></tr><tr><td>_timestamp</td><td>1618084358</td></tr><tr><td>_step</td><td>29</td></tr></table>"
      ],
      "text/plain": [
       "<IPython.core.display.HTML object>"
      ]
     },
     "metadata": {},
     "output_type": "display_data"
    },
    {
     "data": {
      "text/html": [
       "<h3>Run history:</h3><br/><style>\n",
       "    table.wandb td:nth-child(1) { padding: 0 10px; text-align: right }\n",
       "    </style><table class=\"wandb\">\n",
       "<tr><td>Train mean loss</td><td>████▇▇▇▇▇▇▆▆▆▆▆▅▅▄▄▄▃▃▃▂▂▂▂▁▁▁</td></tr><tr><td>Valid mean loss</td><td>█▇▇▆▆▆▅▅▄▄▃▃▃▂▂▂▁▁▁▁▁▂▁▁▁▂▂▂▂▃</td></tr><tr><td>Accuracy</td><td>▁▄▄▄▄▅▅▅▆▆▆▆▇▇▇▇█▇█▇█▇███▇▇▇▇▇</td></tr><tr><td>_runtime</td><td>▁▁▂▂▂▂▂▃▃▃▃▄▄▄▄▅▅▅▅▆▆▆▆▇▇▇▇███</td></tr><tr><td>_timestamp</td><td>▁▁▂▂▂▂▂▃▃▃▃▄▄▄▄▅▅▅▅▆▆▆▆▇▇▇▇███</td></tr><tr><td>_step</td><td>▁▁▁▂▂▂▂▃▃▃▃▄▄▄▄▅▅▅▅▆▆▆▆▇▇▇▇███</td></tr></table><br/>"
      ],
      "text/plain": [
       "<IPython.core.display.HTML object>"
      ]
     },
     "metadata": {},
     "output_type": "display_data"
    },
    {
     "data": {
      "text/html": [
       "Synced 5 W&B file(s), 0 media file(s), 0 artifact file(s) and 0 other file(s)"
      ],
      "text/plain": [
       "<IPython.core.display.HTML object>"
      ]
     },
     "metadata": {},
     "output_type": "display_data"
    },
    {
     "data": {
      "text/html": [
       "\n",
       "                    <br/>Synced <strong style=\"color:#cdcd00\">stellar-eon-178</strong>: <a href=\"https://wandb.ai/xpetricko/Zadanie2-CIFAR/runs/3gsjrb1g\" target=\"_blank\">https://wandb.ai/xpetricko/Zadanie2-CIFAR/runs/3gsjrb1g</a><br/>\n",
       "                "
      ],
      "text/plain": [
       "<IPython.core.display.HTML object>"
      ]
     },
     "metadata": {},
     "output_type": "display_data"
    }
   ],
   "source": [
    "run = wandb.init(project='Zadanie2-CIFAR', entity='xpetricko')\n",
    "run.name = f\"17run-{epochs}e-{batch_size}bs-vgg11_bn\"\n",
    "\n",
    "\n",
    "config = wandb.config\n",
    "config.learning_rate = learning_rate\n",
    "config.sample_limit=sample_limit\n",
    "config.batch_size=batch_size\n",
    "config.epochs_with_no_improve =  6\n",
    "config.notes='update_architecture'\n",
    "\n",
    "\n",
    "model = Net(3,100)\n",
    "model.to(device)\n",
    "optimizer = optim.AdamW(model.parameters(),lr=learning_rate, weight_decay = 0.1) # pri adamW weight_decay = 1e-2\n",
    "loss_fn = nn.CrossEntropyLoss()\n",
    "\n",
    "X_train,X_valid,y_train,y_valid = train_test_split_v2(X_train_np,\n",
    "                                                      y_train_np,\n",
    "                                                      sample_limit=sample_limit,\n",
    "                                                      test_size=1/6,\n",
    "                                                      random_state=7)\n",
    "\n",
    "train_data = CIFAR(X_train,y_train, transform=transforms.ToTensor())\n",
    "valid_data = CIFAR(X_valid,y_valid, transform=transforms.ToTensor())\n",
    "\n",
    "train_loader = DataLoader(dataset=train_data,batch_size=batch_size)\n",
    "valid_loader = DataLoader(dataset=valid_data,batch_size=batch_size)\n",
    "\n",
    "mean_train_losses = []\n",
    "mean_valid_losses = []\n",
    "valid_acc_list = []\n",
    "min_valid_loss = np.Inf\n",
    "\n",
    "\n",
    "torch.manual_seed(7)\n",
    "\n",
    "for epoch in range(epochs):\n",
    "    model.train()\n",
    "\n",
    "    train_losses = []\n",
    "    valid_losses = []\n",
    "\n",
    "    for i, (images,labels) in enumerate(train_loader):\n",
    "        images, labels = images.to(device), labels.to(device)\n",
    "        optimizer.zero_grad()\n",
    "        output = model.forward(images)\n",
    "        loss = loss_fn(output,labels)\n",
    "        loss.backward()\n",
    "        optimizer.step()\n",
    "\n",
    "        train_losses.append(loss.item())\n",
    "\n",
    "\n",
    "    model.eval()\n",
    "    correct = 0\n",
    "    total = 0\n",
    "\n",
    "    with torch.no_grad():\n",
    "        for i,(images,labels) in enumerate(valid_loader):\n",
    "            images, labels = images.to(device), labels.to(device)\n",
    "            output = model.forward(images)\n",
    "            loss = loss_fn(output,labels)\n",
    "\n",
    "            valid_losses.append(loss.item())\n",
    "\n",
    "            _, predicted = torch.max(output.data,1)\n",
    "            correct += (predicted==labels).sum().item()\n",
    "            total += labels.size(0)\n",
    "\n",
    "    mean_train_losses.append(np.mean(train_losses))\n",
    "    mean_valid_losses.append(np.mean(valid_losses))\n",
    "    accuracy = 100*correct/total\n",
    "    valid_acc_list.append(accuracy)\n",
    "      \n",
    "\n",
    "    wandb.log({\"Train mean loss\":mean_train_losses[-1],\"Valid mean loss\":mean_valid_losses[-1],\"Accuracy\":accuracy})\n",
    "\n",
    "    print('Epoch: {}, train loss: {:.4f}, valid loss: {:.4f}, valid acc: {:.2f}%'.format(epoch+1,mean_train_losses[-1],mean_valid_losses[-1],accuracy))\n",
    "    \n",
    "    if(mean_valid_losses[-1] < min_valid_loss):\n",
    "        save_model(epoch, model, optimizer, mean_train_losses[-1], mean_valid_losses[-1], accuracy)\n",
    "        epochs_no_improve = 0\n",
    "        min_valid_loss = mean_valid_losses[-1]\n",
    "    else:\n",
    "        epochs_no_improve += 1\n",
    "    \n",
    "    if epoch > 5 and epochs_no_improve == n_epochs_stop:\n",
    "        print(f'Early Stopping on epoch {epoch}/{epochs}, min valid loss: {min_valid_loss}, last valid loss: {mean_valid_losses[-1]}')\n",
    "#         early_stop = True\n",
    "        break\n",
    "torch.cuda.empty_cache()        \n",
    "run.finish()"
   ]
  },
  {
   "cell_type": "code",
   "execution_count": 18,
   "metadata": {},
   "outputs": [
    {
     "name": "stdout",
     "output_type": "stream",
     "text": [
      "|===========================================================================|\n",
      "|                  PyTorch CUDA memory summary, device ID 0                 |\n",
      "|---------------------------------------------------------------------------|\n",
      "|            CUDA OOMs: 0            |        cudaMalloc retries: 0         |\n",
      "|===========================================================================|\n",
      "|        Metric         | Cur Usage  | Peak Usage | Tot Alloc  | Tot Freed  |\n",
      "|---------------------------------------------------------------------------|\n",
      "| Allocated memory      |  321359 KB |    1290 MB |    2740 GB |    2740 GB |\n",
      "|       from large pool |  314283 KB |    1282 MB |    2734 GB |    2734 GB |\n",
      "|       from small pool |    7075 KB |      11 MB |       5 GB |       5 GB |\n",
      "|---------------------------------------------------------------------------|\n",
      "| Active memory         |  321359 KB |    1290 MB |    2740 GB |    2740 GB |\n",
      "|       from large pool |  314283 KB |    1282 MB |    2734 GB |    2734 GB |\n",
      "|       from small pool |    7075 KB |      11 MB |       5 GB |       5 GB |\n",
      "|---------------------------------------------------------------------------|\n",
      "| GPU reserved memory   |  589824 KB |    1950 MB |    1950 MB |    1374 MB |\n",
      "|       from large pool |  581632 KB |    1936 MB |    1936 MB |    1368 MB |\n",
      "|       from small pool |    8192 KB |      14 MB |      14 MB |       6 MB |\n",
      "|---------------------------------------------------------------------------|\n",
      "| Non-releasable memory |  268465 KB |  660841 KB |    2825 GB |    2825 GB |\n",
      "|       from large pool |  267348 KB |  658301 KB |    2818 GB |    2817 GB |\n",
      "|       from small pool |    1116 KB |    5203 KB |       7 GB |       7 GB |\n",
      "|---------------------------------------------------------------------------|\n",
      "| Allocations           |     258    |     339    |  168678    |  168420    |\n",
      "|       from large pool |      45    |      91    |   78753    |   78708    |\n",
      "|       from small pool |     213    |     248    |   89925    |   89712    |\n",
      "|---------------------------------------------------------------------------|\n",
      "| Active allocs         |     258    |     339    |  168678    |  168420    |\n",
      "|       from large pool |      45    |      91    |   78753    |   78708    |\n",
      "|       from small pool |     213    |     248    |   89925    |   89712    |\n",
      "|---------------------------------------------------------------------------|\n",
      "| GPU reserved segments |      13    |      20    |      20    |       7    |\n",
      "|       from large pool |       9    |      13    |      13    |       4    |\n",
      "|       from small pool |       4    |       7    |       7    |       3    |\n",
      "|---------------------------------------------------------------------------|\n",
      "| Non-releasable allocs |      21    |      28    |   88233    |   88212    |\n",
      "|       from large pool |       7    |      10    |   36191    |   36184    |\n",
      "|       from small pool |      14    |      20    |   52042    |   52028    |\n",
      "|===========================================================================|\n",
      "\n"
     ]
    }
   ],
   "source": [
    "print(torch.cuda.memory_summary(device=device))"
   ]
  },
  {
   "cell_type": "code",
   "execution_count": 19,
   "metadata": {
    "pycharm": {
     "name": "#%%\n"
    }
   },
   "outputs": [],
   "source": [
    "\n",
    "# trfs = [\n",
    "#     # {\"name\":\"No transform\", \"tr\":transforms.ToTensor()},\n",
    "#     # {\n",
    "#     #     \"name\":\"Normalize\",\n",
    "#     #     \"tr\": transforms.Compose([\n",
    "#     #         transforms.ToTensor(),\n",
    "#     #         transforms.Normalize((0.5, 0.5, 0.5), (0.5, 0.5, 0.5))\n",
    "#     #     ]),\n",
    "#     #     \"tr_v\": transforms.Compose([\n",
    "#     #         transforms.ToTensor(),\n",
    "#     #         transforms.Normalize((0.5,0.5,0.5),(0.5,0.5,0.5))\n",
    "#     #     ])\n",
    "#     # },\n",
    "#     {\n",
    "#         \"name\":\"Random crop\",\n",
    "#         \"tr\":transforms.Compose([\n",
    "#             transforms.ToTensor(),\n",
    "#             transforms.RandomResizedCrop(32)\n",
    "#         ]),\n",
    "#         \"tr_v\": transforms.Compose([\n",
    "#             transforms.ToTensor()\n",
    "#         ])\n",
    "#     },\n",
    "#     {\n",
    "#         \"name\":\"Norm + Crop\",\n",
    "#         \"tr\":transforms.Compose([\n",
    "#             transforms.ToTensor(),\n",
    "#             transforms.Normalize((0.5, 0.5, 0.5), (0.5, 0.5, 0.5)),\n",
    "#             transforms.RandomResizedCrop(32)\n",
    "#         ]),\n",
    "#         \"tr_v\": transforms.Compose([\n",
    "#             transforms.ToTensor(),\n",
    "#             transforms.Normalize((0.5,0.5,0.5),(0.5,0.5,0.5))\n",
    "#         ])\n",
    "#     },\n",
    "#     {\n",
    "#         \"name\":\"RandFlip + Norm + Crop\",\n",
    "#         \"tr\":transforms.Compose([\n",
    "#             transforms.ToTensor(),\n",
    "#             transforms.RandomHorizontalFlip(),\n",
    "#             transforms.Normalize((0.5, 0.5, 0.5), (0.5, 0.5, 0.5)),\n",
    "#             transforms.RandomResizedCrop(32)\n",
    "#         ]),\n",
    "#         \"tr_v\": transforms.Compose([\n",
    "#             transforms.ToTensor(),\n",
    "#             transforms.Normalize((0.5,0.5,0.5),(0.5,0.5,0.5))\n",
    "#         ])\n",
    "#     }\n",
    "# ]"
   ]
  }
 ],
 "metadata": {
  "kernelspec": {
   "display_name": "netenv",
   "language": "python",
   "name": "netenv"
  },
  "language_info": {
   "codemirror_mode": {
    "name": "ipython",
    "version": 3
   },
   "file_extension": ".py",
   "mimetype": "text/x-python",
   "name": "python",
   "nbconvert_exporter": "python",
   "pygments_lexer": "ipython3",
   "version": "3.8.8"
  }
 },
 "nbformat": 4,
 "nbformat_minor": 1
}
