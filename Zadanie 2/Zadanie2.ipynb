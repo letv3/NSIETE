{
 "cells": [
  {
   "cell_type": "code",
   "execution_count": 1,
   "metadata": {
    "pycharm": {
     "name": "#%%\n"
    }
   },
   "outputs": [],
   "source": [
    "import numpy as np\n",
    "import os\n",
    "\n",
    "import matplotlib.pyplot as plt\n",
    "import seaborn as sns\n",
    "\n",
    "from sklearn.model_selection import train_test_split\n",
    "\n",
    "import wandb\n",
    "\n",
    "import tarfile\n",
    "import pickle\n",
    "from collections import Counter\n",
    "\n",
    "import torch\n",
    "import torch.nn as nn\n",
    "from torch import optim\n",
    "import torch.nn.functional as F\n",
    "from torch.utils.data import Dataset, DataLoader\n",
    "import torchvision\n",
    "import torchvision.transforms as transforms\n"
   ]
  },
  {
   "cell_type": "code",
   "execution_count": 2,
   "metadata": {},
   "outputs": [
    {
     "data": {
      "text/plain": [
       "device(type='cuda')"
      ]
     },
     "execution_count": 2,
     "metadata": {},
     "output_type": "execute_result"
    }
   ],
   "source": [
    "device = torch.device('cuda' if torch.cuda.is_available() else 'cpu')\n",
    "device"
   ]
  },
  {
   "cell_type": "code",
   "execution_count": null,
   "metadata": {
    "pycharm": {
     "name": "#%%\n"
    }
   },
   "outputs": [],
   "source": [
    "# import requests\n",
    "\n",
    "# import urllib\n",
    "\n",
    "# testfile = urllib.URLopener()\n",
    "# testfile.retrieve(\"https://www.cs.toronto.edu/~kriz/cifar-100-python.tar.gz\", \"cifar-100-python.tar.gz\")"
   ]
  },
  {
   "cell_type": "code",
   "execution_count": 3,
   "metadata": {
    "pycharm": {
     "name": "#%%\n"
    }
   },
   "outputs": [],
   "source": [
    "\n",
    "with tarfile.open(\"cifar-100-python.tar.gz\", 'r|gz') as f:\n",
    "        f.extractall(path=\"./\")\n",
    "        f.close()\n",
    "\n",
    "# Extract cifar-100-python.tar.gz to separate data"
   ]
  },
  {
   "cell_type": "code",
   "execution_count": 4,
   "metadata": {
    "pycharm": {
     "name": "#%%\n"
    }
   },
   "outputs": [],
   "source": [
    "data = pickle.load(open(os.path.join(\"cifar-100-python\", \"train\"), 'rb'), encoding='latin1')\n",
    "X_train_np = data['data']\n",
    "y_train_np = np.asarray(data['fine_labels'], np.int8)\n",
    "\n",
    "data = pickle.load(open(os.path.join('cifar-100-python', 'test'), 'rb'), encoding='latin1')\n",
    "X_test_np = data['data']\n",
    "y_test_np = np.asarray(data['fine_labels'], np.int8)"
   ]
  },
  {
   "cell_type": "code",
   "execution_count": 5,
   "metadata": {
    "pycharm": {
     "name": "#%%\n"
    }
   },
   "outputs": [],
   "source": [
    "# reshape\n",
    "X_train_np = X_train_np.reshape(-1, 3, 32, 32)\n",
    "X_test_np = X_test_np.reshape(-1, 3, 32, 32)\n"
   ]
  },
  {
   "cell_type": "code",
   "execution_count": null,
   "metadata": {
    "pycharm": {
     "name": "#%%\n"
    }
   },
   "outputs": [],
   "source": [
    "# X_train_np.shape"
   ]
  },
  {
   "cell_type": "code",
   "execution_count": null,
   "metadata": {
    "pycharm": {
     "name": "#%%\n"
    }
   },
   "outputs": [],
   "source": [
    "# sns.countplot(y_train_np)"
   ]
  },
  {
   "cell_type": "code",
   "execution_count": null,
   "metadata": {
    "pycharm": {
     "name": "#%%\n"
    }
   },
   "outputs": [],
   "source": [
    "x_max,y_max = 3,3\n",
    "offset = 0\n",
    "\n",
    "# f, axarr = plt.subplots(y_max,x_max)\n",
    "# for y in range(y_max):\n",
    "#     for x in range(x_max):\n",
    "#         axarr[y,x].imshow(X_train_np[y*y_max+x+offset])\n",
    "# print(y_train[i])\n",
    "# plt.imshow(np.rollaxis(X_train[i], 0, 3))"
   ]
  },
  {
   "cell_type": "code",
   "execution_count": 6,
   "metadata": {
    "pycharm": {
     "name": "#%%\n"
    }
   },
   "outputs": [],
   "source": [
    "mean = X_train_np.mean(axis=(0,1,2), keepdims=True).astype(np.float32)\n",
    "std = X_train_np.std(axis=(0,1,2), keepdims=True).astype(np.float32)\n",
    "\n",
    "X_train_np = (X_train_np - mean) / std\n",
    "X_test_np = (X_test_np - mean) / std\n",
    "\n",
    "#TODO POROVNAT S -MEAN)/MAX"
   ]
  },
  {
   "cell_type": "code",
   "execution_count": 7,
   "metadata": {
    "pycharm": {
     "name": "#%%\n"
    }
   },
   "outputs": [],
   "source": [
    "def train_test_split_v2(X_train,y_train,test_size,random_state=None,sample_limit=None):\n",
    "    total_count = len(X_train)\n",
    "    if sample_limit:\n",
    "        _, X_train, _, y_train = train_test_split(X_train, y_train, test_size=1/(total_count/sample_limit), random_state=random_state)\n",
    "    return train_test_split(X_train, y_train, test_size=test_size, random_state=random_state)"
   ]
  },
  {
   "cell_type": "code",
   "execution_count": 8,
   "metadata": {
    "pycharm": {
     "name": "#%%\n"
    }
   },
   "outputs": [
    {
     "name": "stdout",
     "output_type": "stream",
     "text": [
      "(41666, 3, 32, 32)\n",
      "(8334, 3, 32, 32)\n",
      "50000\n"
     ]
    }
   ],
   "source": [
    "X_train,X_valid,y_train,y_valid= train_test_split_v2(X_train_np, y_train_np,sample_limit=None, test_size=1/6, random_state=42)\n",
    "\n",
    "print(X_train.shape)\n",
    "print(X_valid.shape)\n",
    "print(X_train.shape[0]+X_valid.shape[0])\n"
   ]
  },
  {
   "cell_type": "code",
   "execution_count": 9,
   "metadata": {
    "pycharm": {
     "name": "#%%\n"
    }
   },
   "outputs": [],
   "source": [
    "class CIFAR(Dataset):\n",
    "    def __init__(self, X,y,transform=None):\n",
    "        self.X=X\n",
    "        self.y = torch.LongTensor(y)\n",
    "        self.transform = transform\n",
    "\n",
    "    def __len__(self):\n",
    "        return len(self.X)\n",
    "\n",
    "    def __getitem__(self, index):\n",
    "\n",
    "        image = np.rollaxis(self.X[index],0,3)\n",
    "        label = self.y[index]\n",
    "\n",
    "        if self.transform is not None:\n",
    "            image = self.transform(image)\n",
    "\n",
    "        return image, label\n"
   ]
  },
  {
   "cell_type": "code",
   "execution_count": 10,
   "metadata": {
    "pycharm": {
     "name": "#%%\n"
    }
   },
   "outputs": [
    {
     "name": "stderr",
     "output_type": "stream",
     "text": [
      "Clipping input data to the valid range for imshow with RGB data ([0..1] for floats or [0..255] for integers).\n",
      "Clipping input data to the valid range for imshow with RGB data ([0..1] for floats or [0..255] for integers).\n",
      "Clipping input data to the valid range for imshow with RGB data ([0..1] for floats or [0..255] for integers).\n",
      "Clipping input data to the valid range for imshow with RGB data ([0..1] for floats or [0..255] for integers).\n",
      "Clipping input data to the valid range for imshow with RGB data ([0..1] for floats or [0..255] for integers).\n",
      "Clipping input data to the valid range for imshow with RGB data ([0..1] for floats or [0..255] for integers).\n",
      "Clipping input data to the valid range for imshow with RGB data ([0..1] for floats or [0..255] for integers).\n",
      "Clipping input data to the valid range for imshow with RGB data ([0..1] for floats or [0..255] for integers).\n",
      "Clipping input data to the valid range for imshow with RGB data ([0..1] for floats or [0..255] for integers).\n"
     ]
    },
    {
     "name": "stdout",
     "output_type": "stream",
     "text": [
      "images shape:  torch.Size([256, 3, 32, 32])\n",
      "labels shape:  torch.Size([256])\n"
     ]
    },
    {
     "data": {
      "image/png": "[encoded data removed]",
      "text/plain": [
       "<Figure size 432x288 with 9 Axes>"
      ]
     },
     "metadata": {
      "needs_background": "light"
     },
     "output_type": "display_data"
    }
   ],
   "source": [
    "transform = transforms.Compose([\n",
    "    transforms.ToTensor(),\n",
    "    transforms.RandomResizedCrop(32)\n",
    "])\n",
    "\n",
    "train_data = CIFAR(X_train,y_train, transform=transform)\n",
    "valid_data = CIFAR(X_valid,y_valid, transform=transforms.ToTensor())\n",
    "\n",
    "train_loader = DataLoader(dataset=train_data,batch_size=256)\n",
    "valid_loader = DataLoader(dataset=valid_data,batch_size=256)\n",
    "\n",
    "\n",
    "dataiter=iter(train_loader)\n",
    "images, labels = dataiter.next()\n",
    "\n",
    "print('images shape: ', images.size())\n",
    "print('labels shape: ', labels.size())\n",
    "\n",
    "\n",
    "x_max,y_max = 3,3\n",
    "offset = 0\n",
    "\n",
    "f, axarr = plt.subplots(y_max,x_max)\n",
    "for y in range(y_max):\n",
    "    for x in range(x_max):\n",
    "        axarr[y,x].imshow(images[y*y_max+x].permute(1,2,0))"
   ]
  },
  {
   "cell_type": "code",
   "execution_count": null,
   "metadata": {},
   "outputs": [],
   "source": [
    "# train_data.X.is_cuda"
   ]
  },
  {
   "cell_type": "code",
   "execution_count": 11,
   "metadata": {},
   "outputs": [],
   "source": [
    "vgg11 = nn.Sequential(\n",
    "            nn.Conv2d(3,64, kernel_size=3, padding=1),\n",
    "            nn.ReLU(True),\n",
    "            nn.MaxPool2d(kernel_size=2, stride=2),\n",
    "            nn.Conv2d(64,128, kernel_size=3, padding=1),\n",
    "            nn.ReLU(True),\n",
    "            nn.MaxPool2d(kernel_size=2, stride=2),\n",
    "            nn.Conv2d(128,256, kernel_size=3, padding=1),\n",
    "            nn.ReLU(True),\n",
    "            nn.Conv2d(256,256, kernel_size=3, padding=1),\n",
    "            nn.ReLU(True),\n",
    "            nn.MaxPool2d(kernel_size=2, stride=2),\n",
    "            nn.Conv2d(256,512, kernel_size=3, padding=1),\n",
    "            nn.ReLU(True),\n",
    "            nn.Conv2d(512,512, kernel_size=3, padding=1),\n",
    "            nn.ReLU(True),\n",
    "            nn.MaxPool2d(kernel_size=2, stride=2),\n",
    "            nn.Conv2d(512,512, kernel_size=3, padding=1),\n",
    "            nn.ReLU(True),\n",
    "            nn.Conv2d(512,512, kernel_size=3, padding=1),\n",
    "            nn.ReLU(True),\n",
    "            nn.MaxPool2d(kernel_size=2, stride=2),\n",
    "        )\n",
    "\n",
    "\n",
    "vgg11_bn = nn.Sequential(\n",
    "            nn.Conv2d(3,64, kernel_size=3, padding=1),\n",
    "            nn.BatchNorm2d(64),\n",
    "            nn.ReLU(True),\n",
    "            nn.MaxPool2d(kernel_size=2, stride=2),\n",
    "            nn.Conv2d(64,128, kernel_size=3, padding=1),\n",
    "            nn.BatchNorm2d(128),\n",
    "            nn.ReLU(True),\n",
    "            nn.MaxPool2d(kernel_size=2, stride=2),\n",
    "            nn.Conv2d(128,256, kernel_size=3, padding=1),\n",
    "            nn.BatchNorm2d(256),\n",
    "            nn.ReLU(True),\n",
    "            nn.Conv2d(256,256, kernel_size=3, padding=1),\n",
    "            nn.BatchNorm2d(256),\n",
    "            nn.ReLU(True),\n",
    "            nn.MaxPool2d(kernel_size=2, stride=2),\n",
    "            nn.Conv2d(256,512, kernel_size=3, padding=1),\n",
    "            nn.BatchNorm2d(512),\n",
    "            nn.ReLU(True),\n",
    "            nn.Conv2d(512,512, kernel_size=3, padding=1),\n",
    "            nn.BatchNorm2d(512),\n",
    "            nn.ReLU(True),\n",
    "            nn.MaxPool2d(kernel_size=2, stride=2),\n",
    "            nn.Conv2d(512,512, kernel_size=3, padding=1),\n",
    "            nn.BatchNorm2d(512),\n",
    "            nn.ReLU(True),\n",
    "            nn.Conv2d(512,512, kernel_size=3, padding=1),\n",
    "            nn.BatchNorm2d(512),\n",
    "            nn.ReLU(True),\n",
    "            nn.MaxPool2d(kernel_size=2, stride=2),\n",
    "        )\n",
    "\n",
    "vgg13_bn = nn.Sequential(\n",
    "    nn.Conv2d(3,64, kernel_size=3, padding=1),\n",
    "    nn.BatchNorm2d(64),\n",
    "    nn.ReLU(True),\n",
    "    # ---\n",
    "    nn.Conv2d(64,64, kernel_size=3, padding=1),\n",
    "    nn.BatchNorm2d(64),\n",
    "    nn.ReLU(True),\n",
    "    # ---\n",
    "    nn.MaxPool2d(kernel_size=2, stride=2),\n",
    "    # ---\n",
    "    nn.Conv2d(64,128, kernel_size=3, padding=1),\n",
    "    nn.BatchNorm2d(128),\n",
    "    nn.ReLU(True),\n",
    "    # ---\n",
    "    nn.Conv2d(128,128, kernel_size=3, padding=1),\n",
    "    nn.BatchNorm2d(128),\n",
    "    nn.ReLU(True),\n",
    "    # ---\n",
    "    nn.MaxPool2d(kernel_size=2, stride=2),\n",
    "    # ---\n",
    "    nn.Conv2d(128,256, kernel_size=3, padding=1),\n",
    "    nn.BatchNorm2d(256),\n",
    "    nn.ReLU(True),\n",
    "    # ---\n",
    "    nn.Conv2d(256,256, kernel_size=3, padding=1),\n",
    "    nn.BatchNorm2d(256),\n",
    "    nn.ReLU(True),\n",
    "    # ---\n",
    "    nn.MaxPool2d(kernel_size=2, stride=2),\n",
    "    # ---\n",
    "    nn.Conv2d(256,512, kernel_size=3, padding=1),\n",
    "    nn.BatchNorm2d(512),\n",
    "    nn.ReLU(True),\n",
    "    # ---\n",
    "    nn.Conv2d(512,512, kernel_size=3, padding=1),\n",
    "    nn.BatchNorm2d(512),\n",
    "    nn.ReLU(True),\n",
    "    # ---\n",
    "    nn.MaxPool2d(kernel_size=2, stride=2),\n",
    "    # ---\n",
    "    nn.Conv2d(512,512, kernel_size=3, padding=1),\n",
    "    nn.BatchNorm2d(512),\n",
    "    nn.ReLU(True),\n",
    "    # ---\n",
    "    nn.Conv2d(512,512, kernel_size=3, padding=1),\n",
    "    nn.BatchNorm2d(512),\n",
    "    nn.ReLU(True),\n",
    "    # ---\n",
    "    nn.MaxPool2d(kernel_size=2, stride=2)\n",
    ")\n",
    "\n",
    "vgg16_bn = nn.Sequential(\n",
    "    nn.Conv2d(3,64, kernel_size=3, padding=1),\n",
    "    nn.BatchNorm2d(64),\n",
    "    nn.ReLU(True),\n",
    "    # ---\n",
    "    nn.Conv2d(64,64, kernel_size=3, padding=1),\n",
    "    nn.BatchNorm2d(64),\n",
    "    nn.ReLU(True),\n",
    "    # ---\n",
    "    nn.MaxPool2d(kernel_size=2, stride=2),\n",
    "    # ---\n",
    "    nn.Conv2d(64,128, kernel_size=3, padding=1),\n",
    "    nn.BatchNorm2d(128),\n",
    "    nn.ReLU(True),\n",
    "    # ---\n",
    "    nn.Conv2d(128,128, kernel_size=3, padding=1),\n",
    "    nn.BatchNorm2d(128),\n",
    "    nn.ReLU(True),\n",
    "    # ---\n",
    "    nn.MaxPool2d(kernel_size=2, stride=2),\n",
    "    # ---\n",
    "    nn.Conv2d(128,256, kernel_size=3, padding=1),\n",
    "    nn.BatchNorm2d(256),\n",
    "    nn.ReLU(True),\n",
    "    # ---\n",
    "    nn.Conv2d(256,256, kernel_size=3, padding=1),\n",
    "    nn.BatchNorm2d(256),\n",
    "    nn.ReLU(True),\n",
    "    # ---\n",
    "    nn.Conv2d(256,256, kernel_size=3, padding=1),\n",
    "    nn.BatchNorm2d(256),\n",
    "    nn.ReLU(True),\n",
    "    # ---\n",
    "    nn.MaxPool2d(kernel_size=2, stride=2),\n",
    "    # ---\n",
    "    nn.Conv2d(256,512, kernel_size=3, padding=1),\n",
    "    nn.BatchNorm2d(512),\n",
    "    nn.ReLU(True),\n",
    "    # ---\n",
    "    nn.Conv2d(512,512, kernel_size=3, padding=1),\n",
    "    nn.BatchNorm2d(512),\n",
    "    nn.ReLU(True),\n",
    "    # ---\n",
    "    nn.Conv2d(512,512, kernel_size=3, padding=1),\n",
    "    nn.BatchNorm2d(512),\n",
    "    nn.ReLU(True),\n",
    "    # ---\n",
    "    nn.MaxPool2d(kernel_size=2, stride=2),\n",
    "    # ---\n",
    "    nn.Conv2d(512,512, kernel_size=3, padding=1),\n",
    "    nn.BatchNorm2d(512),\n",
    "    nn.ReLU(True),\n",
    "    # ---\n",
    "    nn.Conv2d(512,512, kernel_size=3, padding=1),\n",
    "    nn.BatchNorm2d(512),\n",
    "    nn.ReLU(True),\n",
    "    # ---\n",
    "    nn.Conv2d(512,512, kernel_size=3, padding=1),\n",
    "    nn.BatchNorm2d(512),\n",
    "    nn.ReLU(True),\n",
    "    # ---\n",
    "    nn.MaxPool2d(kernel_size=2, stride=2)\n",
    ")\n",
    "\n",
    "vgg19_bn = nn.Sequential(\n",
    "    nn.Conv2d(3,64, kernel_size=3, padding=1),\n",
    "    nn.BatchNorm2d(64),\n",
    "    nn.ReLU(True),\n",
    "    # ---\n",
    "    nn.Conv2d(64,64, kernel_size=3, padding=1),\n",
    "    nn.BatchNorm2d(64),\n",
    "    nn.ReLU(True),\n",
    "    # ---\n",
    "    nn.MaxPool2d(kernel_size=2, stride=2),\n",
    "    # ---\n",
    "    nn.Conv2d(64,128, kernel_size=3, padding=1),\n",
    "    nn.BatchNorm2d(128),\n",
    "    nn.ReLU(True),\n",
    "    # ---\n",
    "    nn.Conv2d(128,128, kernel_size=3, padding=1),\n",
    "    nn.BatchNorm2d(128),\n",
    "    nn.ReLU(True),\n",
    "    # ---\n",
    "    nn.MaxPool2d(kernel_size=2, stride=2),\n",
    "    # ---\n",
    "    nn.Conv2d(128,256, kernel_size=3, padding=1),\n",
    "    nn.BatchNorm2d(256),\n",
    "    nn.ReLU(True),\n",
    "    # ---\n",
    "    nn.Conv2d(256,256, kernel_size=3, padding=1),\n",
    "    nn.BatchNorm2d(256),\n",
    "    nn.ReLU(True),\n",
    "    # ---\n",
    "    nn.Conv2d(256,256, kernel_size=3, padding=1),\n",
    "    nn.BatchNorm2d(256),\n",
    "    nn.ReLU(True),\n",
    "    # ---\n",
    "    nn.Conv2d(256,256, kernel_size=3, padding=1),\n",
    "    nn.BatchNorm2d(256),\n",
    "    nn.ReLU(True),\n",
    "    # ---\n",
    "    nn.MaxPool2d(kernel_size=2, stride=2),\n",
    "    # ---\n",
    "    nn.Conv2d(256,512, kernel_size=3, padding=1),\n",
    "    nn.BatchNorm2d(512),\n",
    "    nn.ReLU(True),\n",
    "    # ---\n",
    "    nn.Conv2d(512,512, kernel_size=3, padding=1),\n",
    "    nn.BatchNorm2d(512),\n",
    "    nn.ReLU(True),\n",
    "    # ---\n",
    "    nn.Conv2d(512,512, kernel_size=3, padding=1),\n",
    "    nn.BatchNorm2d(512),\n",
    "    nn.ReLU(True),\n",
    "    # ---\n",
    "    nn.Conv2d(512,512, kernel_size=3, padding=1),\n",
    "    nn.BatchNorm2d(512),\n",
    "    nn.ReLU(True),\n",
    "    # ---\n",
    "    nn.MaxPool2d(kernel_size=2, stride=2),\n",
    "    # ---\n",
    "    nn.Conv2d(512,512, kernel_size=3, padding=1),\n",
    "    nn.BatchNorm2d(512),\n",
    "    nn.ReLU(True),\n",
    "    # ---\n",
    "    nn.Conv2d(512,512, kernel_size=3, padding=1),\n",
    "    nn.BatchNorm2d(512),\n",
    "    nn.ReLU(True),\n",
    "    # ---\n",
    "    nn.Conv2d(512,512, kernel_size=3, padding=1),\n",
    "    nn.BatchNorm2d(512),\n",
    "    nn.ReLU(True),\n",
    "    # ---\n",
    "    nn.Conv2d(512,512, kernel_size=3, padding=1),\n",
    "    nn.BatchNorm2d(512),\n",
    "    nn.ReLU(True),\n",
    "    # ---\n",
    "    nn.MaxPool2d(kernel_size=2, stride=2)\n",
    ")"
   ]
  },
  {
   "cell_type": "code",
   "execution_count": 12,
   "metadata": {
    "pycharm": {
     "name": "#%%\n"
    }
   },
   "outputs": [],
   "source": [
    "class SimpleNet(nn.Module):\n",
    "    def __init__(self, in_chanels, num_classes):\n",
    "        super(SimpleNet, self).__init__()\n",
    "        self.features = nn.Sequential(\n",
    "            nn.Conv2d(in_chanels,128, kernel_size=3, padding=1),\n",
    "            nn.MaxPool2d(kernel_size=2, stride=2),\n",
    "            nn.Conv2d(128,256, kernel_size=3, padding=1),\n",
    "            nn.MaxPool2d(kernel_size=2, stride=2),\n",
    "            nn.Conv2d(256,512, kernel_size=3, padding=1),\n",
    "            nn.MaxPool2d(kernel_size=2, stride=2)\n",
    "        )\n",
    "        self.classifier = nn.Sequential(\n",
    "            nn.Dropout(),\n",
    "            nn.Linear(8192,512),\n",
    "            nn.ReLU(True),\n",
    "            nn.Dropout(),\n",
    "            nn.Linear(512,256),\n",
    "            nn.ReLU(True),\n",
    "            nn.Dropout(),\n",
    "            nn.Linear(256,num_classes),\n",
    "            nn.Softmax()\n",
    "        )\n",
    "\n",
    "    def forward(self, x):\n",
    "        x = self.features(x)\n",
    "\n",
    "        x = x.view(x.size(0), -1)\n",
    "        x = self.classifier(x)\n",
    "        return x\n",
    "\n",
    "\n",
    "class Net(nn.Module):\n",
    "    def __init__(self, in_chanels, num_classes):\n",
    "        super(Net, self).__init__()\n",
    "        self.features = vgg11\n",
    "        self.classifier = nn.Sequential(\n",
    "            nn.Dropout(),\n",
    "            nn.Linear(512,512),\n",
    "            nn.ReLU(True),\n",
    "            nn.Linear(512,256),\n",
    "            nn.ReLU(True),\n",
    "            nn.Dropout(),\n",
    "            nn.Linear(256,num_classes)\n",
    "        )\n",
    "\n",
    "    def forward(self, x):\n",
    "        x = self.features(x)\n",
    "        x = x.view(x.size(0), -1)\n",
    "        x = self.classifier(x)\n",
    "        return x"
   ]
  },
  {
   "cell_type": "code",
   "execution_count": 13,
   "metadata": {
    "pycharm": {
     "name": "#%%\n"
    }
   },
   "outputs": [],
   "source": [
    "\n",
    "learning_rate=1e-4\n",
    "betas = (0.9,0.999)\n",
    "batch_size = 128\n",
    "sample_limit = 6000\n",
    "epochs = 300\n"
   ]
  },
  {
   "cell_type": "code",
   "execution_count": null,
   "metadata": {
    "pycharm": {
     "name": "#%%\n"
    }
   },
   "outputs": [],
   "source": [
    "# # \n",
    "# optimizers = [{\"name\":\"Adam\",\"op\":optim.Adam},{\"name\":\"RMSprop\",\"op\":optim.RMSprop},{\"name\":\"SGD\",\"op\":optim.SGD},]\n",
    "# learning_rates = [1e-1,1e-2,1e-3,1e-4,1e-4]\n"
   ]
  },
  {
   "cell_type": "code",
   "execution_count": null,
   "metadata": {
    "pycharm": {
     "name": "#%%\n"
    }
   },
   "outputs": [],
   "source": [
    "\n",
    "# trfs = [\n",
    "#     # {\"name\":\"No transform\", \"tr\":transforms.ToTensor()},\n",
    "#     # {\n",
    "#     #     \"name\":\"Normalize\",\n",
    "#     #     \"tr\": transforms.Compose([\n",
    "#     #         transforms.ToTensor(),\n",
    "#     #         transforms.Normalize((0.5, 0.5, 0.5), (0.5, 0.5, 0.5))\n",
    "#     #     ]),\n",
    "#     #     \"tr_v\": transforms.Compose([\n",
    "#     #         transforms.ToTensor(),\n",
    "#     #         transforms.Normalize((0.5,0.5,0.5),(0.5,0.5,0.5))\n",
    "#     #     ])\n",
    "#     # },\n",
    "#     {\n",
    "#         \"name\":\"Random crop\",\n",
    "#         \"tr\":transforms.Compose([\n",
    "#             transforms.ToTensor(),\n",
    "#             transforms.RandomResizedCrop(32)\n",
    "#         ]),\n",
    "#         \"tr_v\": transforms.Compose([\n",
    "#             transforms.ToTensor()\n",
    "#         ])\n",
    "#     },\n",
    "#     {\n",
    "#         \"name\":\"Norm + Crop\",\n",
    "#         \"tr\":transforms.Compose([\n",
    "#             transforms.ToTensor(),\n",
    "#             transforms.Normalize((0.5, 0.5, 0.5), (0.5, 0.5, 0.5)),\n",
    "#             transforms.RandomResizedCrop(32)\n",
    "#         ]),\n",
    "#         \"tr_v\": transforms.Compose([\n",
    "#             transforms.ToTensor(),\n",
    "#             transforms.Normalize((0.5,0.5,0.5),(0.5,0.5,0.5))\n",
    "#         ])\n",
    "#     },\n",
    "#     {\n",
    "#         \"name\":\"RandFlip + Norm + Crop\",\n",
    "#         \"tr\":transforms.Compose([\n",
    "#             transforms.ToTensor(),\n",
    "#             transforms.RandomHorizontalFlip(),\n",
    "#             transforms.Normalize((0.5, 0.5, 0.5), (0.5, 0.5, 0.5)),\n",
    "#             transforms.RandomResizedCrop(32)\n",
    "#         ]),\n",
    "#         \"tr_v\": transforms.Compose([\n",
    "#             transforms.ToTensor(),\n",
    "#             transforms.Normalize((0.5,0.5,0.5),(0.5,0.5,0.5))\n",
    "#         ])\n",
    "#     }\n",
    "# ]"
   ]
  },
  {
   "cell_type": "code",
   "execution_count": null,
   "metadata": {
    "pycharm": {
     "name": "#%%\n"
    }
   },
   "outputs": [
    {
     "name": "stderr",
     "output_type": "stream",
     "text": [
      "wandb: Currently logged in as: xpetricko (use `wandb login --relogin` to force relogin)\n",
      "wandb: wandb version 0.10.25 is available!  To upgrade, please run:\n",
      "wandb:  $ pip install wandb --upgrade\n"
     ]
    },
    {
     "data": {
      "text/html": [
       "\n",
       "                Tracking run with wandb version 0.10.22<br/>\n",
       "                Syncing run <strong style=\"color:#cdcd00\">snowy-puddle-68</strong> to <a href=\"https://wandb.ai\" target=\"_blank\">Weights & Biases</a> <a href=\"https://docs.wandb.com/integrations/jupyter.html\" target=\"_blank\">(Documentation)</a>.<br/>\n",
       "                Project page: <a href=\"https://wandb.ai/xpetricko/Zadanie2-CIFAR\" target=\"_blank\">https://wandb.ai/xpetricko/Zadanie2-CIFAR</a><br/>\n",
       "                Run page: <a href=\"https://wandb.ai/xpetricko/Zadanie2-CIFAR/runs/2zq8vofh\" target=\"_blank\">https://wandb.ai/xpetricko/Zadanie2-CIFAR/runs/2zq8vofh</a><br/>\n",
       "                Run data is saved locally in <code>C:\\Users\\ollyt\\Jupyter-projects\\NSIETE\\Zadanie 2\\wandb\\run-20210406_214706-2zq8vofh</code><br/><br/>\n",
       "            "
      ],
      "text/plain": [
       "<IPython.core.display.HTML object>"
      ]
     },
     "metadata": {},
     "output_type": "display_data"
    },
    {
     "name": "stderr",
     "output_type": "stream",
     "text": [
      "C:\\Users\\ollyt\\Jupyter-projects\\NSIETE\\netenv\\lib\\site-packages\\torch\\nn\\modules\\module.py:795: UserWarning: Using a non-full backward hook when the forward contains multiple autograd Nodes is deprecated and will be removed in future versions. This hook will be missing some grad_input. Please use register_full_backward_hook to get the documented behavior.\n",
      "  warnings.warn(\"Using a non-full backward hook when the forward contains multiple autograd Nodes \"\n"
     ]
    },
    {
     "name": "stdout",
     "output_type": "stream",
     "text": [
      "Epoch: 1, train loss: 4.6066, valid loss: 4.6046, valid acc: 0.50%\n",
      "Epoch: 2, train loss: 4.6035, valid loss: 4.5974, valid acc: 1.10%\n",
      "Epoch: 3, train loss: 4.5876, valid loss: 4.5753, valid acc: 1.50%\n",
      "Epoch: 4, train loss: 4.5538, valid loss: 4.5348, valid acc: 2.00%\n",
      "Epoch: 5, train loss: 4.5272, valid loss: 4.4557, valid acc: 2.40%\n",
      "Epoch: 6, train loss: 4.4658, valid loss: 4.4163, valid acc: 2.30%\n",
      "Epoch: 7, train loss: 4.4298, valid loss: 4.3890, valid acc: 2.40%\n",
      "Epoch: 8, train loss: 4.4030, valid loss: 4.3577, valid acc: 1.90%\n",
      "Epoch: 9, train loss: 4.3829, valid loss: 4.3417, valid acc: 2.00%\n",
      "Epoch: 10, train loss: 4.3703, valid loss: 4.3382, valid acc: 2.00%\n",
      "Epoch: 11, train loss: 4.3640, valid loss: 4.3241, valid acc: 2.10%\n",
      "Epoch: 12, train loss: 4.3280, valid loss: 4.2960, valid acc: 2.10%\n",
      "Epoch: 13, train loss: 4.3255, valid loss: 4.3059, valid acc: 2.00%\n",
      "Epoch: 14, train loss: 4.3248, valid loss: 4.2910, valid acc: 2.00%\n",
      "Epoch: 15, train loss: 4.2873, valid loss: 4.2811, valid acc: 2.20%\n",
      "Epoch: 16, train loss: 4.2923, valid loss: 4.2686, valid acc: 2.20%\n",
      "Epoch: 17, train loss: 4.2574, valid loss: 4.2633, valid acc: 2.00%\n",
      "Epoch: 18, train loss: 4.2443, valid loss: 4.2600, valid acc: 1.60%\n",
      "Epoch: 19, train loss: 4.2206, valid loss: 4.2578, valid acc: 1.90%\n",
      "Epoch: 20, train loss: 4.2013, valid loss: 4.2795, valid acc: 1.70%\n",
      "Epoch: 21, train loss: 4.1950, valid loss: 4.2532, valid acc: 2.00%\n",
      "Epoch: 22, train loss: 4.1425, valid loss: 4.2147, valid acc: 2.30%\n",
      "Epoch: 23, train loss: 4.0948, valid loss: 4.2326, valid acc: 2.50%\n",
      "Epoch: 24, train loss: 4.0279, valid loss: 4.2006, valid acc: 2.40%\n",
      "Epoch: 25, train loss: 3.9996, valid loss: 4.1580, valid acc: 4.00%\n",
      "Epoch: 26, train loss: 3.9449, valid loss: 4.1354, valid acc: 3.60%\n",
      "Epoch: 27, train loss: 3.9402, valid loss: 4.1651, valid acc: 3.30%\n",
      "Epoch: 28, train loss: 3.8935, valid loss: 4.1153, valid acc: 4.10%\n",
      "Epoch: 29, train loss: 3.8159, valid loss: 4.1750, valid acc: 4.80%\n",
      "Epoch: 30, train loss: 3.7408, valid loss: 4.1216, valid acc: 4.90%\n",
      "Epoch: 31, train loss: 3.6556, valid loss: 4.1402, valid acc: 5.00%\n",
      "Epoch: 32, train loss: 3.5962, valid loss: 4.1801, valid acc: 4.00%\n",
      "Epoch: 33, train loss: 3.5935, valid loss: 4.2495, valid acc: 4.90%\n",
      "Epoch: 34, train loss: 3.6036, valid loss: 4.0759, valid acc: 5.10%\n",
      "Epoch: 35, train loss: 3.5704, valid loss: 4.2859, valid acc: 4.70%\n",
      "Epoch: 36, train loss: 3.6030, valid loss: 4.2142, valid acc: 5.60%\n",
      "Epoch: 37, train loss: 3.5447, valid loss: 4.1211, valid acc: 7.10%\n",
      "Epoch: 38, train loss: 3.4893, valid loss: 4.2365, valid acc: 5.10%\n",
      "Epoch: 39, train loss: 3.4016, valid loss: 4.2638, valid acc: 6.20%\n",
      "Epoch: 40, train loss: 3.3217, valid loss: 4.4145, valid acc: 5.30%\n",
      "Epoch: 41, train loss: 3.3465, valid loss: 4.4559, valid acc: 5.20%\n",
      "Epoch: 42, train loss: 3.4112, valid loss: 4.4118, valid acc: 4.10%\n",
      "Epoch: 43, train loss: 3.3044, valid loss: 4.1764, valid acc: 6.90%\n",
      "Epoch: 44, train loss: 3.3266, valid loss: 4.2522, valid acc: 5.30%\n",
      "Epoch: 45, train loss: 3.2280, valid loss: 4.4203, valid acc: 5.40%\n",
      "Epoch: 46, train loss: 3.1529, valid loss: 4.5300, valid acc: 5.60%\n",
      "Epoch: 47, train loss: 3.0600, valid loss: 4.3998, valid acc: 6.00%\n",
      "Epoch: 48, train loss: 2.9271, valid loss: 4.6728, valid acc: 5.30%\n",
      "Epoch: 49, train loss: 2.8420, valid loss: 4.8583, valid acc: 6.30%\n",
      "Epoch: 50, train loss: 2.7665, valid loss: 5.0129, valid acc: 6.30%\n",
      "Epoch: 51, train loss: 2.7332, valid loss: 4.9460, valid acc: 6.50%\n",
      "Epoch: 52, train loss: 2.7666, valid loss: 4.7099, valid acc: 6.00%\n",
      "Epoch: 53, train loss: 2.9339, valid loss: 4.4387, valid acc: 7.20%\n",
      "Epoch: 54, train loss: 2.8411, valid loss: 4.4255, valid acc: 7.00%\n",
      "Epoch: 55, train loss: 2.7761, valid loss: 4.6445, valid acc: 7.50%\n",
      "Epoch: 56, train loss: 2.7050, valid loss: 5.2118, valid acc: 4.50%\n",
      "Epoch: 57, train loss: 2.5776, valid loss: 5.2011, valid acc: 6.20%\n",
      "Epoch: 58, train loss: 2.4962, valid loss: 5.1999, valid acc: 7.20%\n",
      "Epoch: 59, train loss: 2.5344, valid loss: 5.0377, valid acc: 7.30%\n",
      "Epoch: 60, train loss: 2.7730, valid loss: 4.6728, valid acc: 7.20%\n",
      "Epoch: 61, train loss: 2.7876, valid loss: 4.9381, valid acc: 5.10%\n",
      "Epoch: 62, train loss: 2.5207, valid loss: 5.4272, valid acc: 5.50%\n",
      "Epoch: 63, train loss: 2.3634, valid loss: 5.5449, valid acc: 6.50%\n",
      "Epoch: 64, train loss: 2.3304, valid loss: 5.4765, valid acc: 6.90%\n",
      "Epoch: 65, train loss: 2.3685, valid loss: 5.4722, valid acc: 5.80%\n",
      "Epoch: 66, train loss: 2.4326, valid loss: 5.0704, valid acc: 7.40%\n",
      "Epoch: 67, train loss: 2.4094, valid loss: 5.0273, valid acc: 8.20%\n",
      "Epoch: 68, train loss: 2.3550, valid loss: 5.2448, valid acc: 7.70%\n",
      "Epoch: 69, train loss: 2.3081, valid loss: 5.3946, valid acc: 8.20%\n",
      "Epoch: 70, train loss: 2.2265, valid loss: 5.7703, valid acc: 8.20%\n",
      "Epoch: 71, train loss: 2.1892, valid loss: 5.6998, valid acc: 8.00%\n",
      "Epoch: 72, train loss: 2.2158, valid loss: 5.6544, valid acc: 7.10%\n"
     ]
    }
   ],
   "source": [
    "optimizers = [{\"name\":\"Adam\",\"op\":optim.Adam},{\"name\":\"RMSProp\",\"op\":optim.RMSprop},{\"name\":\"SGD\",\"op\":optim.SGD},]\n",
    "learning_rates = [1e-1,1e-2,1e-3,1e-4,1e-4]\n",
    "\n",
    "\n",
    "run = wandb.init(project='Zadanie2-CIFAR', entity='xpetricko')\n",
    "run.name = \"12 run 300 epochs 128 batch-size, vgg11\"\n",
    "\n",
    "\n",
    "config = wandb.config\n",
    "config.learning_rate = learning_rate\n",
    "config.sample_limit=sample_limit\n",
    "config.batch_size=batch_size\n",
    "config.notes='classifier without softmax'\n",
    "\n",
    "\n",
    "model = Net(3,100)\n",
    "optimizer = optim.Adam(model.parameters(),lr=learning_rate)\n",
    "# optimizer = opt[\"op\"](model.parameters(),lr=1e-4)\n",
    "loss_fn = nn.CrossEntropyLoss()\n",
    "model.to(device)\n",
    "\n",
    "wandb.watch(model)\n",
    "\n",
    "X_train,X_valid,y_train,y_valid = train_test_split_v2(X_train_np, \n",
    "                                                      y_train_np,\n",
    "                                                      sample_limit=sample_limit, \n",
    "                                                      test_size=1/6, \n",
    "                                                      random_state=7)\n",
    "\n",
    "train_data = CIFAR(X_train,y_train, transform=transforms.ToTensor())\n",
    "valid_data = CIFAR(X_valid,y_valid, transform=transforms.ToTensor())\n",
    "\n",
    "train_loader = DataLoader(dataset=train_data,batch_size=batch_size)\n",
    "valid_loader = DataLoader(dataset=valid_data,batch_size=batch_size)\n",
    "\n",
    "mean_train_losses = []\n",
    "mean_valid_losses = []\n",
    "valid_acc_list = []\n",
    "\n",
    "\n",
    "torch.manual_seed(7)\n",
    "\n",
    "for epoch in range(epochs):\n",
    "    model.train()\n",
    "\n",
    "    train_losses = []\n",
    "    valid_losses = []\n",
    "\n",
    "    for i, (images,labels) in enumerate(train_loader):\n",
    "        images, labels = images.to(device), labels.to(device)\n",
    "        optimizer.zero_grad()\n",
    "        output = model.forward(images)\n",
    "        loss = loss_fn(output,labels)\n",
    "        loss.backward()\n",
    "        optimizer.step()\n",
    "\n",
    "\n",
    "        train_losses.append(loss.item())\n",
    "\n",
    "\n",
    "    model.eval()\n",
    "    correct = 0\n",
    "    total = 0\n",
    "\n",
    "    with torch.no_grad():\n",
    "        for i,(images,labels) in enumerate(valid_loader):\n",
    "            images, labels = images.to(device), labels.to(device)\n",
    "            output = model.forward(images)\n",
    "            loss = loss_fn(output,labels)\n",
    "\n",
    "            valid_losses.append(loss.item())\n",
    "\n",
    "            _, predicted = torch.max(output.data,1)\n",
    "            correct += (predicted==labels).sum().item()\n",
    "            total += labels.size(0)\n",
    "\n",
    "    mean_train_losses.append(np.mean(train_losses))\n",
    "    mean_valid_losses.append(np.mean(valid_losses))\n",
    "\n",
    "    accuracy = 100*correct/total\n",
    "    valid_acc_list.append(accuracy)\n",
    "\n",
    "    wandb.log({\"Train mean loss\":mean_train_losses[-1],\"Valid mean loss\":mean_valid_losses[-1],\"Accuracy\":accuracy})\n",
    "\n",
    "    print('Epoch: {}, train loss: {:.4f}, valid loss: {:.4f}, valid acc: {:.2f}%'.format(epoch+1,mean_train_losses[-1],mean_valid_losses[-1],accuracy))\n",
    "\n",
    "run.finish()\n",
    "\n",
    "\n",
    "    #%%\n",
    "\n",
    "fig, (plot1,plot2) = plt.subplots(nrows=1,ncols=2,figsize=(8,12))\n",
    "plot1.plot(mean_train_losses, label=\"Train mean loss\")\n",
    "plot1.plot(mean_valid_losses, label=\"Valid mean loss\")\n",
    "plot1.legend(loc=\"best\")\n",
    "\n",
    "plot2.plot(valid_acc_list,label=\"Vallid accuracy\")\n",
    "plot2.legend()"
   ]
  }
 ],
 "metadata": {
  "kernelspec": {
   "display_name": "netenv",
   "language": "python",
   "name": "netenv"
  },
  "language_info": {
   "codemirror_mode": {
    "name": "ipython",
    "version": 3
   },
   "file_extension": ".py",
   "mimetype": "text/x-python",
   "name": "python",
   "nbconvert_exporter": "python",
   "pygments_lexer": "ipython3",
   "version": "3.8.8"
  }
 },
 "nbformat": 4,
 "nbformat_minor": 1
}
