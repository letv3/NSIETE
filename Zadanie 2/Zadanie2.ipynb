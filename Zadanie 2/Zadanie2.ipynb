{
 "cells": [
  {
   "cell_type": "code",
   "execution_count": 1,
   "metadata": {
    "pycharm": {
     "name": "#%%\n"
    }
   },
   "outputs": [],
   "source": [
    "import numpy as np\n",
    "import os\n",
    "\n",
    "import matplotlib.pyplot as plt\n",
    "import seaborn as sns\n",
    "\n",
    "from sklearn.model_selection import train_test_split\n",
    "\n",
    "import wandb\n",
    "\n",
    "import tarfile\n",
    "import pickle\n",
    "from collections import Counter\n",
    "\n",
    "import torch\n",
    "import torch.nn as nn\n",
    "from torch import optim\n",
    "import torch.nn.functional as F\n",
    "from torch.utils.data import Dataset, DataLoader\n",
    "import torchvision\n",
    "import torchvision.transforms as transforms\n"
   ]
  },
  {
   "cell_type": "code",
   "execution_count": 2,
   "metadata": {},
   "outputs": [
    {
     "data": {
      "text/plain": [
       "device(type='cuda')"
      ]
     },
     "execution_count": 2,
     "metadata": {},
     "output_type": "execute_result"
    }
   ],
   "source": [
    "device = torch.device('cuda' if torch.cuda.is_available() else 'cpu')\n",
    "device"
   ]
  },
  {
   "cell_type": "code",
   "execution_count": 2,
   "metadata": {
    "pycharm": {
     "name": "#%%\n"
    }
   },
   "outputs": [
    {
     "ename": "AttributeError",
     "evalue": "module 'urllib' has no attribute 'URLopener'",
     "output_type": "error",
     "traceback": [
      "\u001b[1;31m---------------------------------------------------------------------------\u001b[0m",
      "\u001b[1;31mAttributeError\u001b[0m                            Traceback (most recent call last)",
      "\u001b[1;32m<ipython-input-2-25562ec73669>\u001b[0m in \u001b[0;36m<module>\u001b[1;34m\u001b[0m\n\u001b[0;32m      3\u001b[0m \u001b[1;32mimport\u001b[0m \u001b[0murllib\u001b[0m\u001b[1;33m\u001b[0m\u001b[1;33m\u001b[0m\u001b[0m\n\u001b[0;32m      4\u001b[0m \u001b[1;33m\u001b[0m\u001b[0m\n\u001b[1;32m----> 5\u001b[1;33m \u001b[0mtestfile\u001b[0m \u001b[1;33m=\u001b[0m \u001b[0murllib\u001b[0m\u001b[1;33m.\u001b[0m\u001b[0mURLopener\u001b[0m\u001b[1;33m(\u001b[0m\u001b[1;33m)\u001b[0m\u001b[1;33m\u001b[0m\u001b[1;33m\u001b[0m\u001b[0m\n\u001b[0m\u001b[0;32m      6\u001b[0m \u001b[0mtestfile\u001b[0m\u001b[1;33m.\u001b[0m\u001b[0mretrieve\u001b[0m\u001b[1;33m(\u001b[0m\u001b[1;34m\"https://www.cs.toronto.edu/~kriz/cifar-100-python.tar.gz\"\u001b[0m\u001b[1;33m,\u001b[0m \u001b[1;34m\"cifar-100-python.tar.gz\"\u001b[0m\u001b[1;33m)\u001b[0m\u001b[1;33m\u001b[0m\u001b[1;33m\u001b[0m\u001b[0m\n",
      "\u001b[1;31mAttributeError\u001b[0m: module 'urllib' has no attribute 'URLopener'"
     ]
    }
   ],
   "source": [
    "import requests\n",
    "\n",
    "import urllib\n",
    "\n",
    "testfile = urllib.URLopener()\n",
    "testfile.retrieve(\"https://www.cs.toronto.edu/~kriz/cifar-100-python.tar.gz\", \"cifar-100-python.tar.gz\")"
   ]
  },
  {
   "cell_type": "code",
   "execution_count": 3,
   "metadata": {
    "pycharm": {
     "name": "#%%\n"
    }
   },
   "outputs": [],
   "source": [
    "\n",
    "with tarfile.open(\"cifar-100-python.tar.gz\", 'r|gz') as f:\n",
    "        f.extractall(path=\"./\")\n",
    "        f.close()\n",
    "\n",
    "# Extract cifar-100-python.tar.gz to separate data"
   ]
  },
  {
   "cell_type": "code",
   "execution_count": 4,
   "metadata": {
    "pycharm": {
     "name": "#%%\n"
    }
   },
   "outputs": [],
   "source": [
    "data = pickle.load(open(os.path.join(\"cifar-100-python\", \"train\"), 'rb'), encoding='latin1')\n",
    "X_train_np = data['data']\n",
    "y_train_np = np.asarray(data['fine_labels'], np.int8)\n",
    "\n",
    "data = pickle.load(open(os.path.join('cifar-100-python', 'test'), 'rb'), encoding='latin1')\n",
    "X_test_np = data['data']\n",
    "y_test_np = np.asarray(data['fine_labels'], np.int8)"
   ]
  },
  {
   "cell_type": "code",
   "execution_count": 5,
   "metadata": {
    "pycharm": {
     "name": "#%%\n"
    }
   },
   "outputs": [],
   "source": [
    "# reshape\n",
    "X_train_np = X_train_np.reshape(-1, 3, 32, 32)\n",
    "X_test_np = X_test_np.reshape(-1, 3, 32, 32)\n"
   ]
  },
  {
   "cell_type": "code",
   "execution_count": 6,
   "metadata": {
    "pycharm": {
     "name": "#%%\n"
    }
   },
   "outputs": [
    {
     "data": {
      "text/plain": [
       "(50000, 3, 32, 32)"
      ]
     },
     "execution_count": 6,
     "metadata": {},
     "output_type": "execute_result"
    }
   ],
   "source": [
    "X_train_np.shape"
   ]
  },
  {
   "cell_type": "code",
   "execution_count": 7,
   "metadata": {
    "pycharm": {
     "name": "#%%\n"
    }
   },
   "outputs": [
    {
     "name": "stderr",
     "output_type": "stream",
     "text": [
      "C:\\Users\\ollyt\\Jupyter-projects\\NSIETE\\netenv\\lib\\site-packages\\seaborn\\_decorators.py:36: FutureWarning: Pass the following variable as a keyword arg: x. From version 0.12, the only valid positional argument will be `data`, and passing other arguments without an explicit keyword will result in an error or misinterpretation.\n",
      "  warnings.warn(\n"
     ]
    },
    {
     "data": {
      "text/plain": [
       "<AxesSubplot:ylabel='count'>"
      ]
     },
     "execution_count": 7,
     "metadata": {},
     "output_type": "execute_result"
    },
    {
     "data": {
      "image/png": "[encoded data removed]",
      "text/plain": [
       "<Figure size 432x288 with 1 Axes>"
      ]
     },
     "metadata": {
      "needs_background": "light"
     },
     "output_type": "display_data"
    }
   ],
   "source": [
    "sns.countplot(y_train_np)"
   ]
  },
  {
   "cell_type": "code",
   "execution_count": 18,
   "metadata": {
    "pycharm": {
     "name": "#%%\n"
    }
   },
   "outputs": [],
   "source": [
    "x_max,y_max = 3,3\n",
    "offset = 0\n",
    "\n",
    "# f, axarr = plt.subplots(y_max,x_max)\n",
    "# for y in range(y_max):\n",
    "#     for x in range(x_max):\n",
    "#         axarr[y,x].imshow(X_train_np[y*y_max+x+offset])\n",
    "# print(y_train[i])\n",
    "# plt.imshow(np.rollaxis(X_train[i], 0, 3))"
   ]
  },
  {
   "cell_type": "code",
   "execution_count": 8,
   "metadata": {
    "pycharm": {
     "name": "#%%\n"
    }
   },
   "outputs": [],
   "source": [
    "mean = X_train_np.mean(axis=(0,1,2), keepdims=True).astype(np.float32)\n",
    "std = X_train_np.std(axis=(0,1,2), keepdims=True).astype(np.float32)\n",
    "\n",
    "X_train_np = (X_train_np - mean) / std\n",
    "X_test_np = (X_test_np - mean) / std\n",
    "\n",
    "#TODO POROVNAT S -MEAN)/MAX"
   ]
  },
  {
   "cell_type": "code",
   "execution_count": 9,
   "metadata": {
    "pycharm": {
     "name": "#%%\n"
    }
   },
   "outputs": [],
   "source": [
    "def train_test_split_v2(X_train,y_train,test_size,random_state=None,sample_limit=None):\n",
    "    total_count = len(X_train)\n",
    "    if sample_limit:\n",
    "        _, X_train, _, y_train = train_test_split(X_train, y_train, test_size=1/(total_count/sample_limit), random_state=random_state)\n",
    "    return train_test_split(X_train, y_train, test_size=test_size, random_state=random_state)"
   ]
  },
  {
   "cell_type": "code",
   "execution_count": 10,
   "metadata": {
    "pycharm": {
     "name": "#%%\n"
    }
   },
   "outputs": [
    {
     "name": "stdout",
     "output_type": "stream",
     "text": [
      "(41666, 3, 32, 32)\n",
      "(8334, 3, 32, 32)\n",
      "50000\n"
     ]
    }
   ],
   "source": [
    "X_train,X_valid,y_train,y_valid= train_test_split_v2(X_train_np, y_train_np,sample_limit=None, test_size=1/6, random_state=42)\n",
    "\n",
    "print(X_train.shape)\n",
    "print(X_valid.shape)\n",
    "print(X_train.shape[0]+X_valid.shape[0])\n"
   ]
  },
  {
   "cell_type": "code",
   "execution_count": 12,
   "metadata": {
    "pycharm": {
     "name": "#%%\n"
    }
   },
   "outputs": [],
   "source": [
    "class CIFAR(Dataset):\n",
    "    def __init__(self, X,y,transform=None):\n",
    "        self.X=X\n",
    "        self.y = torch.LongTensor(y)\n",
    "        self.transform = transform\n",
    "\n",
    "    def __len__(self):\n",
    "        return len(self.X)\n",
    "\n",
    "    def __getitem__(self, index):\n",
    "\n",
    "        image = np.rollaxis(self.X[index],0,3)\n",
    "        label = self.y[index]\n",
    "\n",
    "        if self.transform is not None:\n",
    "            image = self.transform(image)\n",
    "\n",
    "        return image, label\n"
   ]
  },
  {
   "cell_type": "code",
   "execution_count": 13,
   "metadata": {
    "pycharm": {
     "name": "#%%\n"
    }
   },
   "outputs": [
    {
     "name": "stderr",
     "output_type": "stream",
     "text": [
      "Clipping input data to the valid range for imshow with RGB data ([0..1] for floats or [0..255] for integers).\n",
      "Clipping input data to the valid range for imshow with RGB data ([0..1] for floats or [0..255] for integers).\n",
      "Clipping input data to the valid range for imshow with RGB data ([0..1] for floats or [0..255] for integers).\n",
      "Clipping input data to the valid range for imshow with RGB data ([0..1] for floats or [0..255] for integers).\n",
      "Clipping input data to the valid range for imshow with RGB data ([0..1] for floats or [0..255] for integers).\n",
      "Clipping input data to the valid range for imshow with RGB data ([0..1] for floats or [0..255] for integers).\n",
      "Clipping input data to the valid range for imshow with RGB data ([0..1] for floats or [0..255] for integers).\n",
      "Clipping input data to the valid range for imshow with RGB data ([0..1] for floats or [0..255] for integers).\n",
      "Clipping input data to the valid range for imshow with RGB data ([0..1] for floats or [0..255] for integers).\n"
     ]
    },
    {
     "name": "stdout",
     "output_type": "stream",
     "text": [
      "images shape:  torch.Size([256, 3, 32, 32])\n",
      "labels shape:  torch.Size([256])\n"
     ]
    },
    {
     "data": {
      "image/png": "[encoded data removed]",
      "text/plain": [
       "<Figure size 432x288 with 9 Axes>"
      ]
     },
     "metadata": {
      "needs_background": "light"
     },
     "output_type": "display_data"
    }
   ],
   "source": [
    "transform = transforms.Compose([\n",
    "    transforms.ToTensor(),\n",
    "    transforms.RandomResizedCrop(32)\n",
    "])\n",
    "\n",
    "train_data = CIFAR(X_train,y_train, transform=transform)\n",
    "valid_data = CIFAR(X_valid,y_valid, transform=transforms.ToTensor())\n",
    "\n",
    "train_loader = DataLoader(dataset=train_data,batch_size=256)\n",
    "valid_loader = DataLoader(dataset=valid_data,batch_size=256)\n",
    "\n",
    "\n",
    "dataiter=iter(train_loader)\n",
    "images, labels = dataiter.next()\n",
    "\n",
    "print('images shape: ', images.size())\n",
    "print('labels shape: ', labels.size())\n",
    "\n",
    "\n",
    "x_max,y_max = 3,3\n",
    "offset = 0\n",
    "\n",
    "f, axarr = plt.subplots(y_max,x_max)\n",
    "for y in range(y_max):\n",
    "    for x in range(x_max):\n",
    "        axarr[y,x].imshow(images[y*y_max+x].permute(1,2,0))"
   ]
  },
  {
   "cell_type": "code",
   "execution_count": 27,
   "metadata": {},
   "outputs": [
    {
     "ename": "AttributeError",
     "evalue": "'numpy.ndarray' object has no attribute 'is_cuda'",
     "output_type": "error",
     "traceback": [
      "\u001b[1;31m---------------------------------------------------------------------------\u001b[0m",
      "\u001b[1;31mAttributeError\u001b[0m                            Traceback (most recent call last)",
      "\u001b[1;32m<ipython-input-27-37cdd25ff483>\u001b[0m in \u001b[0;36m<module>\u001b[1;34m\u001b[0m\n\u001b[1;32m----> 1\u001b[1;33m \u001b[0mtrain_data\u001b[0m\u001b[1;33m.\u001b[0m\u001b[0mX\u001b[0m\u001b[1;33m.\u001b[0m\u001b[0mis_cuda\u001b[0m\u001b[1;33m\u001b[0m\u001b[1;33m\u001b[0m\u001b[0m\n\u001b[0m",
      "\u001b[1;31mAttributeError\u001b[0m: 'numpy.ndarray' object has no attribute 'is_cuda'"
     ]
    }
   ],
   "source": [
    "train_data.X.is_cuda"
   ]
  },
  {
   "cell_type": "code",
   "execution_count": 14,
   "metadata": {
    "pycharm": {
     "name": "#%%\n"
    }
   },
   "outputs": [],
   "source": [
    "class SimpleNet(nn.Module):\n",
    "    def __init__(self, in_chanels, num_classes):\n",
    "        super(SimpleNet, self).__init__()\n",
    "        self.features = nn.Sequential(\n",
    "            nn.Conv2d(in_chanels,128, kernel_size=3, padding=1),\n",
    "            nn.MaxPool2d(kernel_size=2, stride=2),\n",
    "            nn.Conv2d(128,256, kernel_size=3, padding=1),\n",
    "            nn.MaxPool2d(kernel_size=2, stride=2),\n",
    "            nn.Conv2d(256,512, kernel_size=3, padding=1),\n",
    "            nn.MaxPool2d(kernel_size=2, stride=2)\n",
    "        )\n",
    "        self.classifier = nn.Sequential(\n",
    "            nn.Dropout(),\n",
    "            nn.Linear(8192,512),\n",
    "            nn.ReLU(True),\n",
    "            nn.Dropout(),\n",
    "            nn.Linear(512,256),\n",
    "            nn.ReLU(True),\n",
    "            nn.Dropout(),\n",
    "            nn.Linear(256,num_classes),\n",
    "            nn.Softmax()\n",
    "        )\n",
    "\n",
    "    def forward(self, x):\n",
    "        x = self.features(x)\n",
    "\n",
    "        x = x.view(x.size(0), -1)\n",
    "        x = self.classifier(x)\n",
    "        return x\n",
    "\n",
    "\n",
    "class Net(nn.Module):\n",
    "    def __init__(self, in_chanels, num_classes):\n",
    "        super(Net, self).__init__()\n",
    "        self.features = nn.Sequential(\n",
    "            nn.Conv2d(in_chanels,64, kernel_size=3, padding=1),\n",
    "            nn.BatchNorm2d(64),\n",
    "            nn.ReLU(True),\n",
    "            nn.MaxPool2d(kernel_size=2, stride=2),\n",
    "            nn.Conv2d(64,128, kernel_size=3, padding=1),\n",
    "            nn.BatchNorm2d(128),\n",
    "            nn.ReLU(True),\n",
    "            nn.MaxPool2d(kernel_size=2, stride=2),\n",
    "            nn.Conv2d(128,256, kernel_size=3, padding=1),\n",
    "            nn.BatchNorm2d(256),\n",
    "            nn.ReLU(True),\n",
    "            nn.Conv2d(256,256, kernel_size=3, padding=1),\n",
    "            nn.BatchNorm2d(256),\n",
    "            nn.ReLU(True),\n",
    "            nn.MaxPool2d(kernel_size=2, stride=2),\n",
    "            nn.Conv2d(256,512, kernel_size=3, padding=1),\n",
    "            nn.BatchNorm2d(512),\n",
    "            nn.ReLU(True),\n",
    "            nn.Conv2d(512,512, kernel_size=3, padding=1),\n",
    "            nn.BatchNorm2d(512),\n",
    "            nn.ReLU(True),\n",
    "            nn.MaxPool2d(kernel_size=2, stride=2),\n",
    "            nn.Conv2d(512,512, kernel_size=3, padding=1),\n",
    "            nn.BatchNorm2d(512),\n",
    "            nn.ReLU(True),\n",
    "            nn.Conv2d(512,512, kernel_size=3, padding=1),\n",
    "            nn.BatchNorm2d(512),\n",
    "            nn.ReLU(True),\n",
    "            nn.MaxPool2d(kernel_size=2, stride=2),\n",
    "        )\n",
    "        self.classifier = nn.Sequential(\n",
    "            nn.Dropout(),\n",
    "            nn.Linear(512,512),\n",
    "            nn.ReLU(),\n",
    "            nn.Linear(512,256),\n",
    "            nn.ReLU(),\n",
    "            nn.Dropout(),\n",
    "            nn.Linear(256,num_classes),\n",
    "            nn.Softmax()\n",
    "        )\n",
    "\n",
    "    def forward(self, x):\n",
    "        x = self.features(x)\n",
    "        x = x.view(x.size(0), -1)\n",
    "        x = self.classifier(x)\n",
    "        return x"
   ]
  },
  {
   "cell_type": "code",
   "execution_count": 15,
   "metadata": {
    "pycharm": {
     "name": "#%%\n"
    }
   },
   "outputs": [],
   "source": [
    "\n",
    "learning_rate=0.001\n",
    "betas = (0.9,0.999)\n",
    "batch_size = 128\n",
    "sample_limit = 6000\n",
    "epochs = 100\n"
   ]
  },
  {
   "cell_type": "code",
   "execution_count": 16,
   "metadata": {
    "pycharm": {
     "name": "#%%\n"
    }
   },
   "outputs": [],
   "source": [
    "\n",
    "optimizers = [{\"name\":\"Adam\",\"op\":optim.Adam},{\"name\":\"RMSprop\",\"op\":optim.RMSprop},{\"name\":\"SGD\",\"op\":optim.SGD},]\n",
    "learning_rates = [1e-1,1e-2,1e-3,1e-4,1e-4]\n"
   ]
  },
  {
   "cell_type": "code",
   "execution_count": 17,
   "metadata": {
    "pycharm": {
     "name": "#%%\n"
    }
   },
   "outputs": [],
   "source": [
    "\n",
    "trfs = [\n",
    "    # {\"name\":\"No transform\", \"tr\":transforms.ToTensor()},\n",
    "    # {\n",
    "    #     \"name\":\"Normalize\",\n",
    "    #     \"tr\": transforms.Compose([\n",
    "    #         transforms.ToTensor(),\n",
    "    #         transforms.Normalize((0.5, 0.5, 0.5), (0.5, 0.5, 0.5))\n",
    "    #     ]),\n",
    "    #     \"tr_v\": transforms.Compose([\n",
    "    #         transforms.ToTensor(),\n",
    "    #         transforms.Normalize((0.5,0.5,0.5),(0.5,0.5,0.5))\n",
    "    #     ])\n",
    "    # },\n",
    "    {\n",
    "        \"name\":\"Random crop\",\n",
    "        \"tr\":transforms.Compose([\n",
    "            transforms.ToTensor(),\n",
    "            transforms.RandomResizedCrop(32)\n",
    "        ]),\n",
    "        \"tr_v\": transforms.Compose([\n",
    "            transforms.ToTensor()\n",
    "        ])\n",
    "    },\n",
    "    {\n",
    "        \"name\":\"Norm + Crop\",\n",
    "        \"tr\":transforms.Compose([\n",
    "            transforms.ToTensor(),\n",
    "            transforms.Normalize((0.5, 0.5, 0.5), (0.5, 0.5, 0.5)),\n",
    "            transforms.RandomResizedCrop(32)\n",
    "        ]),\n",
    "        \"tr_v\": transforms.Compose([\n",
    "            transforms.ToTensor(),\n",
    "            transforms.Normalize((0.5,0.5,0.5),(0.5,0.5,0.5))\n",
    "        ])\n",
    "    },\n",
    "    {\n",
    "        \"name\":\"RandFlip + Norm + Crop\",\n",
    "        \"tr\":transforms.Compose([\n",
    "            transforms.ToTensor(),\n",
    "            transforms.RandomHorizontalFlip(),\n",
    "            transforms.Normalize((0.5, 0.5, 0.5), (0.5, 0.5, 0.5)),\n",
    "            transforms.RandomResizedCrop(32)\n",
    "        ]),\n",
    "        \"tr_v\": transforms.Compose([\n",
    "            transforms.ToTensor(),\n",
    "            transforms.Normalize((0.5,0.5,0.5),(0.5,0.5,0.5))\n",
    "        ])\n",
    "    }\n",
    "]"
   ]
  },
  {
   "cell_type": "code",
   "execution_count": 20,
   "metadata": {
    "pycharm": {
     "name": "#%%\n"
    }
   },
   "outputs": [
    {
     "name": "stderr",
     "output_type": "stream",
     "text": [
      "wandb: Currently logged in as: xpetricko (use `wandb login --relogin` to force relogin)\n",
      "wandb: wandb version 0.10.25 is available!  To upgrade, please run:\n",
      "wandb:  $ pip install wandb --upgrade\n"
     ]
    },
    {
     "data": {
      "text/html": [
       "\n",
       "                Tracking run with wandb version 0.10.22<br/>\n",
       "                Syncing run <strong style=\"color:#cdcd00\">summer-dust-43</strong> to <a href=\"https://wandb.ai\" target=\"_blank\">Weights & Biases</a> <a href=\"https://docs.wandb.com/integrations/jupyter.html\" target=\"_blank\">(Documentation)</a>.<br/>\n",
       "                Project page: <a href=\"https://wandb.ai/xpetricko/Zadanie2-CIFAR\" target=\"_blank\">https://wandb.ai/xpetricko/Zadanie2-CIFAR</a><br/>\n",
       "                Run page: <a href=\"https://wandb.ai/xpetricko/Zadanie2-CIFAR/runs/pnkcrxt2\" target=\"_blank\">https://wandb.ai/xpetricko/Zadanie2-CIFAR/runs/pnkcrxt2</a><br/>\n",
       "                Run data is saved locally in <code>C:\\Users\\ollyt\\Jupyter-projects\\NSIETE\\Zadanie 2\\wandb\\run-20210406_170837-pnkcrxt2</code><br/><br/>\n",
       "            "
      ],
      "text/plain": [
       "<IPython.core.display.HTML object>"
      ]
     },
     "metadata": {},
     "output_type": "display_data"
    },
    {
     "name": "stderr",
     "output_type": "stream",
     "text": [
      "C:\\Users\\ollyt\\Jupyter-projects\\NSIETE\\netenv\\lib\\site-packages\\torch\\nn\\modules\\module.py:795: UserWarning: Using a non-full backward hook when the forward contains multiple autograd Nodes is deprecated and will be removed in future versions. This hook will be missing some grad_input. Please use register_full_backward_hook to get the documented behavior.\n",
      "  warnings.warn(\"Using a non-full backward hook when the forward contains multiple autograd Nodes \"\n",
      "C:\\Users\\ollyt\\Jupyter-projects\\NSIETE\\netenv\\lib\\site-packages\\torch\\nn\\modules\\container.py:119: UserWarning: Implicit dimension choice for softmax has been deprecated. Change the call to include dim=X as an argument.\n",
      "  input = module(input)\n"
     ]
    },
    {
     "name": "stdout",
     "output_type": "stream",
     "text": [
      "Epoch: 1, train loss: 4.6050, valid loss: 4.6053, valid acc: 1.10%\n",
      "Epoch: 2, train loss: 4.6047, valid loss: 4.6054, valid acc: 1.40%\n",
      "Epoch: 3, train loss: 4.6029, valid loss: 4.6092, valid acc: 1.10%\n",
      "Epoch: 4, train loss: 4.5996, valid loss: 4.6073, valid acc: 1.10%\n",
      "Epoch: 5, train loss: 4.5981, valid loss: 4.6060, valid acc: 1.20%\n",
      "Epoch: 6, train loss: 4.5926, valid loss: 4.6050, valid acc: 1.40%\n",
      "Epoch: 7, train loss: 4.5959, valid loss: 4.6073, valid acc: 0.90%\n",
      "Epoch: 8, train loss: 4.5910, valid loss: 4.6026, valid acc: 1.40%\n",
      "Epoch: 9, train loss: 4.5894, valid loss: 4.6017, valid acc: 1.40%\n",
      "Epoch: 10, train loss: 4.5988, valid loss: 4.6083, valid acc: 0.50%\n",
      "Epoch: 11, train loss: 4.5981, valid loss: 4.6006, valid acc: 1.20%\n",
      "Epoch: 12, train loss: 4.5956, valid loss: 4.5983, valid acc: 1.60%\n",
      "Epoch: 13, train loss: 4.5978, valid loss: 4.5921, valid acc: 3.40%\n",
      "Epoch: 14, train loss: 4.5967, valid loss: 4.5899, valid acc: 2.90%\n",
      "Epoch: 15, train loss: 4.5927, valid loss: 4.5885, valid acc: 3.50%\n",
      "Epoch: 16, train loss: 4.5896, valid loss: 4.5965, valid acc: 2.20%\n",
      "Epoch: 17, train loss: 4.5880, valid loss: 4.5985, valid acc: 2.20%\n",
      "Epoch: 18, train loss: 4.5864, valid loss: 4.5979, valid acc: 2.20%\n",
      "Epoch: 19, train loss: 4.5864, valid loss: 4.6066, valid acc: 1.50%\n",
      "Epoch: 20, train loss: 4.5832, valid loss: 4.5929, valid acc: 2.70%\n",
      "Epoch: 21, train loss: 4.5821, valid loss: 4.5984, valid acc: 2.20%\n",
      "Epoch: 22, train loss: 4.5811, valid loss: 4.5977, valid acc: 2.20%\n",
      "Epoch: 23, train loss: 4.5824, valid loss: 4.5925, valid acc: 2.90%\n",
      "Epoch: 24, train loss: 4.5777, valid loss: 4.5896, valid acc: 2.90%\n",
      "Epoch: 25, train loss: 4.5763, valid loss: 4.5906, valid acc: 2.80%\n",
      "Epoch: 26, train loss: 4.5726, valid loss: 4.5915, valid acc: 2.70%\n",
      "Epoch: 27, train loss: 4.5708, valid loss: 4.5909, valid acc: 2.90%\n",
      "Epoch: 28, train loss: 4.5760, valid loss: 4.5873, valid acc: 3.10%\n",
      "Epoch: 29, train loss: 4.5709, valid loss: 4.5801, valid acc: 4.20%\n",
      "Epoch: 30, train loss: 4.5722, valid loss: 4.5854, valid acc: 3.60%\n",
      "Epoch: 31, train loss: 4.5723, valid loss: 4.5822, valid acc: 3.90%\n",
      "Epoch: 32, train loss: 4.5765, valid loss: 4.5911, valid acc: 3.10%\n",
      "Epoch: 33, train loss: 4.5755, valid loss: 4.5874, valid acc: 3.40%\n",
      "Epoch: 34, train loss: 4.5707, valid loss: 4.5818, valid acc: 4.00%\n",
      "Epoch: 35, train loss: 4.5703, valid loss: 4.5777, valid acc: 4.70%\n",
      "Epoch: 36, train loss: 4.5812, valid loss: 4.5993, valid acc: 2.20%\n",
      "Epoch: 37, train loss: 4.5826, valid loss: 4.5889, valid acc: 3.20%\n",
      "Epoch: 38, train loss: 4.5746, valid loss: 4.5856, valid acc: 3.70%\n",
      "Epoch: 39, train loss: 4.5801, valid loss: 4.5883, valid acc: 3.40%\n",
      "Epoch: 40, train loss: 4.5739, valid loss: 4.5762, valid acc: 4.60%\n",
      "Epoch: 41, train loss: 4.5714, valid loss: 4.5760, valid acc: 4.40%\n",
      "Epoch: 42, train loss: 4.5643, valid loss: 4.5728, valid acc: 5.00%\n",
      "Epoch: 43, train loss: 4.5693, valid loss: 4.5727, valid acc: 4.80%\n",
      "Epoch: 44, train loss: 4.5632, valid loss: 4.5832, valid acc: 3.80%\n",
      "Epoch: 45, train loss: 4.5654, valid loss: 4.5822, valid acc: 3.90%\n",
      "Epoch: 46, train loss: 4.5697, valid loss: 4.5775, valid acc: 4.40%\n",
      "Epoch: 47, train loss: 4.5611, valid loss: 4.5761, valid acc: 4.50%\n",
      "Epoch: 48, train loss: 4.5607, valid loss: 4.5726, valid acc: 4.90%\n",
      "Epoch: 49, train loss: 4.5636, valid loss: 4.5736, valid acc: 4.80%\n",
      "Epoch: 50, train loss: 4.5591, valid loss: 4.5762, valid acc: 4.50%\n",
      "Epoch: 51, train loss: 4.5612, valid loss: 4.5814, valid acc: 4.00%\n",
      "Epoch: 52, train loss: 4.5610, valid loss: 4.5816, valid acc: 4.00%\n",
      "Epoch: 53, train loss: 4.5590, valid loss: 4.5724, valid acc: 4.90%\n",
      "Epoch: 54, train loss: 4.5581, valid loss: 4.5727, valid acc: 4.80%\n",
      "Epoch: 55, train loss: 4.5569, valid loss: 4.5675, valid acc: 5.40%\n",
      "Epoch: 56, train loss: 4.5584, valid loss: 4.5780, valid acc: 4.30%\n",
      "Epoch: 57, train loss: 4.5589, valid loss: 4.5834, valid acc: 3.80%\n",
      "Epoch: 58, train loss: 4.5617, valid loss: 4.5747, valid acc: 4.70%\n",
      "Epoch: 59, train loss: 4.5573, valid loss: 4.5757, valid acc: 4.60%\n",
      "Epoch: 60, train loss: 4.5602, valid loss: 4.5768, valid acc: 4.40%\n",
      "Epoch: 61, train loss: 4.5610, valid loss: 4.5703, valid acc: 5.20%\n",
      "Epoch: 62, train loss: 4.5600, valid loss: 4.5706, valid acc: 5.10%\n",
      "Epoch: 63, train loss: 4.5580, valid loss: 4.5787, valid acc: 4.30%\n",
      "Epoch: 64, train loss: 4.5600, valid loss: 4.5730, valid acc: 4.90%\n",
      "Epoch: 65, train loss: 4.5632, valid loss: 4.5749, valid acc: 4.70%\n",
      "Epoch: 66, train loss: 4.5626, valid loss: 4.5732, valid acc: 4.80%\n",
      "Epoch: 67, train loss: 4.5596, valid loss: 4.5749, valid acc: 4.60%\n",
      "Epoch: 68, train loss: 4.5588, valid loss: 4.5773, valid acc: 4.40%\n",
      "Epoch: 69, train loss: 4.5588, valid loss: 4.5715, valid acc: 5.10%\n",
      "Epoch: 70, train loss: 4.5574, valid loss: 4.5723, valid acc: 4.90%\n",
      "Epoch: 71, train loss: 4.5628, valid loss: 4.5802, valid acc: 4.20%\n",
      "Epoch: 72, train loss: 4.5618, valid loss: 4.5817, valid acc: 4.00%\n",
      "Epoch: 73, train loss: 4.5663, valid loss: 4.5818, valid acc: 4.00%\n",
      "Epoch: 74, train loss: 4.5657, valid loss: 4.5863, valid acc: 3.60%\n",
      "Epoch: 75, train loss: 4.5711, valid loss: 4.5839, valid acc: 3.80%\n",
      "Epoch: 76, train loss: 4.5628, valid loss: 4.5762, valid acc: 4.70%\n",
      "Epoch: 77, train loss: 4.5648, valid loss: 4.5852, valid acc: 3.50%\n",
      "Epoch: 78, train loss: 4.5663, valid loss: 4.5780, valid acc: 4.40%\n",
      "Epoch: 79, train loss: 4.5716, valid loss: 4.5759, valid acc: 4.60%\n",
      "Epoch: 80, train loss: 4.5674, valid loss: 4.5751, valid acc: 4.70%\n",
      "Epoch: 81, train loss: 4.5660, valid loss: 4.5815, valid acc: 4.00%\n",
      "Epoch: 82, train loss: 4.5765, valid loss: 4.5815, valid acc: 4.00%\n",
      "Epoch: 83, train loss: 4.5675, valid loss: 4.5737, valid acc: 4.90%\n",
      "Epoch: 84, train loss: 4.5669, valid loss: 4.5895, valid acc: 3.20%\n",
      "Epoch: 85, train loss: 4.5773, valid loss: 4.5772, valid acc: 4.50%\n",
      "Epoch: 86, train loss: 4.5737, valid loss: 4.5758, valid acc: 4.50%\n",
      "Epoch: 87, train loss: 4.5686, valid loss: 4.5793, valid acc: 4.10%\n",
      "Epoch: 88, train loss: 4.5696, valid loss: 4.5771, valid acc: 4.40%\n",
      "Epoch: 89, train loss: 4.5621, valid loss: 4.5753, valid acc: 4.50%\n",
      "Epoch: 90, train loss: 4.5676, valid loss: 4.5760, valid acc: 4.60%\n",
      "Epoch: 91, train loss: 4.5678, valid loss: 4.5757, valid acc: 4.70%\n",
      "Epoch: 92, train loss: 4.5654, valid loss: 4.5786, valid acc: 4.30%\n",
      "Epoch: 93, train loss: 4.5653, valid loss: 4.5747, valid acc: 4.70%\n",
      "Epoch: 94, train loss: 4.5675, valid loss: 4.5731, valid acc: 4.90%\n",
      "Epoch: 95, train loss: 4.5658, valid loss: 4.5697, valid acc: 5.10%\n",
      "Epoch: 96, train loss: 4.5687, valid loss: 4.5745, valid acc: 4.70%\n",
      "Epoch: 97, train loss: 4.5724, valid loss: 4.5741, valid acc: 4.80%\n",
      "Epoch: 98, train loss: 4.5688, valid loss: 4.5751, valid acc: 4.70%\n",
      "Epoch: 99, train loss: 4.5647, valid loss: 4.5764, valid acc: 4.60%\n",
      "Epoch: 100, train loss: 4.5641, valid loss: 4.5766, valid acc: 4.60%\n"
     ]
    },
    {
     "data": {
      "text/html": [
       "<br/>Waiting for W&B process to finish, PID 12000<br/>Program ended successfully."
      ],
      "text/plain": [
       "<IPython.core.display.HTML object>"
      ]
     },
     "metadata": {},
     "output_type": "display_data"
    },
    {
     "data": {
      "application/vnd.jupyter.widget-view+json": {
       "model_id": "",
       "version_major": 2,
       "version_minor": 0
      },
      "text/plain": [
       "VBox(children=(Label(value=' 0.01MB of 0.01MB uploaded (0.00MB deduped)\\r'), FloatProgress(value=1.0, max=1.0)…"
      ]
     },
     "metadata": {},
     "output_type": "display_data"
    },
    {
     "data": {
      "text/html": [
       "Find user logs for this run at: <code>C:\\Users\\ollyt\\Jupyter-projects\\NSIETE\\Zadanie 2\\wandb\\run-20210406_170837-pnkcrxt2\\logs\\debug.log</code>"
      ],
      "text/plain": [
       "<IPython.core.display.HTML object>"
      ]
     },
     "metadata": {},
     "output_type": "display_data"
    },
    {
     "data": {
      "text/html": [
       "Find internal logs for this run at: <code>C:\\Users\\ollyt\\Jupyter-projects\\NSIETE\\Zadanie 2\\wandb\\run-20210406_170837-pnkcrxt2\\logs\\debug-internal.log</code>"
      ],
      "text/plain": [
       "<IPython.core.display.HTML object>"
      ]
     },
     "metadata": {},
     "output_type": "display_data"
    },
    {
     "data": {
      "text/html": [
       "<h3>Run summary:</h3><br/><style>\n",
       "    table.wandb td:nth-child(1) { padding: 0 10px; text-align: right }\n",
       "    </style><table class=\"wandb\">\n",
       "<tr><td>Train mean loss</td><td>4.56409</td></tr><tr><td>Valid mean loss</td><td>4.57658</td></tr><tr><td>Accuracy</td><td>4.6</td></tr><tr><td>_runtime</td><td>446</td></tr><tr><td>_timestamp</td><td>1617722163</td></tr><tr><td>_step</td><td>99</td></tr></table>"
      ],
      "text/plain": [
       "<IPython.core.display.HTML object>"
      ]
     },
     "metadata": {},
     "output_type": "display_data"
    },
    {
     "data": {
      "text/html": [
       "<h3>Run history:</h3><br/><style>\n",
       "    table.wandb td:nth-child(1) { padding: 0 10px; text-align: right }\n",
       "    </style><table class=\"wandb\">\n",
       "<tr><td>Train mean loss</td><td>██▆▆▇▇▆▅▅▅▃▄▃▃▅▄▃▂▃▂▂▁▁▁▂▁▁▁▂▂▂▃▄▂▃▂▂▃▃▂</td></tr><tr><td>Valid mean loss</td><td>▇█▇▇▆▅▆▆▆▅▅▄▃▃▆▄▂▃▂▂▃▁▂▂▁▁▂▁▃▄▄▂▃▄▃▂▂▂▂▂</td></tr><tr><td>Accuracy</td><td>▁▁▂▂▁▅▃▃▃▄▄▄▆▆▃▅▇▆▇▇▆▇▆▇█▇▇█▆▅▅▇▆▅▆▇▆▇▇▇</td></tr><tr><td>_runtime</td><td>▁▁▁▂▂▂▂▂▂▃▃▃▃▃▃▄▄▄▄▄▅▅▅▅▅▅▆▆▆▆▆▇▇▇▇▇▇███</td></tr><tr><td>_timestamp</td><td>▁▁▁▂▂▂▂▂▂▃▃▃▃▃▃▄▄▄▄▄▅▅▅▅▅▅▆▆▆▆▆▇▇▇▇▇▇███</td></tr><tr><td>_step</td><td>▁▁▁▁▂▂▂▂▂▃▃▃▃▃▃▄▄▄▄▄▅▅▅▅▅▅▆▆▆▆▆▇▇▇▇▇▇███</td></tr></table><br/>"
      ],
      "text/plain": [
       "<IPython.core.display.HTML object>"
      ]
     },
     "metadata": {},
     "output_type": "display_data"
    },
    {
     "data": {
      "text/html": [
       "Synced 5 W&B file(s), 1 media file(s), 0 artifact file(s) and 0 other file(s)"
      ],
      "text/plain": [
       "<IPython.core.display.HTML object>"
      ]
     },
     "metadata": {},
     "output_type": "display_data"
    },
    {
     "data": {
      "text/html": [
       "\n",
       "                    <br/>Synced <strong style=\"color:#cdcd00\">summer-dust-43</strong>: <a href=\"https://wandb.ai/xpetricko/Zadanie2-CIFAR/runs/pnkcrxt2\" target=\"_blank\">https://wandb.ai/xpetricko/Zadanie2-CIFAR/runs/pnkcrxt2</a><br/>\n",
       "                "
      ],
      "text/plain": [
       "<IPython.core.display.HTML object>"
      ]
     },
     "metadata": {},
     "output_type": "display_data"
    },
    {
     "data": {
      "text/plain": [
       "<matplotlib.legend.Legend at 0x2bf46430c40>"
      ]
     },
     "execution_count": 20,
     "metadata": {},
     "output_type": "execute_result"
    },
    {
     "data": {
      "image/png": "[encoded data removed]",
      "text/plain": [
       "<Figure size 576x864 with 2 Axes>"
      ]
     },
     "metadata": {
      "needs_background": "light"
     },
     "output_type": "display_data"
    }
   ],
   "source": [
    "optimizers = [{\"name\":\"Adam\",\"op\":optim.Adam},{\"name\":\"RMSProp\",\"op\":optim.RMSprop},{\"name\":\"SGD\",\"op\":optim.SGD},]\n",
    "learning_rates = [1e-1,1e-2,1e-3,1e-4,1e-4]\n",
    "\n",
    "\n",
    "run = wandb.init(project='Zadanie2-CIFAR', entity='xpetricko')\n",
    "run.name = \"run 100 epochs 128 bs\"\n",
    "\n",
    "config = wandb.config\n",
    "config.learning_rate = learning_rate\n",
    "config.sample_limit=sample_limit\n",
    "config.batch_size=batch_size\n",
    "\n",
    "\n",
    "model = Net(3,100)\n",
    "model.to(device)\n",
    "optimizer = optim.Adam(model.parameters(),lr=learning_rate)\n",
    "# optimizer = opt[\"op\"](model.parameters(),lr=1e-4)\n",
    "loss_fn = nn.CrossEntropyLoss()\n",
    "\n",
    "wandb.watch(model)\n",
    "\n",
    "X_train,X_valid,y_train,y_valid= train_test_split_v2(X_train_np, y_train_np,sample_limit=sample_limit, test_size=1/6, random_state=7)\n",
    "\n",
    "train_data = CIFAR(X_train,y_train, transform=transforms.ToTensor())\n",
    "valid_data = CIFAR(X_valid,y_valid, transform=transforms.ToTensor())\n",
    "\n",
    "train_loader = DataLoader(dataset=train_data,batch_size=batch_size)\n",
    "valid_loader = DataLoader(dataset=valid_data,batch_size=batch_size)\n",
    "\n",
    "mean_train_losses = []\n",
    "mean_valid_losses = []\n",
    "valid_acc_list = []\n",
    "\n",
    "\n",
    "torch.manual_seed(7)\n",
    "\n",
    "for epoch in range(epochs):\n",
    "    model.train()\n",
    "\n",
    "    train_losses = []\n",
    "    valid_losses = []\n",
    "\n",
    "    for i, (images,labels) in enumerate(train_loader):\n",
    "        images, labels = images.to(device), labels.to(device)\n",
    "        optimizer.zero_grad()\n",
    "        output = model.forward(images)\n",
    "        loss = loss_fn(output,labels)\n",
    "        loss.backward()\n",
    "        optimizer.step()\n",
    "\n",
    "\n",
    "        train_losses.append(loss.item())\n",
    "\n",
    "\n",
    "    model.eval()\n",
    "    correct = 0\n",
    "    total = 0\n",
    "\n",
    "    with torch.no_grad():\n",
    "        for i,(images,labels) in enumerate(valid_loader):\n",
    "            images, labels = images.to(device), labels.to(device)\n",
    "            output = model.forward(images)\n",
    "            loss = loss_fn(output,labels)\n",
    "\n",
    "            valid_losses.append(loss.item())\n",
    "\n",
    "            _, predicted = torch.max(output.data,1)\n",
    "            correct += (predicted==labels).sum().item()\n",
    "            total += labels.size(0)\n",
    "\n",
    "    mean_train_losses.append(np.mean(train_losses))\n",
    "    mean_valid_losses.append(np.mean(valid_losses))\n",
    "\n",
    "    accuracy = 100*correct/total\n",
    "    valid_acc_list.append(accuracy)\n",
    "\n",
    "    wandb.log({\"Train mean loss\":mean_train_losses[-1],\"Valid mean loss\":mean_valid_losses[-1],\"Accuracy\":accuracy})\n",
    "\n",
    "    print('Epoch: {}, train loss: {:.4f}, valid loss: {:.4f}, valid acc: {:.2f}%'.format(epoch+1,mean_train_losses[-1],mean_valid_losses[-1],accuracy))\n",
    "\n",
    "run.finish()\n",
    "\n",
    "\n",
    "    #%%\n",
    "\n",
    "fig, (plot1,plot2) = plt.subplots(nrows=1,ncols=2,figsize=(8,12))\n",
    "plot1.plot(mean_train_losses, label=\"Train mean loss\")\n",
    "plot1.plot(mean_valid_losses, label=\"Valid mean loss\")\n",
    "plot1.legend(loc=\"best\")\n",
    "\n",
    "plot2.plot(valid_acc_list,label=\"Vallid accuracy\")\n",
    "plot2.legend()"
   ]
  }
 ],
 "metadata": {
  "kernelspec": {
   "display_name": "netenv",
   "language": "python",
   "name": "netenv"
  },
  "language_info": {
   "codemirror_mode": {
    "name": "ipython",
    "version": 3
   },
   "file_extension": ".py",
   "mimetype": "text/x-python",
   "name": "python",
   "nbconvert_exporter": "python",
   "pygments_lexer": "ipython3",
   "version": "3.8.8"
  }
 },
 "nbformat": 4,
 "nbformat_minor": 1
}
